{
 "cells": [
  {
   "cell_type": "code",
   "execution_count": 1,
   "metadata": {},
   "outputs": [],
   "source": [
    "import os\n",
    "import random\n",
    "import numpy as np\n",
    "import pandas as pd\n",
    "from tqdm import tqdm\n",
    "import re\n",
    "import json\n",
    "\n",
    "import evaluate\n",
    "import torch\n",
    "from torch.utils.data import Dataset, DataLoader\n",
    "\n",
    "from transformers import (\n",
    "    AutoModelForSequenceClassification, \n",
    "    AutoTokenizer,\n",
    "    AutoModelForCausalLM\n",
    ")\n",
    "from transformers import DataCollatorWithPadding\n",
    "from transformers import TrainingArguments, Trainer\n",
    "\n",
    "from sklearn.metrics import f1_score\n",
    "from sklearn.model_selection import train_test_split\n",
    "\n",
    "# Seed Set\n",
    "SEED = 456\n",
    "random.seed(SEED)\n",
    "np.random.seed(SEED)\n",
    "torch.manual_seed(SEED)\n",
    "if torch.cuda.is_available():\n",
    "    torch.cuda.manual_seed(SEED)\n",
    "    torch.cuda.manual_seed_all(SEED)\n",
    "\n",
    "# 디바이스 설정 (GPU가 사용 가능하면 GPU를 사용하고, 그렇지 않으면 CPU 사용)\n",
    "DEVICE = torch.device('cuda') if torch.cuda.is_available() else torch.device('cpu')"
   ]
  },
  {
   "cell_type": "code",
   "execution_count": 59,
   "metadata": {},
   "outputs": [
    {
     "data": {
      "text/html": [
       "<div>\n",
       "<style scoped>\n",
       "    .dataframe tbody tr th:only-of-type {\n",
       "        vertical-align: middle;\n",
       "    }\n",
       "\n",
       "    .dataframe tbody tr th {\n",
       "        vertical-align: top;\n",
       "    }\n",
       "\n",
       "    .dataframe thead th {\n",
       "        text-align: right;\n",
       "    }\n",
       "</style>\n",
       "<table border=\"1\" class=\"dataframe\">\n",
       "  <thead>\n",
       "    <tr style=\"text-align: right;\">\n",
       "      <th></th>\n",
       "      <th>ID</th>\n",
       "      <th>text</th>\n",
       "      <th>target</th>\n",
       "      <th>ascii_counts</th>\n",
       "      <th>non_ascii_counts</th>\n",
       "      <th>ratio</th>\n",
       "    </tr>\n",
       "  </thead>\n",
       "  <tbody>\n",
       "    <tr>\n",
       "      <th>0</th>\n",
       "      <td>ynat-v1_train_00003</td>\n",
       "      <td>갤노트8 주말 27만대 개통…시장은 불법 보조금 얼룩</td>\n",
       "      <td>5</td>\n",
       "      <td>3</td>\n",
       "      <td>26</td>\n",
       "      <td>10.34</td>\n",
       "    </tr>\n",
       "    <tr>\n",
       "      <th>1</th>\n",
       "      <td>ynat-v1_train_00005</td>\n",
       "      <td>美성인 6명 중 1명꼴 배우자·연인 빚 떠안은 적 있다</td>\n",
       "      <td>0</td>\n",
       "      <td>2</td>\n",
       "      <td>28</td>\n",
       "      <td>6.67</td>\n",
       "    </tr>\n",
       "    <tr>\n",
       "      <th>2</th>\n",
       "      <td>ynat-v1_train_00007</td>\n",
       "      <td>아가메즈 33득점 우리카드 KB손해보험 완파…3위 굳...</td>\n",
       "      <td>4</td>\n",
       "      <td>8</td>\n",
       "      <td>24</td>\n",
       "      <td>25.00</td>\n",
       "    </tr>\n",
       "    <tr>\n",
       "      <th>3</th>\n",
       "      <td>ynat-v1_train_00008</td>\n",
       "      <td>朴대통령 얼마나 많이 놀라셨어요…경주 지진현장 방문종합</td>\n",
       "      <td>6</td>\n",
       "      <td>0</td>\n",
       "      <td>30</td>\n",
       "      <td>0.00</td>\n",
       "    </tr>\n",
       "    <tr>\n",
       "      <th>4</th>\n",
       "      <td>ynat-v1_train_00009</td>\n",
       "      <td>듀얼심 아이폰 하반기 출시설 솔솔…알뜰폰 기대감</td>\n",
       "      <td>4</td>\n",
       "      <td>0</td>\n",
       "      <td>26</td>\n",
       "      <td>0.00</td>\n",
       "    </tr>\n",
       "    <tr>\n",
       "      <th>...</th>\n",
       "      <td>...</td>\n",
       "      <td>...</td>\n",
       "      <td>...</td>\n",
       "      <td>...</td>\n",
       "      <td>...</td>\n",
       "      <td>...</td>\n",
       "    </tr>\n",
       "    <tr>\n",
       "      <th>1499</th>\n",
       "      <td>ynat-v1_train_02794</td>\n",
       "      <td>문 대통령 김기식 금감원장 사표 수리키로종합</td>\n",
       "      <td>2</td>\n",
       "      <td>0</td>\n",
       "      <td>24</td>\n",
       "      <td>0.00</td>\n",
       "    </tr>\n",
       "    <tr>\n",
       "      <th>1500</th>\n",
       "      <td>ynat-v1_train_02795</td>\n",
       "      <td>트럼프 폭스뉴스 앵커들 충성도 점수매겨…10점만점에 12점도</td>\n",
       "      <td>6</td>\n",
       "      <td>4</td>\n",
       "      <td>29</td>\n",
       "      <td>12.12</td>\n",
       "    </tr>\n",
       "    <tr>\n",
       "      <th>1501</th>\n",
       "      <td>ynat-v1_train_02796</td>\n",
       "      <td>삼성 갤럭시S9 정식 출시 첫 주말 이통시장 잠잠</td>\n",
       "      <td>2</td>\n",
       "      <td>2</td>\n",
       "      <td>25</td>\n",
       "      <td>7.41</td>\n",
       "    </tr>\n",
       "    <tr>\n",
       "      <th>1502</th>\n",
       "      <td>ynat-v1_train_02798</td>\n",
       "      <td>인터뷰 류현진 친구에게 안타 맞는 것 싫어해…승부는 냉정</td>\n",
       "      <td>1</td>\n",
       "      <td>0</td>\n",
       "      <td>31</td>\n",
       "      <td>0.00</td>\n",
       "    </tr>\n",
       "    <tr>\n",
       "      <th>1503</th>\n",
       "      <td>ynat-v1_train_02799</td>\n",
       "      <td>지능정보사회 대비 국가 종합대책 마련</td>\n",
       "      <td>4</td>\n",
       "      <td>0</td>\n",
       "      <td>20</td>\n",
       "      <td>0.00</td>\n",
       "    </tr>\n",
       "  </tbody>\n",
       "</table>\n",
       "<p>1504 rows × 6 columns</p>\n",
       "</div>"
      ],
      "text/plain": [
       "                       ID                               text  target  \\\n",
       "0     ynat-v1_train_00003      갤노트8 주말 27만대 개통…시장은 불법 보조금 얼룩       5   \n",
       "1     ynat-v1_train_00005     美성인 6명 중 1명꼴 배우자·연인 빚 떠안은 적 있다       0   \n",
       "2     ynat-v1_train_00007   아가메즈 33득점 우리카드 KB손해보험 완파…3위 굳...       4   \n",
       "3     ynat-v1_train_00008     朴대통령 얼마나 많이 놀라셨어요…경주 지진현장 방문종합       6   \n",
       "4     ynat-v1_train_00009         듀얼심 아이폰 하반기 출시설 솔솔…알뜰폰 기대감       4   \n",
       "...                   ...                                ...     ...   \n",
       "1499  ynat-v1_train_02794           문 대통령 김기식 금감원장 사표 수리키로종합       2   \n",
       "1500  ynat-v1_train_02795  트럼프 폭스뉴스 앵커들 충성도 점수매겨…10점만점에 12점도       6   \n",
       "1501  ynat-v1_train_02796        삼성 갤럭시S9 정식 출시 첫 주말 이통시장 잠잠       2   \n",
       "1502  ynat-v1_train_02798    인터뷰 류현진 친구에게 안타 맞는 것 싫어해…승부는 냉정       1   \n",
       "1503  ynat-v1_train_02799               지능정보사회 대비 국가 종합대책 마련       4   \n",
       "\n",
       "      ascii_counts  non_ascii_counts  ratio  \n",
       "0                3                26  10.34  \n",
       "1                2                28   6.67  \n",
       "2                8                24  25.00  \n",
       "3                0                30   0.00  \n",
       "4                0                26   0.00  \n",
       "...            ...               ...    ...  \n",
       "1499             0                24   0.00  \n",
       "1500             4                29  12.12  \n",
       "1501             2                25   7.41  \n",
       "1502             0                31   0.00  \n",
       "1503             0                20   0.00  \n",
       "\n",
       "[1504 rows x 6 columns]"
      ]
     },
     "execution_count": 59,
     "metadata": {},
     "output_type": "execute_result"
    }
   ],
   "source": [
    "data_path = os.path.join(\"..\",\"..\",\"data\",\"v0.1\",\"train_Label_noise_data_ascii.csv\")\n",
    "data = pd.read_csv(data_path)\n",
    "data = data.drop(columns=[\"Unnamed: 0\"])\n",
    "data"
   ]
  },
  {
   "cell_type": "markdown",
   "metadata": {},
   "source": [
    "# SentenceBERT with Kmeans"
   ]
  },
  {
   "cell_type": "code",
   "execution_count": 111,
   "metadata": {},
   "outputs": [],
   "source": [
    "# Sentence BERT를 이용한 KMeans Clustering\n",
    "from sentence_transformers import SentenceTransformer\n",
    "#\"snunlp/KR-SBERT-Medium-extended-patent2024-hn\"\n",
    "#\"jhgan/ko-sroberta-multitask\"\n",
    "model_path = \"sinjy1203/ko-sbert-navernews\" # most likes\n",
    "model = SentenceTransformer(model_path)"
   ]
  },
  {
   "cell_type": "code",
   "execution_count": 112,
   "metadata": {},
   "outputs": [
    {
     "data": {
      "text/plain": [
       "(1504, 768)"
      ]
     },
     "execution_count": 112,
     "metadata": {},
     "output_type": "execute_result"
    }
   ],
   "source": [
    "corpus_embeddings = model.encode(data[\"text\"])\n",
    "corpus_embeddings.shape"
   ]
  },
  {
   "cell_type": "code",
   "execution_count": 124,
   "metadata": {},
   "outputs": [],
   "source": [
    "from sklearn.cluster import KMeans\n",
    "k = 3\n",
    "kmeans = KMeans(n_clusters=7, random_state=456).fit(corpus_embeddings)\n",
    "cls_dist=pd.Series(kmeans.labels_).value_counts()"
   ]
  },
  {
   "cell_type": "code",
   "execution_count": 125,
   "metadata": {},
   "outputs": [
    {
     "data": {
      "text/plain": [
       "6    375\n",
       "3    255\n",
       "2    247\n",
       "5    226\n",
       "0    185\n",
       "1    160\n",
       "4     56\n",
       "Name: count, dtype: int64"
      ]
     },
     "execution_count": 125,
     "metadata": {},
     "output_type": "execute_result"
    }
   ],
   "source": [
    "cls_dist"
   ]
  },
  {
   "cell_type": "code",
   "execution_count": 126,
   "metadata": {},
   "outputs": [],
   "source": [
    "import matplotlib.pyplot as plt\n",
    "import umap\n",
    "import scipy"
   ]
  },
  {
   "cell_type": "code",
   "execution_count": 127,
   "metadata": {},
   "outputs": [
    {
     "name": "stdout",
     "output_type": "stream",
     "text": [
      "Cluster\t\tSize\t\tCenter-idx\t\tCenter-Example\n",
      "0\t\t185\t\t276\t\t11월 주식 발행액 전월비 60% 증가…IPO·유상증자↑\n",
      "1\t\t160\t\t632\t\t朴대통령 국회가 법막고 -떻oj,민지X 호소하$가종합\n",
      "2\t\t247\t\t135\t\t임도헌 감독 젊은 선수들 자신감 얻었다…내년 1월 진짜 승부\n",
      "3\t\t255\t\t163\t\t아랍권 반D란\"정상회의 5춰 (\\s& 이란 맹9종합\n",
      "4\t\t56\t\t637\t\t충북 말복 더위 지속…강한 소나기 주의\n",
      "5\t\t226\t\t1095\t\t이통Y사f갤럭시탭Sr 오늘w터L사전예약 시작\n",
      "6\t\t375\t\t1037\t\t백낙청이 말하는 더 나은 세상…회화록 6∼7권 출간\n"
     ]
    }
   ],
   "source": [
    "distances = scipy.spatial.distance.cdist(kmeans.cluster_centers_,corpus_embeddings)\n",
    "centers={}\n",
    "print(\"Cluster\", \"Size\", \"Center-idx\",\"Center-Example\", sep=\"\\t\\t\")\n",
    "for i,d in enumerate(distances):\n",
    "    ind = np.argsort(d, axis=0)[0]\n",
    "    centers[i]=ind\n",
    "    print(i,cls_dist[i], ind, data[\"text\"][ind] ,sep=\"\\t\\t\")"
   ]
  },
  {
   "cell_type": "code",
   "execution_count": 128,
   "metadata": {},
   "outputs": [
    {
     "name": "stdout",
     "output_type": "stream",
     "text": [
      "[5 6 2 ... 5 2 5]\n",
      "[18.564224  12.88884    1.6428605 ... 18.462502  -1.1867388 16.778566 ]\n"
     ]
    },
    {
     "data": {
      "text/plain": [
       "<module 'matplotlib.pyplot' from '/opt/conda/lib/python3.10/site-packages/matplotlib/pyplot.py'>"
      ]
     },
     "execution_count": 128,
     "metadata": {},
     "output_type": "execute_result"
    },
    {
     "data": {
      "image/png": "[encoded data removed]",
      "text/plain": [
       "<Figure size 700x700 with 1 Axes>"
      ]
     },
     "metadata": {},
     "output_type": "display_data"
    }
   ],
   "source": [
    "X = umap.UMAP(n_components=2, min_dist=0.0).fit_transform(corpus_embeddings)\n",
    "labels = kmeans.labels_\n",
    "print(labels)\n",
    "fig, ax = plt.subplots(figsize=(7,7))\n",
    "\n",
    "print(X[:,0])\n",
    "plt.scatter(X[:,0], X[:,1], c=labels, s=1, cmap=\"Paired\")\n",
    "\n",
    "for c in centers:\n",
    "    plt.text(X[centers[c], 0], X[centers[c],1], \"CLS-\"+str(c), fontsize=18)\n",
    "plt"
   ]
  },
  {
   "cell_type": "code",
   "execution_count": 129,
   "metadata": {},
   "outputs": [],
   "source": [
    "# post processing\n",
    "# 노이즈가 적은 데이터 중에 label들을 모아서 해당 하는 인덱스의 라벨대로 다 바꿔주는 것\n",
    "data = data[[\"ID\",\"text\",\"target\",\"ratio\"]]\n",
    "label0 = data[data[\"target\"] == 0]\n",
    "label1 = data[data[\"target\"] == 1]\n",
    "label2 = data[data[\"target\"] == 2]\n",
    "label3 = data[data[\"target\"] == 3]\n",
    "label4 = data[data[\"target\"] == 4]\n",
    "label5 = data[data[\"target\"] == 5]\n",
    "label6 = data[data[\"target\"] == 6]"
   ]
  },
  {
   "cell_type": "code",
   "execution_count": 130,
   "metadata": {},
   "outputs": [],
   "source": [
    "noise_0 = label0[label0[\"ratio\"]>25].iloc[1][\"ID\"]\n",
    "noise_1 = label1[label1[\"ratio\"]>25].iloc[1][\"ID\"]\n",
    "noise_2 = label2[label2[\"ratio\"]>25].iloc[0][\"ID\"]\n",
    "noise_3 = label3[label3[\"ratio\"]>25].iloc[0][\"ID\"]\n",
    "noise_4 = label4[label4[\"ratio\"]>25].iloc[0][\"ID\"]\n",
    "noise_5 = label5[label5[\"ratio\"]>25].iloc[0][\"ID\"]\n",
    "noise_6 = label6[label6[\"ratio\"]>25].iloc[0][\"ID\"]"
   ]
  },
  {
   "cell_type": "code",
   "execution_count": 131,
   "metadata": {},
   "outputs": [
    {
     "name": "stdout",
     "output_type": "stream",
     "text": [
      "60    4\n",
      "Name: relabeled, dtype: int32\n",
      "184    2\n",
      "Name: relabeled, dtype: int32\n",
      "35    1\n",
      "Name: relabeled, dtype: int32\n",
      "14    6\n",
      "Name: relabeled, dtype: int32\n",
      "65    5\n",
      "Name: relabeled, dtype: int32\n",
      "188    0\n",
      "Name: relabeled, dtype: int32\n",
      "163    3\n",
      "Name: relabeled, dtype: int32\n"
     ]
    }
   ],
   "source": [
    "data[\"relabeled\"] = kmeans.labels_\n",
    "print(data[data[\"ID\"]==noise_0][\"relabeled\"])\n",
    "print(data[data[\"ID\"]==noise_1][\"relabeled\"])\n",
    "print(data[data[\"ID\"]==noise_2][\"relabeled\"])\n",
    "print(data[data[\"ID\"]==noise_3][\"relabeled\"])\n",
    "print(data[data[\"ID\"]==noise_4][\"relabeled\"])\n",
    "print(data[data[\"ID\"]==noise_5][\"relabeled\"])\n",
    "print(data[data[\"ID\"]==noise_6][\"relabeled\"])"
   ]
  },
  {
   "cell_type": "markdown",
   "metadata": {},
   "source": [
    "각 라벨에 해당하는 noise 데이터들이 겹치지 않는 것을 확인  \n",
    "따라서 다음과 같이 라벨을 mapping  \n",
    "4 -> 0  \n",
    "2 -> 1  \n",
    "1 -> 2  \n",
    "6 -> 3  \n",
    "5 -> 4  \n",
    "0 -> 5  \n",
    "3 -> 6  "
   ]
  },
  {
   "cell_type": "code",
   "execution_count": 135,
   "metadata": {},
   "outputs": [
    {
     "name": "stdout",
     "output_type": "stream",
     "text": [
      "3    375\n",
      "6    255\n",
      "1    247\n",
      "4    226\n",
      "5    185\n",
      "2    160\n",
      "0     56\n",
      "Name: count, dtype: int64\n",
      "6    375\n",
      "3    255\n",
      "2    247\n",
      "5    226\n",
      "0    185\n",
      "1    160\n",
      "4     56\n",
      "Name: count, dtype: int64\n"
     ]
    }
   ],
   "source": [
    "def transform_values(input_list):\n",
    "    # 매핑 딕셔너리 정의\n",
    "    mapping = {\n",
    "        4: 0,\n",
    "        2: 1,\n",
    "        1: 2,\n",
    "        6: 3,\n",
    "        5: 4,\n",
    "        0: 5,\n",
    "        3: 6\n",
    "    }\n",
    "    \n",
    "    # 입력 리스트의 각 요소를 매핑 딕셔너리를 사용해 변환\n",
    "    transformed_list = [mapping.get(value, value) for value in input_list]\n",
    "    return transformed_list\n",
    "relabeled_mapping_list = transform_values(kmeans.labels_)\n",
    "cls_dist_re=pd.Series(relabeled_mapping_list).value_counts()\n",
    "print(cls_dist_re)\n",
    "print(cls_dist)"
   ]
  },
  {
   "cell_type": "code",
   "execution_count": 136,
   "metadata": {},
   "outputs": [],
   "source": [
    "data[\"relabeled\"] = relabeled_mapping_list"
   ]
  },
  {
   "cell_type": "code",
   "execution_count": 141,
   "metadata": {},
   "outputs": [
    {
     "name": "stderr",
     "output_type": "stream",
     "text": [
      "/tmp/ipykernel_1022090/388443149.py:2: SettingWithCopyWarning: \n",
      "A value is trying to be set on a copy of a slice from a DataFrame\n",
      "\n",
      "See the caveats in the documentation: https://pandas.pydata.org/pandas-docs/stable/user_guide/indexing.html#returning-a-view-versus-a-copy\n",
      "  out_csv.rename(columns={\"relabeled\":\"target\"}, inplace=True)\n"
     ]
    }
   ],
   "source": [
    "out_csv = data[[\"ID\",\"text\",\"relabeled\"]]\n",
    "out_csv.rename(columns={\"relabeled\":\"target\"}, inplace=True)\n",
    "out_csv.to_csv(os.path.join(\"..\",\"..\",\"data\",\"v0.1\",\"relabeled_using_SBERT.csv\"),encoding=\"utf-8-sig\")"
   ]
  },
  {
   "cell_type": "markdown",
   "metadata": {},
   "source": [
    "# CleanLab"
   ]
  },
  {
   "cell_type": "markdown",
   "metadata": {},
   "source": [
    "CleanLab을 사용해서 Label Noise 검사"
   ]
  },
  {
   "cell_type": "code",
   "execution_count": null,
   "metadata": {},
   "outputs": [],
   "source": []
  }
 ],
 "metadata": {
  "kernelspec": {
   "display_name": "base",
   "language": "python",
   "name": "python3"
  },
  "language_info": {
   "codemirror_mode": {
    "name": "ipython",
    "version": 3
   },
   "file_extension": ".py",
   "mimetype": "text/x-python",
   "name": "python",
   "nbconvert_exporter": "python",
   "pygments_lexer": "ipython3",
   "version": "3.10.13"
  }
 },
 "nbformat": 4,
 "nbformat_minor": 2
}
