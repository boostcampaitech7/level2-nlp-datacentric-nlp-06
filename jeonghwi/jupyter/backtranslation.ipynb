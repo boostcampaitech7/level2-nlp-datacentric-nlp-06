{
 "cells": [
  {
   "cell_type": "code",
   "execution_count": null,
   "metadata": {
    "vscode": {
     "languageId": "plaintext"
    }
   },
   "outputs": [],
   "source": [
    "from transformers import M2M100ForConditionalGeneration, NllbTokenizer"
   ]
  },
  {
   "cell_type": "code",
   "execution_count": null,
   "metadata": {
    "vscode": {
     "languageId": "plaintext"
    }
   },
   "outputs": [],
   "source": [
    "def translate(text, model, tokenizer, max_length=512):\n",
    "    # 입력 문장을 토큰화\n",
    "    inputs = tokenizer(text, return_tensors=\"pt\", padding=True)\n",
    "    # print(inputs[\"input_ids\"])\n",
    "    # 모델을 사용하여 번역\n",
    "    translated = model.generate(**inputs)\n",
    "    \n",
    "    # 번역된 결과를 텍스트로 디코딩\n",
    "    return [tokenizer.decode(t, skip_special_tokens=True) for t in translated][0]"
   ]
  },
  {
   "cell_type": "code",
   "execution_count": null,
   "metadata": {
    "vscode": {
     "languageId": "plaintext"
    }
   },
   "outputs": [],
   "source": [
    "import pandas as pd\n",
    "data_path = os.path.join(\"..\",\"..\",\"data\",\"v0.1\")\n",
    "data = pd.read_csv(os.path.join(data_path,\"train.csv\"))\n",
    "data = data.drop(columns=[\"Unnamed: 0\"])\n",
    "data"
   ]
  },
  {
   "cell_type": "code",
   "execution_count": null,
   "metadata": {
    "vscode": {
     "languageId": "plaintext"
    }
   },
   "outputs": [],
   "source": [
    "# kor to en\n",
    "ids = []\n",
    "aug_t = []\n",
    "targets = []\n",
    "for i in range(len(data)):\n",
    "    original_frame = data.iloc[i]\n",
    "    original_id = original_frame[\"ID\"].split(\"_\")[-1]\n",
    "    original_text = original_frame[\"text\"]\n",
    "    original_target = original_frame[\"target\"]\n",
    "    \n",
    "    aug_id = \"augmented-v1_train_\"+original_id\n",
    "    aug_text_en = translate(original_text, ko_to_en_model, ko_to_en_tokenizer)\n",
    "    aug_text_ko = translate(aug_text_en, en_to_ko_model, en_to_ko_tokenizer)\n",
    "    aug_label = original_target\n",
    "\n",
    "    ids.append(aug_id)\n",
    "    aug_t.append(aug_text_ko)\n",
    "    targets.append(aug_label)\n",
    "\n",
    "print(\"Complete Backtranslation\")"
   ]
  },
  {
   "cell_type": "code",
   "execution_count": null,
   "metadata": {
    "vscode": {
     "languageId": "plaintext"
    }
   },
   "outputs": [],
   "source": []
  }
 ],
 "metadata": {
  "language_info": {
   "name": "python"
  }
 },
 "nbformat": 4,
 "nbformat_minor": 2
}
