{
 "cells": [
  {
   "cell_type": "markdown",
   "metadata": {},
   "source": [
    "# Fillmask + Relabeling"
   ]
  },
  {
   "cell_type": "code",
   "execution_count": 4,
   "metadata": {},
   "outputs": [],
   "source": [
    "import pandas as pd\n",
    "import os, sys\n",
    "\n",
    "data_path = os.path.join(\"..\",\"..\",\"data\",\"v0.1\")\n",
    "\n",
    "text_noise = pd.read_csv(os.path.join(data_path, \"train_Noise_fillmask_data.csv\"))\n",
    "text_noise = text_noise.drop(columns=[\"Unnamed: 0\"])\n",
    "label_noise = pd.read_csv(os.path.join(data_path, \"relabeled_using_SBERT.csv\"))\n",
    "label_noise = label_noise.drop(columns=[\"Unnamed: 0\"])"
   ]
  },
  {
   "cell_type": "code",
   "execution_count": 7,
   "metadata": {},
   "outputs": [],
   "source": [
    "merged_result = pd.concat([text_noise,label_noise])"
   ]
  },
  {
   "cell_type": "code",
   "execution_count": 10,
   "metadata": {},
   "outputs": [],
   "source": [
    "merged_result = merged_result.reset_index(drop=True)"
   ]
  },
  {
   "cell_type": "code",
   "execution_count": 12,
   "metadata": {},
   "outputs": [],
   "source": [
    "merged_result.to_csv(os.path.join(data_path,\"train.csv\"),encoding=\"utf-8-sig\")"
   ]
  },
  {
   "cell_type": "code",
   "execution_count": 14,
   "metadata": {},
   "outputs": [
    {
     "name": "stdout",
     "output_type": "stream",
     "text": [
      "Some weights of BertForSequenceClassification were not initialized from the model checkpoint at klue/bert-base and are newly initialized: ['classifier.bias', 'classifier.weight']\n",
      "You should probably TRAIN this model on a down-stream task to be able to use it for predictions and inference.\n",
      "Using the `WANDB_DISABLED` environment variable is deprecated and will be removed in v5. Use the --report_to flag to control the integrations used for logging result (for instance --report_to none).\n",
      "Detected kernel version 5.4.0, which is below the recommended minimum of 5.5.0; this can cause the process to hang. It is recommended to upgrade the kernel to the minimum version or higher.\n",
      "{'loss': 1.5194, 'grad_norm': 10.577591896057129, 'learning_rate': 1e-05, 'epoch': 1.0}\n",
      " 50%|█████████████████████                     | 70/140 [01:00<00:55,  1.25it/s]\n",
      "  0%|                                                    | 0/18 [00:00<?, ?it/s]\u001b[A\n",
      " 11%|████▉                                       | 2/18 [00:00<00:02,  6.92it/s]\u001b[A\n",
      " 17%|███████▎                                    | 3/18 [00:00<00:03,  4.88it/s]\u001b[A\n",
      " 22%|█████████▊                                  | 4/18 [00:00<00:03,  4.22it/s]\u001b[A\n",
      " 28%|████████████▏                               | 5/18 [00:01<00:03,  3.92it/s]\u001b[A\n",
      " 33%|██████████████▋                             | 6/18 [00:01<00:03,  3.75it/s]\u001b[A\n",
      " 39%|█████████████████                           | 7/18 [00:01<00:03,  3.65it/s]\u001b[A\n",
      " 44%|███████████████████▌                        | 8/18 [00:02<00:02,  3.58it/s]\u001b[A\n",
      " 50%|██████████████████████                      | 9/18 [00:02<00:02,  3.54it/s]\u001b[A\n",
      " 56%|███████████████████████▉                   | 10/18 [00:02<00:02,  3.51it/s]\u001b[A\n",
      " 61%|██████████████████████████▎                | 11/18 [00:02<00:02,  3.49it/s]\u001b[A\n",
      " 67%|████████████████████████████▋              | 12/18 [00:03<00:01,  3.48it/s]\u001b[A\n",
      " 72%|███████████████████████████████            | 13/18 [00:03<00:01,  3.46it/s]\u001b[A\n",
      " 78%|█████████████████████████████████▍         | 14/18 [00:03<00:01,  3.46it/s]\u001b[A\n",
      " 83%|███████████████████████████████████▊       | 15/18 [00:04<00:00,  3.46it/s]\u001b[A\n",
      " 89%|██████████████████████████████████████▏    | 16/18 [00:04<00:00,  3.45it/s]\u001b[A\n",
      " 94%|████████████████████████████████████████▌  | 17/18 [00:04<00:00,  3.47it/s]\u001b[A\n",
      "                                                                                \u001b[A\n",
      "\u001b[A{'eval_loss': 1.081797480583191, 'eval_f1': 0.6804361909247837, 'eval_runtime': 5.0803, 'eval_samples_per_second': 109.837, 'eval_steps_per_second': 3.543, 'epoch': 1.0}\n",
      " 50%|█████████████████████                     | 70/140 [01:05<00:55,  1.25it/s]\n",
      "100%|███████████████████████████████████████████| 18/18 [00:04<00:00,  4.14it/s]\u001b[A\n",
      "{'loss': 0.9298, 'grad_norm': 9.66075325012207, 'learning_rate': 0.0, 'epoch': 2.0}\n",
      "100%|█████████████████████████████████████████| 140/140 [02:11<00:00,  1.25it/s]\n",
      "  0%|                                                    | 0/18 [00:00<?, ?it/s]\u001b[A\n",
      " 11%|████▉                                       | 2/18 [00:00<00:02,  6.95it/s]\u001b[A\n",
      " 17%|███████▎                                    | 3/18 [00:00<00:03,  4.91it/s]\u001b[A\n",
      " 22%|█████████▊                                  | 4/18 [00:00<00:03,  4.25it/s]\u001b[A\n",
      " 28%|████████████▏                               | 5/18 [00:01<00:03,  3.94it/s]\u001b[A\n",
      " 33%|██████████████▋                             | 6/18 [00:01<00:03,  3.77it/s]\u001b[A\n",
      " 39%|█████████████████                           | 7/18 [00:01<00:03,  3.66it/s]\u001b[A\n",
      " 44%|███████████████████▌                        | 8/18 [00:02<00:02,  3.60it/s]\u001b[A\n",
      " 50%|██████████████████████                      | 9/18 [00:02<00:02,  3.55it/s]\u001b[A\n",
      " 56%|███████████████████████▉                   | 10/18 [00:02<00:02,  3.52it/s]\u001b[A\n",
      " 61%|██████████████████████████▎                | 11/18 [00:02<00:01,  3.50it/s]\u001b[A\n",
      " 67%|████████████████████████████▋              | 12/18 [00:03<00:01,  3.49it/s]\u001b[A\n",
      " 72%|███████████████████████████████            | 13/18 [00:03<00:01,  3.48it/s]\u001b[A\n",
      " 78%|█████████████████████████████████▍         | 14/18 [00:03<00:01,  3.47it/s]\u001b[A\n",
      " 83%|███████████████████████████████████▊       | 15/18 [00:04<00:00,  3.46it/s]\u001b[A\n",
      " 89%|██████████████████████████████████████▏    | 16/18 [00:04<00:00,  3.46it/s]\u001b[A\n",
      " 94%|████████████████████████████████████████▌  | 17/18 [00:04<00:00,  3.47it/s]\u001b[A\n",
      "                                                                                \u001b[A\n",
      "\u001b[A{'eval_loss': 0.9306764006614685, 'eval_f1': 0.707962358026749, 'eval_runtime': 5.0575, 'eval_samples_per_second': 110.331, 'eval_steps_per_second': 3.559, 'epoch': 2.0}\n",
      "100%|█████████████████████████████████████████| 140/140 [02:16<00:00,  1.25it/s]\n",
      "100%|███████████████████████████████████████████| 18/18 [00:04<00:00,  4.15it/s]\u001b[A\n",
      "{'train_runtime': 147.4044, 'train_samples_per_second': 30.27, 'train_steps_per_second': 0.95, 'train_loss': 1.2245918818882533, 'epoch': 2.0}\n",
      "100%|█████████████████████████████████████████| 140/140 [02:27<00:00,  1.05s/it]\n",
      "Evaluating: 100%|█████████████████████████████| 558/558 [00:06<00:00, 89.95it/s]\n",
      "Saved predictions to ../../data/v0.1/valid_output.csv\n"
     ]
    }
   ],
   "source": [
    "!python ../main.py --data \"../../data/v0.1\" --mode train"
   ]
  },
  {
   "cell_type": "code",
   "execution_count": null,
   "metadata": {},
   "outputs": [
    {
     "name": "stdout",
     "output_type": "stream",
     "text": [
      "Evaluating: 100%|█████████████████████████| 30000/30000 [05:25<00:00, 92.15it/s]\n",
      "Saved predictions to ../../data/test_output.csv\n"
     ]
    },
    {
     "ename": "",
     "evalue": "",
     "output_type": "error",
     "traceback": [
      "\u001b[1;31mThe Kernel crashed while executing code in the current cell or a previous cell. \n",
      "\u001b[1;31mPlease review the code in the cell(s) to identify a possible cause of the failure. \n",
      "\u001b[1;31mClick <a href='https://aka.ms/vscodeJupyterKernelCrash'>here</a> for more info. \n",
      "\u001b[1;31mView Jupyter <a href='command:jupyter.viewOutput'>log</a> for further details."
     ]
    }
   ],
   "source": [
    "!python ../main.py --data \"../../data\" --mode test"
   ]
  },
  {
   "cell_type": "markdown",
   "metadata": {},
   "source": [
    "# Mask + Relabeling + raw data (pollution 30% up)"
   ]
  },
  {
   "cell_type": "markdown",
   "metadata": {},
   "source": []
  }
 ],
 "metadata": {
  "kernelspec": {
   "display_name": "base",
   "language": "python",
   "name": "python3"
  },
  "language_info": {
   "codemirror_mode": {
    "name": "ipython",
    "version": 3
   },
   "file_extension": ".py",
   "mimetype": "text/x-python",
   "name": "python",
   "nbconvert_exporter": "python",
   "pygments_lexer": "ipython3",
   "version": "3.10.13"
  }
 },
 "nbformat": 4,
 "nbformat_minor": 2
}
