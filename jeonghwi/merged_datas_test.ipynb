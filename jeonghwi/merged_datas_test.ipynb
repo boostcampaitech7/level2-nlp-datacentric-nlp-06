{
 "cells": [
  {
   "cell_type": "markdown",
   "metadata": {},
   "source": [
    "# Fillmask + Relabeling"
   ]
  },
  {
   "cell_type": "code",
   "execution_count": 4,
   "metadata": {},
   "outputs": [],
   "source": [
    "import pandas as pd\n",
    "import os, sys\n",
    "\n",
    "data_path = os.path.join(\"..\",\"..\",\"data\",\"v0.1\")\n",
    "\n",
    "text_noise = pd.read_csv(os.path.join(data_path, \"train_Noise_fillmask_data.csv\"))\n",
    "text_noise = text_noise.drop(columns=[\"Unnamed: 0\"])\n",
    "label_noise = pd.read_csv(os.path.join(data_path, \"relabeled_using_SBERT.csv\"))\n",
    "label_noise = label_noise.drop(columns=[\"Unnamed: 0\"])"
   ]
  },
  {
   "cell_type": "code",
   "execution_count": 7,
   "metadata": {},
   "outputs": [],
   "source": [
    "merged_result = pd.concat([text_noise,label_noise])"
   ]
  },
  {
   "cell_type": "code",
   "execution_count": 10,
   "metadata": {},
   "outputs": [],
   "source": [
    "merged_result = merged_result.reset_index(drop=True)"
   ]
  },
  {
   "cell_type": "code",
   "execution_count": 12,
   "metadata": {},
   "outputs": [],
   "source": [
    "merged_result.to_csv(os.path.join(data_path,\"train.csv\"),encoding=\"utf-8-sig\")"
   ]
  },
  {
   "cell_type": "code",
   "execution_count": 14,
   "metadata": {},
   "outputs": [
    {
     "name": "stdout",
     "output_type": "stream",
     "text": [
      "Some weights of BertForSequenceClassification were not initialized from the model checkpoint at klue/bert-base and are newly initialized: ['classifier.bias', 'classifier.weight']\n",
      "You should probably TRAIN this model on a down-stream task to be able to use it for predictions and inference.\n",
      "Using the `WANDB_DISABLED` environment variable is deprecated and will be removed in v5. Use the --report_to flag to control the integrations used for logging result (for instance --report_to none).\n",
      "Detected kernel version 5.4.0, which is below the recommended minimum of 5.5.0; this can cause the process to hang. It is recommended to upgrade the kernel to the minimum version or higher.\n",
      "{'loss': 1.5194, 'grad_norm': 10.577591896057129, 'learning_rate': 1e-05, 'epoch': 1.0}\n",
      " 50%|█████████████████████                     | 70/140 [01:00<00:55,  1.25it/s]\n",
      "  0%|                                                    | 0/18 [00:00<?, ?it/s]\u001b[A\n",
      " 11%|████▉                                       | 2/18 [00:00<00:02,  6.92it/s]\u001b[A\n",
      " 17%|███████▎                                    | 3/18 [00:00<00:03,  4.88it/s]\u001b[A\n",
      " 22%|█████████▊                                  | 4/18 [00:00<00:03,  4.22it/s]\u001b[A\n",
      " 28%|████████████▏                               | 5/18 [00:01<00:03,  3.92it/s]\u001b[A\n",
      " 33%|██████████████▋                             | 6/18 [00:01<00:03,  3.75it/s]\u001b[A\n",
      " 39%|█████████████████                           | 7/18 [00:01<00:03,  3.65it/s]\u001b[A\n",
      " 44%|███████████████████▌                        | 8/18 [00:02<00:02,  3.58it/s]\u001b[A\n",
      " 50%|██████████████████████                      | 9/18 [00:02<00:02,  3.54it/s]\u001b[A\n",
      " 56%|███████████████████████▉                   | 10/18 [00:02<00:02,  3.51it/s]\u001b[A\n",
      " 61%|██████████████████████████▎                | 11/18 [00:02<00:02,  3.49it/s]\u001b[A\n",
      " 67%|████████████████████████████▋              | 12/18 [00:03<00:01,  3.48it/s]\u001b[A\n",
      " 72%|███████████████████████████████            | 13/18 [00:03<00:01,  3.46it/s]\u001b[A\n",
      " 78%|█████████████████████████████████▍         | 14/18 [00:03<00:01,  3.46it/s]\u001b[A\n",
      " 83%|███████████████████████████████████▊       | 15/18 [00:04<00:00,  3.46it/s]\u001b[A\n",
      " 89%|██████████████████████████████████████▏    | 16/18 [00:04<00:00,  3.45it/s]\u001b[A\n",
      " 94%|████████████████████████████████████████▌  | 17/18 [00:04<00:00,  3.47it/s]\u001b[A\n",
      "                                                                                \u001b[A\n",
      "\u001b[A{'eval_loss': 1.081797480583191, 'eval_f1': 0.6804361909247837, 'eval_runtime': 5.0803, 'eval_samples_per_second': 109.837, 'eval_steps_per_second': 3.543, 'epoch': 1.0}\n",
      " 50%|█████████████████████                     | 70/140 [01:05<00:55,  1.25it/s]\n",
      "100%|███████████████████████████████████████████| 18/18 [00:04<00:00,  4.14it/s]\u001b[A\n",
      "{'loss': 0.9298, 'grad_norm': 9.66075325012207, 'learning_rate': 0.0, 'epoch': 2.0}\n",
      "100%|█████████████████████████████████████████| 140/140 [02:11<00:00,  1.25it/s]\n",
      "  0%|                                                    | 0/18 [00:00<?, ?it/s]\u001b[A\n",
      " 11%|████▉                                       | 2/18 [00:00<00:02,  6.95it/s]\u001b[A\n",
      " 17%|███████▎                                    | 3/18 [00:00<00:03,  4.91it/s]\u001b[A\n",
      " 22%|█████████▊                                  | 4/18 [00:00<00:03,  4.25it/s]\u001b[A\n",
      " 28%|████████████▏                               | 5/18 [00:01<00:03,  3.94it/s]\u001b[A\n",
      " 33%|██████████████▋                             | 6/18 [00:01<00:03,  3.77it/s]\u001b[A\n",
      " 39%|█████████████████                           | 7/18 [00:01<00:03,  3.66it/s]\u001b[A\n",
      " 44%|███████████████████▌                        | 8/18 [00:02<00:02,  3.60it/s]\u001b[A\n",
      " 50%|██████████████████████                      | 9/18 [00:02<00:02,  3.55it/s]\u001b[A\n",
      " 56%|███████████████████████▉                   | 10/18 [00:02<00:02,  3.52it/s]\u001b[A\n",
      " 61%|██████████████████████████▎                | 11/18 [00:02<00:01,  3.50it/s]\u001b[A\n",
      " 67%|████████████████████████████▋              | 12/18 [00:03<00:01,  3.49it/s]\u001b[A\n",
      " 72%|███████████████████████████████            | 13/18 [00:03<00:01,  3.48it/s]\u001b[A\n",
      " 78%|█████████████████████████████████▍         | 14/18 [00:03<00:01,  3.47it/s]\u001b[A\n",
      " 83%|███████████████████████████████████▊       | 15/18 [00:04<00:00,  3.46it/s]\u001b[A\n",
      " 89%|██████████████████████████████████████▏    | 16/18 [00:04<00:00,  3.46it/s]\u001b[A\n",
      " 94%|████████████████████████████████████████▌  | 17/18 [00:04<00:00,  3.47it/s]\u001b[A\n",
      "                                                                                \u001b[A\n",
      "\u001b[A{'eval_loss': 0.9306764006614685, 'eval_f1': 0.707962358026749, 'eval_runtime': 5.0575, 'eval_samples_per_second': 110.331, 'eval_steps_per_second': 3.559, 'epoch': 2.0}\n",
      "100%|█████████████████████████████████████████| 140/140 [02:16<00:00,  1.25it/s]\n",
      "100%|███████████████████████████████████████████| 18/18 [00:04<00:00,  4.15it/s]\u001b[A\n",
      "{'train_runtime': 147.4044, 'train_samples_per_second': 30.27, 'train_steps_per_second': 0.95, 'train_loss': 1.2245918818882533, 'epoch': 2.0}\n",
      "100%|█████████████████████████████████████████| 140/140 [02:27<00:00,  1.05s/it]\n",
      "Evaluating: 100%|█████████████████████████████| 558/558 [00:06<00:00, 89.95it/s]\n",
      "Saved predictions to ../../data/v0.1/valid_output.csv\n"
     ]
    }
   ],
   "source": [
    "!python ../main.py --data \"../../data/v0.1\" --mode train"
   ]
  },
  {
   "cell_type": "code",
   "execution_count": null,
   "metadata": {},
   "outputs": [
    {
     "name": "stdout",
     "output_type": "stream",
     "text": [
      "Evaluating: 100%|█████████████████████████| 30000/30000 [05:25<00:00, 92.15it/s]\n",
      "Saved predictions to ../../data/test_output.csv\n"
     ]
    },
    {
     "ename": "",
     "evalue": "",
     "output_type": "error",
     "traceback": [
      "\u001b[1;31mThe Kernel crashed while executing code in the current cell or a previous cell. \n",
      "\u001b[1;31mPlease review the code in the cell(s) to identify a possible cause of the failure. \n",
      "\u001b[1;31mClick <a href='https://aka.ms/vscodeJupyterKernelCrash'>here</a> for more info. \n",
      "\u001b[1;31mView Jupyter <a href='command:jupyter.viewOutput'>log</a> for further details."
     ]
    }
   ],
   "source": [
    "!python ../main.py --data \"../../data\" --mode test"
   ]
  },
  {
   "cell_type": "markdown",
   "metadata": {},
   "source": [
    "# Relabeling + text filtering (pollution 25~30)"
   ]
  },
  {
   "cell_type": "markdown",
   "metadata": {},
   "source": [
    "pollution 30 under인 데이터에 한해 25~30 데이터 기반으로 학습"
   ]
  },
  {
   "cell_type": "code",
   "execution_count": 1,
   "metadata": {},
   "outputs": [
    {
     "name": "stdout",
     "output_type": "stream",
     "text": [
      "Some weights of BertForSequenceClassification were not initialized from the model checkpoint at klue/bert-base and are newly initialized: ['classifier.bias', 'classifier.weight']\n",
      "You should probably TRAIN this model on a down-stream task to be able to use it for predictions and inference.\n",
      "Using the `WANDB_DISABLED` environment variable is deprecated and will be removed in v5. Use the --report_to flag to control the integrations used for logging result (for instance --report_to none).\n",
      "Detected kernel version 5.4.0, which is below the recommended minimum of 5.5.0; this can cause the process to hang. It is recommended to upgrade the kernel to the minimum version or higher.\n",
      "{'loss': 1.5118, 'grad_norm': 6.792477130889893, 'learning_rate': 1e-05, 'epoch': 1.0}\n",
      " 50%|█████████████████████▌                     | 38/76 [00:32<00:29,  1.31it/s]\n",
      "  0%|                                                    | 0/10 [00:00<?, ?it/s]\u001b[A\n",
      " 20%|████████▊                                   | 2/10 [00:00<00:01,  6.97it/s]\u001b[A\n",
      " 30%|█████████████▏                              | 3/10 [00:00<00:01,  4.92it/s]\u001b[A\n",
      " 40%|█████████████████▌                          | 4/10 [00:00<00:01,  4.25it/s]\u001b[A\n",
      " 50%|██████████████████████                      | 5/10 [00:01<00:01,  3.94it/s]\u001b[A\n",
      " 60%|██████████████████████████▍                 | 6/10 [00:01<00:01,  3.77it/s]\u001b[A\n",
      " 70%|██████████████████████████████▊             | 7/10 [00:01<00:00,  3.67it/s]\u001b[A\n",
      " 80%|███████████████████████████████████▏        | 8/10 [00:02<00:00,  3.61it/s]\u001b[A\n",
      " 90%|███████████████████████████████████████▌    | 9/10 [00:02<00:00,  3.58it/s]\u001b[A\n",
      "                                                                                \u001b[A\n",
      "\u001b[A{'eval_loss': 1.052634835243225, 'eval_f1': 0.7724405215830117, 'eval_runtime': 2.7241, 'eval_samples_per_second': 110.496, 'eval_steps_per_second': 3.671, 'epoch': 1.0}\n",
      " 50%|█████████████████████▌                     | 38/76 [00:35<00:29,  1.31it/s]\n",
      "100%|███████████████████████████████████████████| 10/10 [00:02<00:00,  4.36it/s]\u001b[A\n",
      "{'loss': 0.8102, 'grad_norm': 6.067787170410156, 'learning_rate': 0.0, 'epoch': 2.0}\n",
      "100%|███████████████████████████████████████████| 76/76 [01:13<00:00,  1.31it/s]\n",
      "  0%|                                                    | 0/10 [00:00<?, ?it/s]\u001b[A\n",
      " 20%|████████▊                                   | 2/10 [00:00<00:01,  6.98it/s]\u001b[A\n",
      " 30%|█████████████▏                              | 3/10 [00:00<00:01,  4.92it/s]\u001b[A\n",
      " 40%|█████████████████▌                          | 4/10 [00:00<00:01,  4.26it/s]\u001b[A\n",
      " 50%|██████████████████████                      | 5/10 [00:01<00:01,  3.95it/s]\u001b[A\n",
      " 60%|██████████████████████████▍                 | 6/10 [00:01<00:01,  3.78it/s]\u001b[A\n",
      " 70%|██████████████████████████████▊             | 7/10 [00:01<00:00,  3.67it/s]\u001b[A\n",
      " 80%|███████████████████████████████████▏        | 8/10 [00:02<00:00,  3.61it/s]\u001b[A\n",
      " 90%|███████████████████████████████████████▌    | 9/10 [00:02<00:00,  3.58it/s]\u001b[A\n",
      "                                                                                \u001b[A\n",
      "\u001b[A{'eval_loss': 0.7430770993232727, 'eval_f1': 0.847323157975394, 'eval_runtime': 2.7149, 'eval_samples_per_second': 110.871, 'eval_steps_per_second': 3.683, 'epoch': 2.0}\n",
      "100%|███████████████████████████████████████████| 76/76 [01:15<00:00,  1.31it/s]\n",
      "100%|███████████████████████████████████████████| 10/10 [00:02<00:00,  4.37it/s]\u001b[A\n",
      "{'train_runtime': 78.2725, 'train_samples_per_second': 30.739, 'train_steps_per_second': 0.971, 'train_loss': 1.1610183213886462, 'epoch': 2.0}\n",
      "100%|███████████████████████████████████████████| 76/76 [01:18<00:00,  1.03s/it]\n",
      "Evaluating: 100%|█████████████████████████████| 301/301 [00:03<00:00, 91.24it/s]\n",
      "Saved predictions to ../../data/v0.1/valid_output.csv\n"
     ]
    }
   ],
   "source": [
    "!python ../main.py --data \"../../data/v0.1\" --mode train"
   ]
  },
  {
   "cell_type": "code",
   "execution_count": null,
   "metadata": {},
   "outputs": [
    {
     "name": "stdout",
     "output_type": "stream",
     "text": [
      "Evaluating: 100%|█████████████████████████| 30000/30000 [05:23<00:00, 92.77it/s]\n",
      "Saved predictions to ../../data/test_output.csv\n"
     ]
    },
    {
     "ename": "",
     "evalue": "",
     "output_type": "error",
     "traceback": [
      "\u001b[1;31mThe Kernel crashed while executing code in the current cell or a previous cell. \n",
      "\u001b[1;31mPlease review the code in the cell(s) to identify a possible cause of the failure. \n",
      "\u001b[1;31mClick <a href='https://aka.ms/vscodeJupyterKernelCrash'>here</a> for more info. \n",
      "\u001b[1;31mView Jupyter <a href='command:jupyter.viewOutput'>log</a> for further details."
     ]
    }
   ],
   "source": [
    "!python ../main.py --data \"../../data\" --mode test"
   ]
  },
  {
   "cell_type": "markdown",
   "metadata": {},
   "source": [
    "# Relabeling + text filtering + backtranslation"
   ]
  },
  {
   "cell_type": "code",
   "execution_count": 1,
   "metadata": {},
   "outputs": [
    {
     "name": "stdout",
     "output_type": "stream",
     "text": [
      "Some weights of BertForSequenceClassification were not initialized from the model checkpoint at klue/bert-base and are newly initialized: ['classifier.bias', 'classifier.weight']\n",
      "You should probably TRAIN this model on a down-stream task to be able to use it for predictions and inference.\n",
      "Using the `WANDB_DISABLED` environment variable is deprecated and will be removed in v5. Use the --report_to flag to control the integrations used for logging result (for instance --report_to none).\n",
      "Detected kernel version 5.4.0, which is below the recommended minimum of 5.5.0; this can cause the process to hang. It is recommended to upgrade the kernel to the minimum version or higher.\n",
      "{'loss': 1.186, 'grad_norm': 13.39545726776123, 'learning_rate': 1e-05, 'epoch': 1.0}\n",
      " 50%|█████████████████████                     | 76/152 [01:05<00:50,  1.51it/s]\n",
      "  0%|                                                    | 0/19 [00:00<?, ?it/s]\u001b[A\n",
      " 11%|████▋                                       | 2/19 [00:00<00:02,  6.89it/s]\u001b[A\n",
      " 16%|██████▉                                     | 3/19 [00:00<00:03,  4.87it/s]\u001b[A\n",
      " 21%|█████████▎                                  | 4/19 [00:00<00:03,  4.22it/s]\u001b[A\n",
      " 26%|███████████▌                                | 5/19 [00:01<00:03,  3.92it/s]\u001b[A\n",
      " 32%|█████████████▉                              | 6/19 [00:01<00:03,  3.75it/s]\u001b[A\n",
      " 37%|████████████████▏                           | 7/19 [00:01<00:03,  3.65it/s]\u001b[A\n",
      " 42%|██████████████████▌                         | 8/19 [00:02<00:03,  3.58it/s]\u001b[A\n",
      " 47%|████████████████████▊                       | 9/19 [00:02<00:02,  3.54it/s]\u001b[A\n",
      " 53%|██████████████████████▋                    | 10/19 [00:02<00:02,  3.51it/s]\u001b[A\n",
      " 58%|████████████████████████▉                  | 11/19 [00:02<00:02,  3.49it/s]\u001b[A\n",
      " 63%|███████████████████████████▏               | 12/19 [00:03<00:02,  3.47it/s]\u001b[A\n",
      " 68%|█████████████████████████████▍             | 13/19 [00:03<00:01,  3.46it/s]\u001b[A\n",
      " 74%|███████████████████████████████▋           | 14/19 [00:03<00:01,  3.46it/s]\u001b[A\n",
      " 79%|█████████████████████████████████▉         | 15/19 [00:04<00:01,  3.45it/s]\u001b[A\n",
      " 84%|████████████████████████████████████▏      | 16/19 [00:04<00:00,  3.45it/s]\u001b[A\n",
      " 89%|██████████████████████████████████████▍    | 17/19 [00:04<00:00,  3.45it/s]\u001b[A\n",
      " 95%|████████████████████████████████████████▋  | 18/19 [00:04<00:00,  3.45it/s]\u001b[A\n",
      "                                                                                \u001b[A\n",
      "\u001b[A{'eval_loss': 0.5411330461502075, 'eval_f1': 0.8967944945002984, 'eval_runtime': 5.4752, 'eval_samples_per_second': 109.951, 'eval_steps_per_second': 3.47, 'epoch': 1.0}\n",
      " 50%|█████████████████████                     | 76/152 [01:11<00:50,  1.51it/s]\n",
      "100%|███████████████████████████████████████████| 19/19 [00:05<00:00,  3.68it/s]\u001b[A\n",
      "{'loss': 0.461, 'grad_norm': 3.623566150665283, 'learning_rate': 0.0, 'epoch': 2.0}\n",
      "100%|█████████████████████████████████████████| 152/152 [02:28<00:00,  1.51it/s]\n",
      "  0%|                                                    | 0/19 [00:00<?, ?it/s]\u001b[A\n",
      " 11%|████▋                                       | 2/19 [00:00<00:02,  6.95it/s]\u001b[A\n",
      " 16%|██████▉                                     | 3/19 [00:00<00:03,  4.90it/s]\u001b[A\n",
      " 21%|█████████▎                                  | 4/19 [00:00<00:03,  4.25it/s]\u001b[A\n",
      " 26%|███████████▌                                | 5/19 [00:01<00:03,  3.93it/s]\u001b[A\n",
      " 32%|█████████████▉                              | 6/19 [00:01<00:03,  3.76it/s]\u001b[A\n",
      " 37%|████████████████▏                           | 7/19 [00:01<00:03,  3.66it/s]\u001b[A\n",
      " 42%|██████████████████▌                         | 8/19 [00:02<00:03,  3.59it/s]\u001b[A\n",
      " 47%|████████████████████▊                       | 9/19 [00:02<00:02,  3.55it/s]\u001b[A\n",
      " 53%|██████████████████████▋                    | 10/19 [00:02<00:02,  3.52it/s]\u001b[A\n",
      " 58%|████████████████████████▉                  | 11/19 [00:02<00:02,  3.50it/s]\u001b[A\n",
      " 63%|███████████████████████████▏               | 12/19 [00:03<00:02,  3.48it/s]\u001b[A\n",
      " 68%|█████████████████████████████▍             | 13/19 [00:03<00:01,  3.47it/s]\u001b[A\n",
      " 74%|███████████████████████████████▋           | 14/19 [00:03<00:01,  3.46it/s]\u001b[A\n",
      " 79%|█████████████████████████████████▉         | 15/19 [00:04<00:01,  3.46it/s]\u001b[A\n",
      " 84%|████████████████████████████████████▏      | 16/19 [00:04<00:00,  3.45it/s]\u001b[A\n",
      " 89%|██████████████████████████████████████▍    | 17/19 [00:04<00:00,  3.45it/s]\u001b[A\n",
      " 95%|████████████████████████████████████████▋  | 18/19 [00:04<00:00,  3.46it/s]\u001b[A\n",
      "                                                                                \u001b[A\n",
      "\u001b[A{'eval_loss': 0.3905116617679596, 'eval_f1': 0.9193885808691477, 'eval_runtime': 5.4557, 'eval_samples_per_second': 110.342, 'eval_steps_per_second': 3.483, 'epoch': 2.0}\n",
      "100%|█████████████████████████████████████████| 152/152 [02:34<00:00,  1.51it/s]\n",
      "100%|███████████████████████████████████████████| 19/19 [00:05<00:00,  3.68it/s]\u001b[A\n",
      "{'train_runtime': 165.4719, 'train_samples_per_second': 29.08, 'train_steps_per_second': 0.919, 'train_loss': 0.8234807315625643, 'epoch': 2.0}\n",
      "100%|█████████████████████████████████████████| 152/152 [02:45<00:00,  1.09s/it]\n",
      "Evaluating: 100%|█████████████████████████████| 602/602 [00:06<00:00, 90.41it/s]\n",
      "Saved predictions to ../../data/v0.2/valid_output.csv\n"
     ]
    }
   ],
   "source": [
    "!python ../main.py --data \"../../data/v0.2\" --mode train"
   ]
  },
  {
   "cell_type": "code",
   "execution_count": 3,
   "metadata": {},
   "outputs": [
    {
     "name": "stdout",
     "output_type": "stream",
     "text": [
      "Model_path exists\n",
      "Evaluating: 100%|█████████████████████████| 30000/30000 [05:24<00:00, 92.33it/s]\n",
      "Saved predictions to ../../data/test_output.csv\n"
     ]
    }
   ],
   "source": [
    "!python ../main.py --data \"../../data\" --mode test"
   ]
  },
  {
   "cell_type": "markdown",
   "metadata": {},
   "source": [
    "# relabeling + text filtering + backtrans(500) + gemma (700)"
   ]
  },
  {
   "cell_type": "code",
   "execution_count": 7,
   "metadata": {},
   "outputs": [],
   "source": [
    "import pandas as pd\n",
    "import os, sys\n",
    "\n",
    "data_path = os.path.join(\"..\",\"..\",\"data\")\n",
    "text_label_noise = pd.read_csv(os.path.join(data_path, \"v0.1\",\"train.csv\"))\n",
    "text_label_noise = text_label_noise.drop(columns=[\"Unnamed: 0\"])"
   ]
  },
  {
   "cell_type": "code",
   "execution_count": 18,
   "metadata": {},
   "outputs": [],
   "source": [
    "back_data = pd.read_csv(os.path.join(data_path, \"v0.2\",\"v01_backtrans.csv\"))\n",
    "back_data = back_data.drop(columns=[\"Unnamed: 0\"])\n",
    "back_data = back_data.iloc[1504:] # 1504개\n",
    "back_data = back_data.sample(500, random_state=456)"
   ]
  },
  {
   "cell_type": "code",
   "execution_count": 21,
   "metadata": {},
   "outputs": [],
   "source": [
    "gemma_data = pd.read_csv(os.path.join(data_path, \"v0.2\",\"gemma_gen.csv\"))\n",
    "gemma_data = gemma_data.drop(columns=[\"Unnamed: 0\"])"
   ]
  },
  {
   "cell_type": "code",
   "execution_count": 23,
   "metadata": {},
   "outputs": [],
   "source": [
    "concat_data = pd.concat([text_label_noise, back_data, gemma_data])\n",
    "concat_data = concat_data.sample(frac=1)"
   ]
  },
  {
   "cell_type": "code",
   "execution_count": 26,
   "metadata": {},
   "outputs": [],
   "source": [
    "concat_data.to_csv(os.path.join(data_path,\"v0.2\",\"v2_train.csv\"),encoding=\"utf-8-sig\")"
   ]
  },
  {
   "cell_type": "code",
   "execution_count": 28,
   "metadata": {},
   "outputs": [
    {
     "name": "stdout",
     "output_type": "stream",
     "text": [
      "Some weights of BertForSequenceClassification were not initialized from the model checkpoint at klue/bert-base and are newly initialized: ['classifier.bias', 'classifier.weight']\n",
      "You should probably TRAIN this model on a down-stream task to be able to use it for predictions and inference.\n",
      "Using the `WANDB_DISABLED` environment variable is deprecated and will be removed in v5. Use the --report_to flag to control the integrations used for logging result (for instance --report_to none).\n",
      "Detected kernel version 5.4.0, which is below the recommended minimum of 5.5.0; this can cause the process to hang. It is recommended to upgrade the kernel to the minimum version or higher.\n",
      "{'loss': 1.2416, 'grad_norm': 6.160979747772217, 'learning_rate': 1e-05, 'epoch': 1.0}\n",
      " 50%|█████████████████████                     | 68/136 [00:59<00:52,  1.31it/s]\n",
      "  0%|                                                    | 0/17 [00:00<?, ?it/s]\u001b[A\n",
      " 12%|█████▏                                      | 2/17 [00:00<00:02,  6.92it/s]\u001b[A\n",
      " 18%|███████▊                                    | 3/17 [00:00<00:02,  4.88it/s]\u001b[A\n",
      " 24%|██████████▎                                 | 4/17 [00:00<00:03,  4.22it/s]\u001b[A\n",
      " 29%|████████████▉                               | 5/17 [00:01<00:03,  3.91it/s]\u001b[A\n",
      " 35%|███████████████▌                            | 6/17 [00:01<00:02,  3.74it/s]\u001b[A\n",
      " 41%|██████████████████                          | 7/17 [00:01<00:02,  3.64it/s]\u001b[A\n",
      " 47%|████████████████████▋                       | 8/17 [00:02<00:02,  3.58it/s]\u001b[A\n",
      " 53%|███████████████████████▎                    | 9/17 [00:02<00:02,  3.53it/s]\u001b[A\n",
      " 59%|█████████████████████████▎                 | 10/17 [00:02<00:01,  3.51it/s]\u001b[A\n",
      " 65%|███████████████████████████▊               | 11/17 [00:02<00:01,  3.49it/s]\u001b[A\n",
      " 71%|██████████████████████████████▎            | 12/17 [00:03<00:01,  3.48it/s]\u001b[A\n",
      " 76%|████████████████████████████████▉          | 13/17 [00:03<00:01,  3.47it/s]\u001b[A\n",
      " 82%|███████████████████████████████████▍       | 14/17 [00:03<00:00,  3.46it/s]\u001b[A\n",
      " 88%|█████████████████████████████████████▉     | 15/17 [00:04<00:00,  3.46it/s]\u001b[A\n",
      " 94%|████████████████████████████████████████▍  | 16/17 [00:04<00:00,  3.45it/s]\u001b[A\n",
      "                                                                                \u001b[A\n",
      "\u001b[A{'eval_loss': 0.6503019332885742, 'eval_f1': 0.8397947038023753, 'eval_runtime': 4.9271, 'eval_samples_per_second': 109.801, 'eval_steps_per_second': 3.45, 'epoch': 1.0}\n",
      " 50%|█████████████████████                     | 68/136 [01:03<00:52,  1.31it/s]\n",
      "100%|███████████████████████████████████████████| 17/17 [00:04<00:00,  3.55it/s]\u001b[A\n",
      "{'loss': 0.5062, 'grad_norm': 6.515401840209961, 'learning_rate': 0.0, 'epoch': 2.0}\n",
      "100%|█████████████████████████████████████████| 136/136 [02:07<00:00,  1.31it/s]\n",
      "  0%|                                                    | 0/17 [00:00<?, ?it/s]\u001b[A\n",
      " 12%|█████▏                                      | 2/17 [00:00<00:02,  6.94it/s]\u001b[A\n",
      " 18%|███████▊                                    | 3/17 [00:00<00:02,  4.90it/s]\u001b[A\n",
      " 24%|██████████▎                                 | 4/17 [00:00<00:03,  4.24it/s]\u001b[A\n",
      " 29%|████████████▉                               | 5/17 [00:01<00:03,  3.93it/s]\u001b[A\n",
      " 35%|███████████████▌                            | 6/17 [00:01<00:02,  3.77it/s]\u001b[A\n",
      " 41%|██████████████████                          | 7/17 [00:01<00:02,  3.67it/s]\u001b[A\n",
      " 47%|████████████████████▋                       | 8/17 [00:02<00:02,  3.60it/s]\u001b[A\n",
      " 53%|███████████████████████▎                    | 9/17 [00:02<00:02,  3.56it/s]\u001b[A\n",
      " 59%|█████████████████████████▎                 | 10/17 [00:02<00:01,  3.52it/s]\u001b[A\n",
      " 65%|███████████████████████████▊               | 11/17 [00:02<00:01,  3.50it/s]\u001b[A\n",
      " 71%|██████████████████████████████▎            | 12/17 [00:03<00:01,  3.49it/s]\u001b[A\n",
      " 76%|████████████████████████████████▉          | 13/17 [00:03<00:01,  3.48it/s]\u001b[A\n",
      " 82%|███████████████████████████████████▍       | 14/17 [00:03<00:00,  3.47it/s]\u001b[A\n",
      " 88%|█████████████████████████████████████▉     | 15/17 [00:04<00:00,  3.46it/s]\u001b[A\n",
      " 94%|████████████████████████████████████████▍  | 16/17 [00:04<00:00,  3.46it/s]\u001b[A\n",
      "                                                                                \u001b[A\n",
      "\u001b[A{'eval_loss': 0.5375027656555176, 'eval_f1': 0.8553182816893928, 'eval_runtime': 4.9078, 'eval_samples_per_second': 110.234, 'eval_steps_per_second': 3.464, 'epoch': 2.0}\n",
      "100%|█████████████████████████████████████████| 136/136 [02:12<00:00,  1.31it/s]\n",
      "100%|███████████████████████████████████████████| 17/17 [00:04<00:00,  3.56it/s]\u001b[A\n",
      "{'train_runtime': 139.7424, 'train_samples_per_second': 30.957, 'train_steps_per_second': 0.973, 'train_loss': 0.8738857157090131, 'epoch': 2.0}\n",
      "100%|█████████████████████████████████████████| 136/136 [02:19<00:00,  1.03s/it]\n",
      "Model_path exists\n",
      "Evaluating: 100%|█████████████████████████████| 541/541 [00:05<00:00, 90.48it/s]\n",
      "Saved predictions to ../../data/v0.2/valid_output.csv\n"
     ]
    }
   ],
   "source": [
    "!python ../main.py --data \"../../data/v0.2\" --mode train"
   ]
  },
  {
   "cell_type": "code",
   "execution_count": 29,
   "metadata": {},
   "outputs": [
    {
     "name": "stdout",
     "output_type": "stream",
     "text": [
      "Model_path exists\n",
      "Evaluating: 100%|█████████████████████████| 30000/30000 [05:20<00:00, 93.50it/s]\n",
      "Saved predictions to ../../data/test_output.csv\n"
     ]
    }
   ],
   "source": [
    "!python ../main.py --data \"../../data\" --mode test"
   ]
  },
  {
   "cell_type": "markdown",
   "metadata": {},
   "source": [
    "# relabeling + text filtering + backtrans(500) + gemma (700) + Noise Add"
   ]
  },
  {
   "cell_type": "code",
   "execution_count": 31,
   "metadata": {},
   "outputs": [],
   "source": [
    "v2_data = concat_data"
   ]
  },
  {
   "cell_type": "code",
   "execution_count": 66,
   "metadata": {},
   "outputs": [],
   "source": [
    "noise_data = pd.read_csv(os.path.join(data_path,\"train_Noise_data_ascii.csv\"))\n",
    "noise_data = noise_data.drop(columns=[\"Unnamed: 0\"])"
   ]
  },
  {
   "cell_type": "code",
   "execution_count": 70,
   "metadata": {},
   "outputs": [
    {
     "data": {
      "text/html": [
       "<div>\n",
       "<style scoped>\n",
       "    .dataframe tbody tr th:only-of-type {\n",
       "        vertical-align: middle;\n",
       "    }\n",
       "\n",
       "    .dataframe tbody tr th {\n",
       "        vertical-align: top;\n",
       "    }\n",
       "\n",
       "    .dataframe thead th {\n",
       "        text-align: right;\n",
       "    }\n",
       "</style>\n",
       "<table border=\"1\" class=\"dataframe\">\n",
       "  <thead>\n",
       "    <tr style=\"text-align: right;\">\n",
       "      <th></th>\n",
       "      <th>ID</th>\n",
       "      <th>text</th>\n",
       "      <th>target</th>\n",
       "    </tr>\n",
       "  </thead>\n",
       "  <tbody>\n",
       "    <tr>\n",
       "      <th>0</th>\n",
       "      <td>ynat-v1_train_00000</td>\n",
       "      <td>정i :파1 미사z KT( 이용기간 2e 단] Q분종U2보</td>\n",
       "      <td>4</td>\n",
       "    </tr>\n",
       "    <tr>\n",
       "      <th>5</th>\n",
       "      <td>ynat-v1_train_00010</td>\n",
       "      <td>oi 매력 R모h츠a열#w3약 &gt;l·주가 고Q/진</td>\n",
       "      <td>5</td>\n",
       "    </tr>\n",
       "    <tr>\n",
       "      <th>7</th>\n",
       "      <td>ynat-v1_train_00014</td>\n",
       "      <td>문/인 당2 4nS 민관2동7사위 /\"X보 철거tt</td>\n",
       "      <td>2</td>\n",
       "    </tr>\n",
       "    <tr>\n",
       "      <th>9</th>\n",
       "      <td>ynat-v1_train_00021</td>\n",
       "      <td>KIA I수단·팬nI께하는:호kQ4M족 한마5 S최</td>\n",
       "      <td>1</td>\n",
       "    </tr>\n",
       "    <tr>\n",
       "      <th>10</th>\n",
       "      <td>ynat-v1_train_00022</td>\n",
       "      <td>현N차sJ &lt;e 임원6늘려…~세z 리g (보j 육y</td>\n",
       "      <td>3</td>\n",
       "    </tr>\n",
       "    <tr>\n",
       "      <th>...</th>\n",
       "      <td>...</td>\n",
       "      <td>...</td>\n",
       "      <td>...</td>\n",
       "    </tr>\n",
       "    <tr>\n",
       "      <th>1276</th>\n",
       "      <td>ynat-v1_train_02776</td>\n",
       "      <td>송희경  j호i7Q출장 시yQ등2 아_1비즈M스c]|용(d</td>\n",
       "      <td>2</td>\n",
       "    </tr>\n",
       "    <tr>\n",
       "      <th>1279</th>\n",
       "      <td>ynat-v1_train_02784</td>\n",
       "      <td>고려·vq 5|째 결승 격돌la~일,%3대o농구 챔피Tw</td>\n",
       "      <td>1</td>\n",
       "    </tr>\n",
       "    <tr>\n",
       "      <th>1280</th>\n",
       "      <td>ynat-v1_train_02786</td>\n",
       "      <td>텅 빈 }실 선생님+홀K Y|q% T+X C1</td>\n",
       "      <td>3</td>\n",
       "    </tr>\n",
       "    <tr>\n",
       "      <th>1281</th>\n",
       "      <td>ynat-v1_train_02787</td>\n",
       "      <td>13이 노바 라이n2·미J어패0 T3 10 결G상품% *</td>\n",
       "      <td>6</td>\n",
       "    </tr>\n",
       "    <tr>\n",
       "      <th>1284</th>\n",
       "      <td>ynat-v1_train_02797</td>\n",
       "      <td>텔레그램+한D 등h亞서 2시간H다운…C버T정gf39종!2보</td>\n",
       "      <td>4</td>\n",
       "    </tr>\n",
       "  </tbody>\n",
       "</table>\n",
       "<p>629 rows × 3 columns</p>\n",
       "</div>"
      ],
      "text/plain": [
       "                       ID                              text  target\n",
       "0     ynat-v1_train_00000  정i :파1 미사z KT( 이용기간 2e 단] Q분종U2보       4\n",
       "5     ynat-v1_train_00010       oi 매력 R모h츠a열#w3약 >l·주가 고Q/진       5\n",
       "7     ynat-v1_train_00014      문/인 당2 4nS 민관2동7사위 /\"X보 철거tt       2\n",
       "9     ynat-v1_train_00021      KIA I수단·팬nI께하는:호kQ4M족 한마5 S최       1\n",
       "10    ynat-v1_train_00022      현N차sJ <e 임원6늘려…~세z 리g (보j 육y       3\n",
       "...                   ...                               ...     ...\n",
       "1276  ynat-v1_train_02776  송희경  j호i7Q출장 시yQ등2 아_1비즈M스c]|용(d       2\n",
       "1279  ynat-v1_train_02784   고려·vq 5|째 결승 격돌la~일,%3대o농구 챔피Tw       1\n",
       "1280  ynat-v1_train_02786         텅 빈 }실 선생님+홀K Y|q% T+X C1       3\n",
       "1281  ynat-v1_train_02787   13이 노바 라이n2·미J어패0 T3 10 결G상품% *       6\n",
       "1284  ynat-v1_train_02797  텔레그램+한D 등h亞서 2시간H다운…C버T정gf39종!2보       4\n",
       "\n",
       "[629 rows x 3 columns]"
      ]
     },
     "execution_count": 70,
     "metadata": {},
     "output_type": "execute_result"
    }
   ],
   "source": [
    "noise_data_filter = noise_data[noise_data[\"ratio\"] > 35]\n",
    "noise_data_filter = noise_data_filter[noise_data_filter[\"ratio\"] < 50]\n",
    "noise_data_filter = noise_data_filter[[\"ID\",\"text\",\"target\"]]\n",
    "noise_data_filter"
   ]
  },
  {
   "cell_type": "code",
   "execution_count": 71,
   "metadata": {},
   "outputs": [
    {
     "data": {
      "text/html": [
       "<div>\n",
       "<style scoped>\n",
       "    .dataframe tbody tr th:only-of-type {\n",
       "        vertical-align: middle;\n",
       "    }\n",
       "\n",
       "    .dataframe tbody tr th {\n",
       "        vertical-align: top;\n",
       "    }\n",
       "\n",
       "    .dataframe thead th {\n",
       "        text-align: right;\n",
       "    }\n",
       "</style>\n",
       "<table border=\"1\" class=\"dataframe\">\n",
       "  <thead>\n",
       "    <tr style=\"text-align: right;\">\n",
       "      <th></th>\n",
       "      <th>ID</th>\n",
       "      <th>text</th>\n",
       "      <th>target</th>\n",
       "    </tr>\n",
       "  </thead>\n",
       "  <tbody>\n",
       "    <tr>\n",
       "      <th>0</th>\n",
       "      <td>ynat-v1_train_00000</td>\n",
       "      <td>정i :파1 미사z KT( 이용기간 2e 단] Q분종U2보</td>\n",
       "      <td>4</td>\n",
       "    </tr>\n",
       "    <tr>\n",
       "      <th>5</th>\n",
       "      <td>ynat-v1_train_00010</td>\n",
       "      <td>oi 매력 R모h츠a열#w3약 &gt;l·주가 고Q/진</td>\n",
       "      <td>5</td>\n",
       "    </tr>\n",
       "    <tr>\n",
       "      <th>7</th>\n",
       "      <td>ynat-v1_train_00014</td>\n",
       "      <td>문/인 당2 4nS 민관2동7사위 /\"X보 철거tt</td>\n",
       "      <td>2</td>\n",
       "    </tr>\n",
       "    <tr>\n",
       "      <th>9</th>\n",
       "      <td>ynat-v1_train_00021</td>\n",
       "      <td>KIA I수단·팬nI께하는:호kQ4M족 한마5 S최</td>\n",
       "      <td>1</td>\n",
       "    </tr>\n",
       "    <tr>\n",
       "      <th>10</th>\n",
       "      <td>ynat-v1_train_00022</td>\n",
       "      <td>현N차sJ &lt;e 임원6늘려…~세z 리g (보j 육y</td>\n",
       "      <td>3</td>\n",
       "    </tr>\n",
       "    <tr>\n",
       "      <th>...</th>\n",
       "      <td>...</td>\n",
       "      <td>...</td>\n",
       "      <td>...</td>\n",
       "    </tr>\n",
       "    <tr>\n",
       "      <th>1276</th>\n",
       "      <td>ynat-v1_train_02776</td>\n",
       "      <td>송희경  j호i7Q출장 시yQ등2 아_1비즈M스c]|용(d</td>\n",
       "      <td>2</td>\n",
       "    </tr>\n",
       "    <tr>\n",
       "      <th>1279</th>\n",
       "      <td>ynat-v1_train_02784</td>\n",
       "      <td>고려·vq 5|째 결승 격돌la~일,%3대o농구 챔피Tw</td>\n",
       "      <td>1</td>\n",
       "    </tr>\n",
       "    <tr>\n",
       "      <th>1280</th>\n",
       "      <td>ynat-v1_train_02786</td>\n",
       "      <td>텅 빈 }실 선생님+홀K Y|q% T+X C1</td>\n",
       "      <td>3</td>\n",
       "    </tr>\n",
       "    <tr>\n",
       "      <th>1281</th>\n",
       "      <td>ynat-v1_train_02787</td>\n",
       "      <td>13이 노바 라이n2·미J어패0 T3 10 결G상품% *</td>\n",
       "      <td>6</td>\n",
       "    </tr>\n",
       "    <tr>\n",
       "      <th>1284</th>\n",
       "      <td>ynat-v1_train_02797</td>\n",
       "      <td>텔레그램+한D 등h亞서 2시간H다운…C버T정gf39종!2보</td>\n",
       "      <td>4</td>\n",
       "    </tr>\n",
       "  </tbody>\n",
       "</table>\n",
       "<p>629 rows × 3 columns</p>\n",
       "</div>"
      ],
      "text/plain": [
       "                       ID                              text  target\n",
       "0     ynat-v1_train_00000  정i :파1 미사z KT( 이용기간 2e 단] Q분종U2보       4\n",
       "5     ynat-v1_train_00010       oi 매력 R모h츠a열#w3약 >l·주가 고Q/진       5\n",
       "7     ynat-v1_train_00014      문/인 당2 4nS 민관2동7사위 /\"X보 철거tt       2\n",
       "9     ynat-v1_train_00021      KIA I수단·팬nI께하는:호kQ4M족 한마5 S최       1\n",
       "10    ynat-v1_train_00022      현N차sJ <e 임원6늘려…~세z 리g (보j 육y       3\n",
       "...                   ...                               ...     ...\n",
       "1276  ynat-v1_train_02776  송희경  j호i7Q출장 시yQ등2 아_1비즈M스c]|용(d       2\n",
       "1279  ynat-v1_train_02784   고려·vq 5|째 결승 격돌la~일,%3대o농구 챔피Tw       1\n",
       "1280  ynat-v1_train_02786         텅 빈 }실 선생님+홀K Y|q% T+X C1       3\n",
       "1281  ynat-v1_train_02787   13이 노바 라이n2·미J어패0 T3 10 결G상품% *       6\n",
       "1284  ynat-v1_train_02797  텔레그램+한D 등h亞서 2시간H다운…C버T정gf39종!2보       4\n",
       "\n",
       "[629 rows x 3 columns]"
      ]
     },
     "execution_count": 71,
     "metadata": {},
     "output_type": "execute_result"
    }
   ],
   "source": [
    "noise_data_filter"
   ]
  },
  {
   "cell_type": "code",
   "execution_count": 72,
   "metadata": {},
   "outputs": [],
   "source": [
    "v3_concat = pd.concat([v2_data, noise_data_filter])"
   ]
  },
  {
   "cell_type": "code",
   "execution_count": 74,
   "metadata": {},
   "outputs": [],
   "source": [
    "v3_concat.to_csv(os.path.join(data_path,\"v0.3\",\"v3_concat.csv\"),encoding=\"utf-8-sig\")"
   ]
  },
  {
   "cell_type": "code",
   "execution_count": 76,
   "metadata": {},
   "outputs": [
    {
     "name": "stdout",
     "output_type": "stream",
     "text": [
      "Some weights of BertForSequenceClassification were not initialized from the model checkpoint at klue/bert-base and are newly initialized: ['classifier.bias', 'classifier.weight']\n",
      "You should probably TRAIN this model on a down-stream task to be able to use it for predictions and inference.\n",
      "Using the `WANDB_DISABLED` environment variable is deprecated and will be removed in v5. Use the --report_to flag to control the integrations used for logging result (for instance --report_to none).\n",
      "Detected kernel version 5.4.0, which is below the recommended minimum of 5.5.0; this can cause the process to hang. It is recommended to upgrade the kernel to the minimum version or higher.\n",
      "{'loss': 1.062, 'grad_norm': 18.933486938476562, 'learning_rate': 1e-05, 'epoch': 1.0}\n",
      " 50%|████████████████████▌                    | 167/334 [01:16<01:07,  2.46it/s]\n",
      "  0%|                                                    | 0/21 [00:00<?, ?it/s]\u001b[A\n",
      " 10%|████▏                                       | 2/21 [00:00<00:02,  6.86it/s]\u001b[A\n",
      " 14%|██████▎                                     | 3/21 [00:00<00:03,  4.85it/s]\u001b[A\n",
      " 19%|████████▍                                   | 4/21 [00:00<00:04,  4.21it/s]\u001b[A\n",
      " 24%|██████████▍                                 | 5/21 [00:01<00:04,  3.91it/s]\u001b[A\n",
      " 29%|████████████▌                               | 6/21 [00:01<00:04,  3.75it/s]\u001b[A\n",
      " 33%|██████████████▋                             | 7/21 [00:01<00:03,  3.64it/s]\u001b[A\n",
      " 38%|████████████████▊                           | 8/21 [00:02<00:03,  3.58it/s]\u001b[A\n",
      " 43%|██████████████████▊                         | 9/21 [00:02<00:03,  3.54it/s]\u001b[A\n",
      " 48%|████████████████████▍                      | 10/21 [00:02<00:03,  3.51it/s]\u001b[A\n",
      " 52%|██████████████████████▌                    | 11/21 [00:02<00:02,  3.50it/s]\u001b[A\n",
      " 57%|████████████████████████▌                  | 12/21 [00:03<00:02,  3.48it/s]\u001b[A\n",
      " 62%|██████████████████████████▌                | 13/21 [00:03<00:02,  3.47it/s]\u001b[A\n",
      " 67%|████████████████████████████▋              | 14/21 [00:03<00:02,  3.46it/s]\u001b[A\n",
      " 71%|██████████████████████████████▋            | 15/21 [00:04<00:01,  3.46it/s]\u001b[A\n",
      " 76%|████████████████████████████████▊          | 16/21 [00:04<00:01,  3.45it/s]\u001b[A\n",
      " 81%|██████████████████████████████████▊        | 17/21 [00:04<00:01,  3.45it/s]\u001b[A\n",
      " 86%|████████████████████████████████████▊      | 18/21 [00:04<00:00,  3.45it/s]\u001b[A\n",
      " 90%|██████████████████████████████████████▉    | 19/21 [00:05<00:00,  3.45it/s]\u001b[A\n",
      " 95%|████████████████████████████████████████▉  | 20/21 [00:05<00:00,  3.45it/s]\u001b[A\n",
      "                                                                                \u001b[A\n",
      "\u001b[A{'eval_loss': 0.5989788174629211, 'eval_f1': 0.8155753530587695, 'eval_runtime': 6.0708, 'eval_samples_per_second': 109.871, 'eval_steps_per_second': 3.459, 'epoch': 1.0}\n",
      " 50%|████████████████████▌                    | 167/334 [01:22<01:07,  2.46it/s]\n",
      "100%|███████████████████████████████████████████| 21/21 [00:05<00:00,  3.61it/s]\u001b[A\n",
      "{'loss': 0.5079, 'grad_norm': 13.637044906616211, 'learning_rate': 0.0, 'epoch': 2.0}\n",
      "100%|█████████████████████████████████████████| 334/334 [02:42<00:00,  2.46it/s]\n",
      "  0%|                                                    | 0/21 [00:00<?, ?it/s]\u001b[A\n",
      " 10%|████▏                                       | 2/21 [00:00<00:02,  6.95it/s]\u001b[A\n",
      " 14%|██████▎                                     | 3/21 [00:00<00:03,  4.91it/s]\u001b[A\n",
      " 19%|████████▍                                   | 4/21 [00:00<00:04,  4.24it/s]\u001b[A\n",
      " 24%|██████████▍                                 | 5/21 [00:01<00:04,  3.94it/s]\u001b[A\n",
      " 29%|████████████▌                               | 6/21 [00:01<00:03,  3.76it/s]\u001b[A\n",
      " 33%|██████████████▋                             | 7/21 [00:01<00:03,  3.66it/s]\u001b[A\n",
      " 38%|████████████████▊                           | 8/21 [00:02<00:03,  3.60it/s]\u001b[A\n",
      " 43%|██████████████████▊                         | 9/21 [00:02<00:03,  3.55it/s]\u001b[A\n",
      " 48%|████████████████████▍                      | 10/21 [00:02<00:03,  3.52it/s]\u001b[A\n",
      " 52%|██████████████████████▌                    | 11/21 [00:02<00:02,  3.50it/s]\u001b[A\n",
      " 57%|████████████████████████▌                  | 12/21 [00:03<00:02,  3.49it/s]\u001b[A\n",
      " 62%|██████████████████████████▌                | 13/21 [00:03<00:02,  3.48it/s]\u001b[A\n",
      " 67%|████████████████████████████▋              | 14/21 [00:03<00:02,  3.47it/s]\u001b[A\n",
      " 71%|██████████████████████████████▋            | 15/21 [00:04<00:01,  3.47it/s]\u001b[A\n",
      " 76%|████████████████████████████████▊          | 16/21 [00:04<00:01,  3.46it/s]\u001b[A\n",
      " 81%|██████████████████████████████████▊        | 17/21 [00:04<00:01,  3.46it/s]\u001b[A\n",
      " 86%|████████████████████████████████████▊      | 18/21 [00:04<00:00,  3.46it/s]\u001b[A\n",
      " 90%|██████████████████████████████████████▉    | 19/21 [00:05<00:00,  3.45it/s]\u001b[A\n",
      " 95%|████████████████████████████████████████▉  | 20/21 [00:05<00:00,  3.45it/s]\u001b[A\n",
      "                                                                                \u001b[A\n",
      "\u001b[A{'eval_loss': 0.5491741895675659, 'eval_f1': 0.8262072907933417, 'eval_runtime': 6.0472, 'eval_samples_per_second': 110.299, 'eval_steps_per_second': 3.473, 'epoch': 2.0}\n",
      "100%|█████████████████████████████████████████| 334/334 [02:48<00:00,  2.46it/s]\n",
      "100%|███████████████████████████████████████████| 21/21 [00:05<00:00,  3.62it/s]\u001b[A\n",
      "{'train_runtime': 177.7915, 'train_samples_per_second': 29.99, 'train_steps_per_second': 1.879, 'train_loss': 0.7849656065067131, 'epoch': 2.0}\n",
      "100%|█████████████████████████████████████████| 334/334 [02:57<00:00,  1.88it/s]\n",
      "Model_path exists\n",
      "Evaluating: 100%|█████████████████████████████| 667/667 [00:07<00:00, 91.33it/s]\n",
      "Saved predictions to ../../data/v0.3/valid_output.csv\n"
     ]
    }
   ],
   "source": [
    "!python ../main.py --data \"../../data/v0.3\" --mode train"
   ]
  },
  {
   "cell_type": "markdown",
   "metadata": {},
   "source": [
    "using cleanlab batch16"
   ]
  },
  {
   "cell_type": "code",
   "execution_count": 78,
   "metadata": {},
   "outputs": [
    {
     "name": "stdout",
     "output_type": "stream",
     "text": [
      "Some weights of BertForSequenceClassification were not initialized from the model checkpoint at klue/bert-base and are newly initialized: ['classifier.bias', 'classifier.weight']\n",
      "You should probably TRAIN this model on a down-stream task to be able to use it for predictions and inference.\n",
      "Using the `WANDB_DISABLED` environment variable is deprecated and will be removed in v5. Use the --report_to flag to control the integrations used for logging result (for instance --report_to none).\n",
      "Detected kernel version 5.4.0, which is below the recommended minimum of 5.5.0; this can cause the process to hang. It is recommended to upgrade the kernel to the minimum version or higher.\n",
      "{'loss': 0.914, 'grad_norm': 12.745707511901855, 'learning_rate': 1e-05, 'epoch': 1.0}\n",
      " 50%|████████████████████▌                    | 167/334 [01:16<01:07,  2.46it/s]\n",
      "  0%|                                                    | 0/21 [00:00<?, ?it/s]\u001b[A\n",
      " 10%|████▏                                       | 2/21 [00:00<00:02,  6.91it/s]\u001b[A\n",
      " 14%|██████▎                                     | 3/21 [00:00<00:03,  4.87it/s]\u001b[A\n",
      " 19%|████████▍                                   | 4/21 [00:00<00:04,  4.22it/s]\u001b[A\n",
      " 24%|██████████▍                                 | 5/21 [00:01<00:04,  3.91it/s]\u001b[A\n",
      " 29%|████████████▌                               | 6/21 [00:01<00:04,  3.74it/s]\u001b[A\n",
      " 33%|██████████████▋                             | 7/21 [00:01<00:03,  3.64it/s]\u001b[A\n",
      " 38%|████████████████▊                           | 8/21 [00:02<00:03,  3.58it/s]\u001b[A\n",
      " 43%|██████████████████▊                         | 9/21 [00:02<00:03,  3.54it/s]\u001b[A\n",
      " 48%|████████████████████▍                      | 10/21 [00:02<00:03,  3.51it/s]\u001b[A\n",
      " 52%|██████████████████████▌                    | 11/21 [00:02<00:02,  3.49it/s]\u001b[A\n",
      " 57%|████████████████████████▌                  | 12/21 [00:03<00:02,  3.47it/s]\u001b[A\n",
      " 62%|██████████████████████████▌                | 13/21 [00:03<00:02,  3.46it/s]\u001b[A\n",
      " 67%|████████████████████████████▋              | 14/21 [00:03<00:02,  3.46it/s]\u001b[A\n",
      " 71%|██████████████████████████████▋            | 15/21 [00:04<00:01,  3.45it/s]\u001b[A\n",
      " 76%|████████████████████████████████▊          | 16/21 [00:04<00:01,  3.45it/s]\u001b[A\n",
      " 81%|██████████████████████████████████▊        | 17/21 [00:04<00:01,  3.45it/s]\u001b[A\n",
      " 86%|████████████████████████████████████▊      | 18/21 [00:04<00:00,  3.44it/s]\u001b[A\n",
      " 90%|██████████████████████████████████████▉    | 19/21 [00:05<00:00,  3.44it/s]\u001b[A\n",
      " 95%|████████████████████████████████████████▉  | 20/21 [00:05<00:00,  3.45it/s]\u001b[A\n",
      "                                                                                \u001b[A\n",
      "\u001b[A{'eval_loss': 0.36020293831825256, 'eval_f1': 0.9019977098969817, 'eval_runtime': 6.0784, 'eval_samples_per_second': 109.732, 'eval_steps_per_second': 3.455, 'epoch': 1.0}\n",
      " 50%|████████████████████▌                    | 167/334 [01:22<01:07,  2.46it/s]\n",
      "100%|███████████████████████████████████████████| 21/21 [00:05<00:00,  3.60it/s]\u001b[A\n",
      "{'loss': 0.2955, 'grad_norm': 9.873983383178711, 'learning_rate': 0.0, 'epoch': 2.0}\n",
      "100%|█████████████████████████████████████████| 334/334 [02:42<00:00,  2.46it/s]\n",
      "  0%|                                                    | 0/21 [00:00<?, ?it/s]\u001b[A\n",
      " 10%|████▏                                       | 2/21 [00:00<00:02,  6.95it/s]\u001b[A\n",
      " 14%|██████▎                                     | 3/21 [00:00<00:03,  4.90it/s]\u001b[A\n",
      " 19%|████████▍                                   | 4/21 [00:00<00:04,  4.25it/s]\u001b[A\n",
      " 24%|██████████▍                                 | 5/21 [00:01<00:04,  3.94it/s]\u001b[A\n",
      " 29%|████████████▌                               | 6/21 [00:01<00:03,  3.77it/s]\u001b[A\n",
      " 33%|██████████████▋                             | 7/21 [00:01<00:03,  3.67it/s]\u001b[A\n",
      " 38%|████████████████▊                           | 8/21 [00:02<00:03,  3.60it/s]\u001b[A\n",
      " 43%|██████████████████▊                         | 9/21 [00:02<00:03,  3.55it/s]\u001b[A\n",
      " 48%|████████████████████▍                      | 10/21 [00:02<00:03,  3.53it/s]\u001b[A\n",
      " 52%|██████████████████████▌                    | 11/21 [00:02<00:02,  3.50it/s]\u001b[A\n",
      " 57%|████████████████████████▌                  | 12/21 [00:03<00:02,  3.49it/s]\u001b[A\n",
      " 62%|██████████████████████████▌                | 13/21 [00:03<00:02,  3.48it/s]\u001b[A\n",
      " 67%|████████████████████████████▋              | 14/21 [00:03<00:02,  3.47it/s]\u001b[A\n",
      " 71%|██████████████████████████████▋            | 15/21 [00:04<00:01,  3.47it/s]\u001b[A\n",
      " 76%|████████████████████████████████▊          | 16/21 [00:04<00:01,  3.46it/s]\u001b[A\n",
      " 81%|██████████████████████████████████▊        | 17/21 [00:04<00:01,  3.46it/s]\u001b[A\n",
      " 86%|████████████████████████████████████▊      | 18/21 [00:04<00:00,  3.46it/s]\u001b[A\n",
      " 90%|██████████████████████████████████████▉    | 19/21 [00:05<00:00,  3.46it/s]\u001b[A\n",
      " 95%|████████████████████████████████████████▉  | 20/21 [00:05<00:00,  3.46it/s]\u001b[A\n",
      "                                                                                \u001b[A\n",
      "\u001b[A{'eval_loss': 0.29800230264663696, 'eval_f1': 0.8989363858847247, 'eval_runtime': 6.0436, 'eval_samples_per_second': 110.365, 'eval_steps_per_second': 3.475, 'epoch': 2.0}\n",
      "100%|█████████████████████████████████████████| 334/334 [02:48<00:00,  2.46it/s]\n",
      "100%|███████████████████████████████████████████| 21/21 [00:05<00:00,  3.62it/s]\u001b[A\n",
      "{'train_runtime': 177.2792, 'train_samples_per_second': 30.077, 'train_steps_per_second': 1.884, 'train_loss': 0.6047593876273333, 'epoch': 2.0}\n",
      "100%|█████████████████████████████████████████| 334/334 [02:57<00:00,  1.88it/s]\n",
      "Model_path exists\n",
      "Evaluating: 100%|█████████████████████████████| 667/667 [00:07<00:00, 90.78it/s]\n",
      "Saved predictions to ../../data/v0.3/valid_output.csv\n"
     ]
    }
   ],
   "source": [
    "!python ../main.py --data \"../../data/v0.3\" --mode train"
   ]
  },
  {
   "cell_type": "markdown",
   "metadata": {},
   "source": [
    "batch 16 2e-05"
   ]
  },
  {
   "cell_type": "code",
   "execution_count": 82,
   "metadata": {},
   "outputs": [
    {
     "name": "stdout",
     "output_type": "stream",
     "text": [
      "Some weights of BertForSequenceClassification were not initialized from the model checkpoint at klue/bert-base and are newly initialized: ['classifier.bias', 'classifier.weight']\n",
      "You should probably TRAIN this model on a down-stream task to be able to use it for predictions and inference.\n",
      "Using the `WANDB_DISABLED` environment variable is deprecated and will be removed in v5. Use the --report_to flag to control the integrations used for logging result (for instance --report_to none).\n",
      "Detected kernel version 5.4.0, which is below the recommended minimum of 5.5.0; this can cause the process to hang. It is recommended to upgrade the kernel to the minimum version or higher.\n",
      "{'loss': 0.914, 'grad_norm': 12.745707511901855, 'learning_rate': 1e-05, 'epoch': 1.0}\n",
      " 50%|████████████████████▌                    | 167/334 [01:16<01:08,  2.46it/s]\n",
      "  0%|                                                    | 0/21 [00:00<?, ?it/s]\u001b[A\n",
      " 10%|████▏                                       | 2/21 [00:00<00:02,  6.90it/s]\u001b[A\n",
      " 14%|██████▎                                     | 3/21 [00:00<00:03,  4.87it/s]\u001b[A\n",
      " 19%|████████▍                                   | 4/21 [00:00<00:04,  4.23it/s]\u001b[A\n",
      " 24%|██████████▍                                 | 5/21 [00:01<00:04,  3.92it/s]\u001b[A\n",
      " 29%|████████████▌                               | 6/21 [00:01<00:03,  3.75it/s]\u001b[A\n",
      " 33%|██████████████▋                             | 7/21 [00:01<00:03,  3.65it/s]\u001b[A\n",
      " 38%|████████████████▊                           | 8/21 [00:02<00:03,  3.58it/s]\u001b[A\n",
      " 43%|██████████████████▊                         | 9/21 [00:02<00:03,  3.54it/s]\u001b[A\n",
      " 48%|████████████████████▍                      | 10/21 [00:02<00:03,  3.51it/s]\u001b[A\n",
      " 52%|██████████████████████▌                    | 11/21 [00:02<00:02,  3.49it/s]\u001b[A\n",
      " 57%|████████████████████████▌                  | 12/21 [00:03<00:02,  3.47it/s]\u001b[A\n",
      " 62%|██████████████████████████▌                | 13/21 [00:03<00:02,  3.46it/s]\u001b[A\n",
      " 67%|████████████████████████████▋              | 14/21 [00:03<00:02,  3.46it/s]\u001b[A\n",
      " 71%|██████████████████████████████▋            | 15/21 [00:04<00:01,  3.45it/s]\u001b[A\n",
      " 76%|████████████████████████████████▊          | 16/21 [00:04<00:01,  3.45it/s]\u001b[A\n",
      " 81%|██████████████████████████████████▊        | 17/21 [00:04<00:01,  3.45it/s]\u001b[A\n",
      " 86%|████████████████████████████████████▊      | 18/21 [00:04<00:00,  3.45it/s]\u001b[A\n",
      " 90%|██████████████████████████████████████▉    | 19/21 [00:05<00:00,  3.44it/s]\u001b[A\n",
      " 95%|████████████████████████████████████████▉  | 20/21 [00:05<00:00,  3.45it/s]\u001b[A\n",
      "                                                                                \u001b[A\n",
      "\u001b[A{'eval_loss': 0.36020293831825256, 'eval_f1': 0.9019977098969817, 'eval_runtime': 6.075, 'eval_samples_per_second': 109.793, 'eval_steps_per_second': 3.457, 'epoch': 1.0}\n",
      " 50%|████████████████████▌                    | 167/334 [01:22<01:08,  2.46it/s]\n",
      "100%|███████████████████████████████████████████| 21/21 [00:05<00:00,  3.60it/s]\u001b[A\n",
      "{'loss': 0.2955, 'grad_norm': 9.873983383178711, 'learning_rate': 0.0, 'epoch': 2.0}\n",
      "100%|█████████████████████████████████████████| 334/334 [02:42<00:00,  2.46it/s]\n",
      "  0%|                                                    | 0/21 [00:00<?, ?it/s]\u001b[A\n",
      " 10%|████▏                                       | 2/21 [00:00<00:02,  6.95it/s]\u001b[A\n",
      " 14%|██████▎                                     | 3/21 [00:00<00:03,  4.90it/s]\u001b[A\n",
      " 19%|████████▍                                   | 4/21 [00:00<00:04,  4.24it/s]\u001b[A\n",
      " 24%|██████████▍                                 | 5/21 [00:01<00:04,  3.94it/s]\u001b[A\n",
      " 29%|████████████▌                               | 6/21 [00:01<00:03,  3.77it/s]\u001b[A\n",
      " 33%|██████████████▋                             | 7/21 [00:01<00:03,  3.66it/s]\u001b[A\n",
      " 38%|████████████████▊                           | 8/21 [00:02<00:03,  3.59it/s]\u001b[A\n",
      " 43%|██████████████████▊                         | 9/21 [00:02<00:03,  3.55it/s]\u001b[A\n",
      " 48%|████████████████████▍                      | 10/21 [00:02<00:03,  3.52it/s]\u001b[A\n",
      " 52%|██████████████████████▌                    | 11/21 [00:02<00:02,  3.50it/s]\u001b[A\n",
      " 57%|████████████████████████▌                  | 12/21 [00:03<00:02,  3.49it/s]\u001b[A\n",
      " 62%|██████████████████████████▌                | 13/21 [00:03<00:02,  3.48it/s]\u001b[A\n",
      " 67%|████████████████████████████▋              | 14/21 [00:03<00:02,  3.47it/s]\u001b[A\n",
      " 71%|██████████████████████████████▋            | 15/21 [00:04<00:01,  3.47it/s]\u001b[A\n",
      " 76%|████████████████████████████████▊          | 16/21 [00:04<00:01,  3.47it/s]\u001b[A\n",
      " 81%|██████████████████████████████████▊        | 17/21 [00:04<00:01,  3.46it/s]\u001b[A\n",
      " 86%|████████████████████████████████████▊      | 18/21 [00:04<00:00,  3.46it/s]\u001b[A\n",
      " 90%|██████████████████████████████████████▉    | 19/21 [00:05<00:00,  3.46it/s]\u001b[A\n",
      " 95%|████████████████████████████████████████▉  | 20/21 [00:05<00:00,  3.46it/s]\u001b[A\n",
      "                                                                                \u001b[A\n",
      "\u001b[A{'eval_loss': 0.29800230264663696, 'eval_f1': 0.8989363858847247, 'eval_runtime': 6.0457, 'eval_samples_per_second': 110.326, 'eval_steps_per_second': 3.474, 'epoch': 2.0}\n",
      "100%|█████████████████████████████████████████| 334/334 [02:48<00:00,  2.46it/s]\n",
      "100%|███████████████████████████████████████████| 21/21 [00:05<00:00,  3.62it/s]\u001b[A\n",
      "{'train_runtime': 178.6427, 'train_samples_per_second': 29.847, 'train_steps_per_second': 1.87, 'train_loss': 0.6047593876273333, 'epoch': 2.0}\n",
      "100%|█████████████████████████████████████████| 334/334 [02:58<00:00,  1.87it/s]\n",
      "Model_path exists\n",
      "Evaluating: 100%|█████████████████████████████| 667/667 [00:07<00:00, 90.58it/s]\n",
      "Saved predictions to ../../data/v0.3/valid_output.csv\n"
     ]
    }
   ],
   "source": [
    "!python ../main.py --data \"../../data/v0.3\" --mode train"
   ]
  },
  {
   "cell_type": "code",
   "execution_count": null,
   "metadata": {},
   "outputs": [],
   "source": [
    "!python ../main.py --data \"../../data\" --mode test"
   ]
  }
 ],
 "metadata": {
  "kernelspec": {
   "display_name": "base",
   "language": "python",
   "name": "python3"
  },
  "language_info": {
   "codemirror_mode": {
    "name": "ipython",
    "version": 3
   },
   "file_extension": ".py",
   "mimetype": "text/x-python",
   "name": "python",
   "nbconvert_exporter": "python",
   "pygments_lexer": "ipython3",
   "version": "3.10.13"
  }
 },
 "nbformat": 4,
 "nbformat_minor": 2
}
