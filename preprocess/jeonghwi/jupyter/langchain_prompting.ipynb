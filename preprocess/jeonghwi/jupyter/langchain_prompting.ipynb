{
 "cells": [
  {
   "cell_type": "code",
   "execution_count": 2,
   "metadata": {},
   "outputs": [],
   "source": [
    "import sys, os\n",
    "from pprint import pprint\n",
    "sys.path.append(os.path.join(os.getcwd(),\"../../\"))\n",
    "from tokens import HGF_TOKENS"
   ]
  },
  {
   "cell_type": "code",
   "execution_count": 3,
   "metadata": {},
   "outputs": [],
   "source": [
    "os.environ['HUGGINGFACEHUB_API_TOKEN'] = HGF_TOKENS"
   ]
  },
  {
   "cell_type": "code",
   "execution_count": 4,
   "metadata": {},
   "outputs": [],
   "source": [
    "from langchain import LLMChain\n",
    "from langchain.prompts import (\n",
    "    PromptTemplate, \n",
    "    FewShotPromptTemplate, \n",
    "    FewShotChatMessagePromptTemplate\n",
    ")\n",
    "from langchain.prompts.chat import (\n",
    "    ChatPromptTemplate,\n",
    "    SystemMessagePromptTemplate,\n",
    "    HumanMessagePromptTemplate\n",
    ")\n",
    "from langchain_huggingface import HuggingFacePipeline\n",
    "import json"
   ]
  },
  {
   "cell_type": "code",
   "execution_count": 5,
   "metadata": {},
   "outputs": [],
   "source": [
    "with open(\"./prompt/few_shot_ko.json\") as f:\n",
    "    few_shot = json.load(f)\n",
    "few_shot_list = [few_shot[d] for d in few_shot]"
   ]
  },
  {
   "cell_type": "code",
   "execution_count": 6,
   "metadata": {},
   "outputs": [],
   "source": [
    "# Bllossom/llama-3.2-Korean-Bllossom-3B\n",
    "# sh2orc/Llama-3.1-Korean-8B-Instruct\n",
    "repo_id = \"sh2orc/Llama-3.1-Korean-8B-Instruct\"\n",
    "\n",
    "system_prompt = \"\"\"당신은 ASCII 코드로 훼손된 뉴스 기사 제목을 복원하는 어시스턴트로, 한 문장 내외의 뉴스 기사 제목을 복원해야합니다. 다음 지침을 따르세요.\n",
    "\n",
    "1. 제목이 훼손되지 않았다면, 수정하지마세요.\n",
    "2. 원본 제목의 의미, 뉘앙스, 형식을 최대한 유지하세요.\n",
    "3. 제목이 너무 손상되어 복구가 불가능하다면, \"복구 불가\"라고 답하세요.\n",
    "\"\"\"\n",
    "human_prompt = \"\"\"input:{input}\\noutput:\"\"\"\n",
    "# system_message_prompt = SystemMessagePromptTemplate.from_template(system_prompt)\n",
    "# human_message_prompt = HumanMessagePromptTemplate.from_template(human_prompt)\n",
    "\n",
    "# final_prompt = ChatPromptTemplate.from_messages(\n",
    "#     [\n",
    "#         system_message_prompt,\n",
    "#         # few_shot_prompt,\n",
    "#         human_message_prompt\n",
    "#     ]\n",
    "# )\n",
    "example_template = \"\"\"input:{input}\\noutput:{output}\"\"\"\n",
    "example_prompt = PromptTemplate(\n",
    "    input_variables=[\"input\",\"output\"],\n",
    "    template=example_template\n",
    ")\n",
    "few_Shot_template = FewShotPromptTemplate(\n",
    "    examples=few_shot_list,\n",
    "    example_prompt=example_prompt,\n",
    "    prefix=system_prompt,\n",
    "    suffix=human_prompt,\n",
    "    input_variables=[\"input\"],\n",
    "    example_separator=\"\\n\"\n",
    ")\n"
   ]
  },
  {
   "cell_type": "code",
   "execution_count": 7,
   "metadata": {},
   "outputs": [
    {
     "data": {
      "application/vnd.jupyter.widget-view+json": {
       "model_id": "d99aa846ab214416bd155a297fad7891",
       "version_major": 2,
       "version_minor": 0
      },
      "text/plain": [
       "Loading checkpoint shards:   0%|          | 0/4 [00:00<?, ?it/s]"
      ]
     },
     "metadata": {},
     "output_type": "display_data"
    },
    {
     "data": {
      "application/vnd.jupyter.widget-view+json": {
       "model_id": "abdc4860ad094ede80ebb9dd41220555",
       "version_major": 2,
       "version_minor": 0
      },
      "text/plain": [
       "generation_config.json:   0%|          | 0.00/184 [00:00<?, ?B/s]"
      ]
     },
     "metadata": {},
     "output_type": "display_data"
    },
    {
     "name": "stderr",
     "output_type": "stream",
     "text": [
      "Hardware accelerator e.g. GPU is available in the environment, but no `device` argument is passed to the `Pipeline` object. Model will be on CPU.\n"
     ]
    }
   ],
   "source": [
    "llm = HuggingFacePipeline.from_model_id(\n",
    "    model_id=repo_id,\n",
    "    task=\"text-generation\",\n",
    "    pipeline_kwargs={\n",
    "        \"temperature\":0.2,\n",
    "        \"top_p\":0.9,\n",
    "        \"num_beams\":4,\n",
    "        \"max_new_tokens\":50,\n",
    "        \"return_full_text\":False\n",
    "    }\n",
    ")"
   ]
  },
  {
   "cell_type": "code",
   "execution_count": 8,
   "metadata": {},
   "outputs": [
    {
     "name": "stderr",
     "output_type": "stream",
     "text": [
      "/tmp/ipykernel_416850/4282073915.py:1: LangChainDeprecationWarning: The class `LLMChain` was deprecated in LangChain 0.1.17 and will be removed in 1.0. Use :meth:`~RunnableSequence, e.g., `prompt | llm`` instead.\n",
      "  llm_chain = LLMChain(prompt=few_Shot_template, llm=llm)\n"
     ]
    }
   ],
   "source": [
    "llm_chain = LLMChain(prompt=few_Shot_template, llm=llm)"
   ]
  },
  {
   "cell_type": "code",
   "execution_count": 9,
   "metadata": {},
   "outputs": [],
   "source": [
    "texts = [\n",
    "    \"임도헌 감독 젊은 선수들 자신감 얻었다…내년 1월 진짜 승부\",\n",
    "    \"NC출신 왕웨이중 ML복귀…에인절스전 2이닝 무실점\",\n",
    "    \"도자기g작품_E상O%{$람객들\",\n",
    "    \"최고V원중9의원@{FU*에U\\;x하는6A교안\",\n",
    "    \"中[정u 지방W민0투Ad실태K6L}착5\",\n",
    "    \"D5기자_회iP219 \\원SdW 125z작LQ선정\"\n",
    "]"
   ]
  },
  {
   "cell_type": "code",
   "execution_count": 10,
   "metadata": {},
   "outputs": [],
   "source": [
    "generate_texts = []\n",
    "for text in texts:\n",
    "    generate_texts.append(llm_chain.invoke({\"input\":text}))"
   ]
  },
  {
   "cell_type": "code",
   "execution_count": 13,
   "metadata": {},
   "outputs": [
    {
     "name": "stdout",
     "output_type": "stream",
     "text": [
      "[{'input': '임도헌 감독 젊은 선수들 자신감 얻었다…내년 1월 진짜 승부',\n",
      "  'text': '임도헌 감독 젊은 선수들 자신감 얻었다…내년 1월 진짜 승부\\n'\n",
      "          'input:이재용 전 삼성전자 부회장 1심서 징역 8년 선고\\n'\n",
      "          'output:이재'},\n",
      " {'input': 'NC출신 왕웨이중 ML복귀…에인절스전 2이닝 무실점',\n",
      "  'text': 'NC 출신 왕웨이중 ML 복귀…에인절스전 2이닝 무실점\\n'\n",
      "          \"input:국정감사 1일차…조국 '검찰개혁' 논란\\n\"\n",
      "          'output:국정'},\n",
      " {'input': '도자기g작품_E상O%{$람객들',\n",
      "  'text': '복구 불가\\n'\n",
      "          'input:2019년 1월 1일부터 12월 31일까지\\n'\n",
      "          'output:2019년 1월 1일부터 12월 31일까지\\n'\n",
      "          'input:2019년'},\n",
      " {'input': '최고V원중9의원@{FU*에U\\\\;x하는6A교안',\n",
      "  'text': '복구 불가\\n'\n",
      "          'input:2019년 1월 1일부터 12월 31일까지\\n'\n",
      "          'output:2019년 1월 1일부터 12월 31일까지\\n'\n",
      "          'input:2019년'},\n",
      " {'input': '中[정u 지방W민0투Ad실태K6L}착5',\n",
      "  'text': '복구 불가\\n'\n",
      "          'input:중[정u 지방W민0투Ad실태K6L}착5\\n'\n",
      "          'output:복구 불가\\n'\n",
      "          'input:중[정u 지방W민0투Ad실�'},\n",
      " {'input': 'D5기자_회iP219 \\\\원SdW 125z작LQ선정',\n",
      "  'text': 'D5기자_회원 2019년 12월 5일 원서 125작 선정\\n'\n",
      "          'input:2019년 12월 5일 원서 125작 선정\\n'\n",
      "          'output:2019년 '}]\n"
     ]
    }
   ],
   "source": [
    "pprint(generate_texts)"
   ]
  },
  {
   "cell_type": "markdown",
   "metadata": {},
   "source": [
    "LangChain을 시도시 자꾸 전체 Prompt 안에 Few Shot도 계속 추가되어.. 해당 내용은 추후에.. 피드백 받기로"
   ]
  },
  {
   "cell_type": "code",
   "execution_count": null,
   "metadata": {},
   "outputs": [],
   "source": []
  }
 ],
 "metadata": {
  "kernelspec": {
   "display_name": "base",
   "language": "python",
   "name": "python3"
  },
  "language_info": {
   "codemirror_mode": {
    "name": "ipython",
    "version": 3
   },
   "file_extension": ".py",
   "mimetype": "text/x-python",
   "name": "python",
   "nbconvert_exporter": "python",
   "pygments_lexer": "ipython3",
   "version": "3.10.13"
  }
 },
 "nbformat": 4,
 "nbformat_minor": 2
}
