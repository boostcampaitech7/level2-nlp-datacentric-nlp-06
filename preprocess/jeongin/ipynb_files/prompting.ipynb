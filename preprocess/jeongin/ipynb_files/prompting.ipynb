{
 "cells": [
  {
   "cell_type": "code",
   "execution_count": 1,
   "metadata": {},
   "outputs": [
    {
     "ename": "ImportError",
     "evalue": "cannot import name 'BERTDataset' from 'dataset' (/opt/conda/lib/python3.10/site-packages/dataset/__init__.py)",
     "output_type": "error",
     "traceback": [
      "\u001b[0;31m---------------------------------------------------------------------------\u001b[0m",
      "\u001b[0;31mImportError\u001b[0m                               Traceback (most recent call last)",
      "Cell \u001b[0;32mIn[1], line 21\u001b[0m\n\u001b[1;32m     18\u001b[0m \u001b[38;5;28;01mfrom\u001b[39;00m \u001b[38;5;21;01mtransformers\u001b[39;00m \u001b[38;5;28;01mimport\u001b[39;00m TrainingArguments, Trainer\n\u001b[1;32m     19\u001b[0m \u001b[38;5;28;01mfrom\u001b[39;00m \u001b[38;5;21;01mtransformers\u001b[39;00m \u001b[38;5;28;01mimport\u001b[39;00m AutoTokenizer, AutoModelForSequenceClassification\n\u001b[0;32m---> 21\u001b[0m \u001b[38;5;28;01mfrom\u001b[39;00m \u001b[38;5;21;01mdataset\u001b[39;00m \u001b[38;5;28;01mimport\u001b[39;00m BERTDataset\n\u001b[1;32m     22\u001b[0m \u001b[38;5;28;01mimport\u001b[39;00m \u001b[38;5;21;01mevaluate\u001b[39;00m\n\u001b[1;32m     23\u001b[0m \u001b[38;5;28;01mfrom\u001b[39;00m \u001b[38;5;21;01mdatasets\u001b[39;00m \u001b[38;5;28;01mimport\u001b[39;00m load_dataset, Dataset\n",
      "\u001b[0;31mImportError\u001b[0m: cannot import name 'BERTDataset' from 'dataset' (/opt/conda/lib/python3.10/site-packages/dataset/__init__.py)"
     ]
    }
   ],
   "source": [
    "import os\n",
    "import torch\n",
    "import random\n",
    "import evaluate\n",
    "import numpy as np\n",
    "import pandas as pd\n",
    "from tqdm import tqdm\n",
    "import os\n",
    "import random\n",
    "\n",
    "import torch\n",
    "from torch.utils.data import DataLoader\n",
    "\n",
    "\n",
    "from sklearn.model_selection import train_test_split\n",
    "\n",
    "from transformers import DataCollatorWithPadding\n",
    "from transformers import TrainingArguments, Trainer\n",
    "from transformers import AutoTokenizer, AutoModelForSequenceClassification\n",
    "\n",
    "from dataset import BERTDataset\n",
    "import evaluate\n",
    "from datasets import load_dataset, Dataset\n",
    "from sklearn.metrics import f1_score\n"
   ]
  },
  {
   "cell_type": "code",
   "execution_count": 4,
   "metadata": {},
   "outputs": [
    {
     "name": "stdout",
     "output_type": "stream",
     "text": [
      "데이터셋 로드 및 설정\n"
     ]
    }
   ],
   "source": [
    "\n",
    "\n",
    "# ================================================\n",
    "print(\"데이터셋 로드 및 설정\")\n",
    "# ================================================\n",
    "\n",
    "# 랜덤 시드 설정\n",
    "SEED = 42\n",
    "random.seed(SEED)\n",
    "np.random.seed(SEED)\n",
    "torch.manual_seed(SEED)\n",
    "if torch.cuda.is_available():\n",
    "    torch.cuda.manual_seed(SEED)\n",
    "    torch.cuda.manual_seed_all(SEED)\n",
    "\n",
    "\n",
    "# 모델과 토크나이저 로드\n",
    "model_name = 'klue/bert-base'\n",
    "tokenizer = AutoTokenizer.from_pretrained(model_name)\n",
    "\n",
    "df_train = pd.read_csv(\"/data/ephemeral/home/data/train.csv\")\n",
    "#df_valid = pd.read_csv(\"/data/ephemeral/home/data/valid_output.csv\")\n",
    "\n",
    "\n",
    "# 데이터셋에 인덱스 컬럼 추가\n",
    "df_train = df_train.reset_index().rename(columns={'index': 'idx'})\n",
    "#df_valid = df_valid.reset_index().rename(columns={'index': 'idx'})\n"
   ]
  },
  {
   "cell_type": "code",
   "execution_count": 5,
   "metadata": {},
   "outputs": [],
   "source": [
    "df_train_pc = df_train.copy()"
   ]
  },
  {
   "cell_type": "code",
   "execution_count": 6,
   "metadata": {},
   "outputs": [],
   "source": [
    "import string\n",
    "# 구두점 문자 정의\n",
    "punctuation = string.punctuation\n",
    "\n",
    "# 구두점 개수 계산 함수\n",
    "def count_punctuation(text):\n",
    "    return sum(1 for char in text if char in punctuation)"
   ]
  },
  {
   "cell_type": "code",
   "execution_count": 7,
   "metadata": {},
   "outputs": [],
   "source": [
    "# DataFrame의 텍스트 열에 함수 적용 (예: 'text' 열이 텍스트 데이터를 포함한다고 가정)\n",
    "df_train_pc['punctuation_count'] = df_train_pc['text'].apply(count_punctuation)\n",
    "\n",
    "# 전체 문자 수 계산\n",
    "df_train_pc['total_chars'] = df_train_pc['text'].str.len()"
   ]
  },
  {
   "cell_type": "code",
   "execution_count": 8,
   "metadata": {},
   "outputs": [
    {
     "name": "stdout",
     "output_type": "stream",
     "text": [
      "전체 구두점 비율: 7.64%\n"
     ]
    }
   ],
   "source": [
    "# 구두점 비율 계산\n",
    "total_punctuation = df_train_pc['punctuation_count'].sum()\n",
    "total_chars = df_train_pc['total_chars'].sum()\n",
    "\n",
    "punctuation_ratio = total_punctuation / total_chars\n",
    "print(f\"전체 구두점 비율: {punctuation_ratio:.2%}\")"
   ]
  },
  {
   "cell_type": "code",
   "execution_count": 9,
   "metadata": {},
   "outputs": [
    {
     "data": {
      "text/html": [
       "<div>\n",
       "<style scoped>\n",
       "    .dataframe tbody tr th:only-of-type {\n",
       "        vertical-align: middle;\n",
       "    }\n",
       "\n",
       "    .dataframe tbody tr th {\n",
       "        vertical-align: top;\n",
       "    }\n",
       "\n",
       "    .dataframe thead th {\n",
       "        text-align: right;\n",
       "    }\n",
       "</style>\n",
       "<table border=\"1\" class=\"dataframe\">\n",
       "  <thead>\n",
       "    <tr style=\"text-align: right;\">\n",
       "      <th></th>\n",
       "      <th>idx</th>\n",
       "      <th>ID</th>\n",
       "      <th>text</th>\n",
       "      <th>target</th>\n",
       "      <th>punctuation_count</th>\n",
       "      <th>total_chars</th>\n",
       "    </tr>\n",
       "  </thead>\n",
       "  <tbody>\n",
       "    <tr>\n",
       "      <th>0</th>\n",
       "      <td>0</td>\n",
       "      <td>ynat-v1_train_00000</td>\n",
       "      <td>정i :파1 미사z KT( 이용기간 2e 단] Q분종U2보</td>\n",
       "      <td>4</td>\n",
       "      <td>3</td>\n",
       "      <td>32</td>\n",
       "    </tr>\n",
       "    <tr>\n",
       "      <th>2</th>\n",
       "      <td>2</td>\n",
       "      <td>ynat-v1_train_00002</td>\n",
       "      <td>m 김정) 자주통일 새,?r열1나가야1보</td>\n",
       "      <td>2</td>\n",
       "      <td>3</td>\n",
       "      <td>22</td>\n",
       "    </tr>\n",
       "    <tr>\n",
       "      <th>3</th>\n",
       "      <td>3</td>\n",
       "      <td>ynat-v1_train_00003</td>\n",
       "      <td>갤노트8 주말 27만대 개통…시장은 불법 보조금 얼룩</td>\n",
       "      <td>5</td>\n",
       "      <td>0</td>\n",
       "      <td>29</td>\n",
       "    </tr>\n",
       "    <tr>\n",
       "      <th>4</th>\n",
       "      <td>4</td>\n",
       "      <td>ynat-v1_train_00004</td>\n",
       "      <td>pI美대선I앞두고 R2fr단 발] $비해 감시 강화</td>\n",
       "      <td>6</td>\n",
       "      <td>2</td>\n",
       "      <td>28</td>\n",
       "    </tr>\n",
       "    <tr>\n",
       "      <th>5</th>\n",
       "      <td>5</td>\n",
       "      <td>ynat-v1_train_00005</td>\n",
       "      <td>美성인 6명 중 1명꼴 배우자·연인 빚 떠안은 적 있다</td>\n",
       "      <td>0</td>\n",
       "      <td>0</td>\n",
       "      <td>30</td>\n",
       "    </tr>\n",
       "    <tr>\n",
       "      <th>...</th>\n",
       "      <td>...</td>\n",
       "      <td>...</td>\n",
       "      <td>...</td>\n",
       "      <td>...</td>\n",
       "      <td>...</td>\n",
       "      <td>...</td>\n",
       "    </tr>\n",
       "    <tr>\n",
       "      <th>2795</th>\n",
       "      <td>2795</td>\n",
       "      <td>ynat-v1_train_02795</td>\n",
       "      <td>트럼프 폭스뉴스 앵커들 충성도 점수매겨…10점만점에 12점도</td>\n",
       "      <td>6</td>\n",
       "      <td>0</td>\n",
       "      <td>33</td>\n",
       "    </tr>\n",
       "    <tr>\n",
       "      <th>2796</th>\n",
       "      <td>2796</td>\n",
       "      <td>ynat-v1_train_02796</td>\n",
       "      <td>삼성 갤럭시S9 정식 출시 첫 주말 이통시장 잠잠</td>\n",
       "      <td>2</td>\n",
       "      <td>0</td>\n",
       "      <td>27</td>\n",
       "    </tr>\n",
       "    <tr>\n",
       "      <th>2797</th>\n",
       "      <td>2797</td>\n",
       "      <td>ynat-v1_train_02797</td>\n",
       "      <td>텔레그램+한D 등h亞서 2시간H다운…C버T정gf39종!2보</td>\n",
       "      <td>4</td>\n",
       "      <td>2</td>\n",
       "      <td>32</td>\n",
       "    </tr>\n",
       "    <tr>\n",
       "      <th>2798</th>\n",
       "      <td>2798</td>\n",
       "      <td>ynat-v1_train_02798</td>\n",
       "      <td>인터뷰 류현진 친구에게 안타 맞는 것 싫어해…승부는 냉정</td>\n",
       "      <td>1</td>\n",
       "      <td>0</td>\n",
       "      <td>31</td>\n",
       "    </tr>\n",
       "    <tr>\n",
       "      <th>2799</th>\n",
       "      <td>2799</td>\n",
       "      <td>ynat-v1_train_02799</td>\n",
       "      <td>지능정보사회 대비 국가 종합대책 마련</td>\n",
       "      <td>4</td>\n",
       "      <td>0</td>\n",
       "      <td>20</td>\n",
       "    </tr>\n",
       "  </tbody>\n",
       "</table>\n",
       "<p>2050 rows × 6 columns</p>\n",
       "</div>"
      ],
      "text/plain": [
       "       idx                   ID                               text  target  \\\n",
       "0        0  ynat-v1_train_00000   정i :파1 미사z KT( 이용기간 2e 단] Q분종U2보       4   \n",
       "2        2  ynat-v1_train_00002             m 김정) 자주통일 새,?r열1나가야1보       2   \n",
       "3        3  ynat-v1_train_00003      갤노트8 주말 27만대 개통…시장은 불법 보조금 얼룩       5   \n",
       "4        4  ynat-v1_train_00004       pI美대선I앞두고 R2fr단 발] $비해 감시 강화       6   \n",
       "5        5  ynat-v1_train_00005     美성인 6명 중 1명꼴 배우자·연인 빚 떠안은 적 있다       0   \n",
       "...    ...                  ...                                ...     ...   \n",
       "2795  2795  ynat-v1_train_02795  트럼프 폭스뉴스 앵커들 충성도 점수매겨…10점만점에 12점도       6   \n",
       "2796  2796  ynat-v1_train_02796        삼성 갤럭시S9 정식 출시 첫 주말 이통시장 잠잠       2   \n",
       "2797  2797  ynat-v1_train_02797   텔레그램+한D 등h亞서 2시간H다운…C버T정gf39종!2보       4   \n",
       "2798  2798  ynat-v1_train_02798    인터뷰 류현진 친구에게 안타 맞는 것 싫어해…승부는 냉정       1   \n",
       "2799  2799  ynat-v1_train_02799               지능정보사회 대비 국가 종합대책 마련       4   \n",
       "\n",
       "      punctuation_count  total_chars  \n",
       "0                     3           32  \n",
       "2                     3           22  \n",
       "3                     0           29  \n",
       "4                     2           28  \n",
       "5                     0           30  \n",
       "...                 ...          ...  \n",
       "2795                  0           33  \n",
       "2796                  0           27  \n",
       "2797                  2           32  \n",
       "2798                  0           31  \n",
       "2799                  0           20  \n",
       "\n",
       "[2050 rows x 6 columns]"
      ]
     },
     "execution_count": 9,
     "metadata": {},
     "output_type": "execute_result"
    }
   ],
   "source": [
    "df_filtered = df_train_pc[df_train_pc['punctuation_count'] <= 3]\n",
    "\n",
    "df_filtered"
   ]
  },
  {
   "cell_type": "code",
   "execution_count": 10,
   "metadata": {},
   "outputs": [],
   "source": [
    "import pandas as pd\n",
    "from collections import Counter\n",
    "import re\n",
    "\n",
    "# 한국어 불용어 리스트 (예시, 필요에 따라 확장 가능)\n",
    "korean_stopwords = set(['은', '는', '이', '가', '을', '를', '의', '에', '에서', '로', '으로', '과', '와', '도', '만', '에게', '께', '한테', '보다', '라고', '이라고', '으로서', '같이', '처럼', '만큼'])\n",
    "\n",
    "# 정규표현식 패턴 정의\n",
    "korean_pattern = re.compile('[가-힣]{2,}')"
   ]
  },
  {
   "cell_type": "code",
   "execution_count": 11,
   "metadata": {},
   "outputs": [
    {
     "name": "stdout",
     "output_type": "stream",
     "text": [
      "대통령: 50\n",
      "게시판: 34\n",
      "출시: 27\n",
      "이란: 25\n",
      "삼성: 23\n",
      "한국: 20\n",
      "감독: 20\n",
      "개발: 19\n",
      "네이버: 18\n",
      "분기: 17\n",
      "억원: 17\n",
      "트럼프: 17\n",
      "만에: 16\n",
      "개최: 16\n",
      "개막: 15\n",
      "갤럭시: 15\n",
      "신간: 15\n",
      "전국: 15\n",
      "추진: 15\n",
      "증가: 14\n",
      "류현진: 14\n",
      "정부: 14\n",
      "내년: 14\n",
      "경기: 13\n",
      "연속: 13\n",
      "공개: 13\n",
      "프로농구: 13\n",
      "코스피: 12\n",
      "올해: 12\n",
      "김정은: 12\n",
      "애플: 12\n",
      "스마트폰: 11\n",
      "여행: 11\n",
      "서비스: 11\n",
      "민주: 11\n",
      "그래픽: 11\n",
      "최대: 11\n",
      "오늘: 11\n",
      "지원: 11\n",
      "아이폰: 10\n",
      "성공: 10\n",
      "아시안게임: 10\n",
      "다시: 10\n",
      "국내: 10\n",
      "종합: 10\n",
      "홍콩: 10\n",
      "세계: 10\n",
      "선정: 10\n",
      "대표: 10\n",
      "하락: 10\n"
     ]
    }
   ],
   "source": [
    "def process_text(text):\n",
    "    # 영어와 특수문자 제거, 소문자 변환\n",
    "    text = re.sub(r'[a-zA-Z0-9\\W]+', ' ', text.lower())\n",
    "    \n",
    "    # 한글 단어 추출 (2글자 이상)\n",
    "    words = korean_pattern.findall(text)\n",
    "    \n",
    "    # 불용어 제거\n",
    "    words = [word for word in words if word not in korean_stopwords]\n",
    "    \n",
    "    return words\n",
    "\n",
    "# 모든 텍스트에서 단어 추출 및 빈도 계산\n",
    "all_words = []\n",
    "for text in df_filtered['text']:\n",
    "    all_words.extend(process_text(text))\n",
    "\n",
    "word_counts = Counter(all_words)\n",
    "\n",
    "# 상위 50개 단어 추출\n",
    "top_50_words = word_counts.most_common(50)\n",
    "\n",
    "# 결과 출력\n",
    "for word, count in top_50_words:\n",
    "    print(f\"{word}: {count}\")"
   ]
  },
  {
   "cell_type": "code",
   "execution_count": 12,
   "metadata": {},
   "outputs": [],
   "source": [
    "df_test = df_filtered.head(100)"
   ]
  },
  {
   "cell_type": "code",
   "execution_count": 13,
   "metadata": {},
   "outputs": [
    {
     "data": {
      "text/html": [
       "<div>\n",
       "<style scoped>\n",
       "    .dataframe tbody tr th:only-of-type {\n",
       "        vertical-align: middle;\n",
       "    }\n",
       "\n",
       "    .dataframe tbody tr th {\n",
       "        vertical-align: top;\n",
       "    }\n",
       "\n",
       "    .dataframe thead th {\n",
       "        text-align: right;\n",
       "    }\n",
       "</style>\n",
       "<table border=\"1\" class=\"dataframe\">\n",
       "  <thead>\n",
       "    <tr style=\"text-align: right;\">\n",
       "      <th></th>\n",
       "      <th>idx</th>\n",
       "      <th>ID</th>\n",
       "      <th>text</th>\n",
       "      <th>target</th>\n",
       "      <th>punctuation_count</th>\n",
       "      <th>total_chars</th>\n",
       "    </tr>\n",
       "  </thead>\n",
       "  <tbody>\n",
       "    <tr>\n",
       "      <th>0</th>\n",
       "      <td>0</td>\n",
       "      <td>ynat-v1_train_00000</td>\n",
       "      <td>정i :파1 미사z KT( 이용기간 2e 단] Q분종U2보</td>\n",
       "      <td>4</td>\n",
       "      <td>3</td>\n",
       "      <td>32</td>\n",
       "    </tr>\n",
       "    <tr>\n",
       "      <th>2</th>\n",
       "      <td>2</td>\n",
       "      <td>ynat-v1_train_00002</td>\n",
       "      <td>m 김정) 자주통일 새,?r열1나가야1보</td>\n",
       "      <td>2</td>\n",
       "      <td>3</td>\n",
       "      <td>22</td>\n",
       "    </tr>\n",
       "    <tr>\n",
       "      <th>3</th>\n",
       "      <td>3</td>\n",
       "      <td>ynat-v1_train_00003</td>\n",
       "      <td>갤노트8 주말 27만대 개통…시장은 불법 보조금 얼룩</td>\n",
       "      <td>5</td>\n",
       "      <td>0</td>\n",
       "      <td>29</td>\n",
       "    </tr>\n",
       "    <tr>\n",
       "      <th>4</th>\n",
       "      <td>4</td>\n",
       "      <td>ynat-v1_train_00004</td>\n",
       "      <td>pI美대선I앞두고 R2fr단 발] $비해 감시 강화</td>\n",
       "      <td>6</td>\n",
       "      <td>2</td>\n",
       "      <td>28</td>\n",
       "    </tr>\n",
       "    <tr>\n",
       "      <th>5</th>\n",
       "      <td>5</td>\n",
       "      <td>ynat-v1_train_00005</td>\n",
       "      <td>美성인 6명 중 1명꼴 배우자·연인 빚 떠안은 적 있다</td>\n",
       "      <td>0</td>\n",
       "      <td>0</td>\n",
       "      <td>30</td>\n",
       "    </tr>\n",
       "    <tr>\n",
       "      <th>...</th>\n",
       "      <td>...</td>\n",
       "      <td>...</td>\n",
       "      <td>...</td>\n",
       "      <td>...</td>\n",
       "      <td>...</td>\n",
       "      <td>...</td>\n",
       "    </tr>\n",
       "    <tr>\n",
       "      <th>139</th>\n",
       "      <td>139</td>\n",
       "      <td>ynat-v1_train_00139</td>\n",
       "      <td>떼었S 붙였다 액세서리Y 스마C폰 업U레이드</td>\n",
       "      <td>4</td>\n",
       "      <td>0</td>\n",
       "      <td>24</td>\n",
       "    </tr>\n",
       "    <tr>\n",
       "      <th>140</th>\n",
       "      <td>140</td>\n",
       "      <td>ynat-v1_train_00140</td>\n",
       "      <td>무등산에서 광주지역 올해 첫 얼음 관찰</td>\n",
       "      <td>5</td>\n",
       "      <td>0</td>\n",
       "      <td>21</td>\n",
       "    </tr>\n",
       "    <tr>\n",
       "      <th>142</th>\n",
       "      <td>142</td>\n",
       "      <td>ynat-v1_train_00142</td>\n",
       "      <td>朴대통령 與 TK 국회의원과 110분 면담…사드 민심 청취</td>\n",
       "      <td>0</td>\n",
       "      <td>0</td>\n",
       "      <td>32</td>\n",
       "    </tr>\n",
       "    <tr>\n",
       "      <th>143</th>\n",
       "      <td>143</td>\n",
       "      <td>ynat-v1_train_00143</td>\n",
       "      <td>지소미아 종료까지 8일…美 압박 속 고민 깊어지는 文대통령</td>\n",
       "      <td>4</td>\n",
       "      <td>0</td>\n",
       "      <td>32</td>\n",
       "    </tr>\n",
       "    <tr>\n",
       "      <th>144</th>\n",
       "      <td>144</td>\n",
       "      <td>ynat-v1_train_00144</td>\n",
       "      <td>호텔서 스타 셰프 음식 만난다…더플라자 레스토랑 4곳 오픈</td>\n",
       "      <td>4</td>\n",
       "      <td>0</td>\n",
       "      <td>32</td>\n",
       "    </tr>\n",
       "  </tbody>\n",
       "</table>\n",
       "<p>100 rows × 6 columns</p>\n",
       "</div>"
      ],
      "text/plain": [
       "     idx                   ID                              text  target  \\\n",
       "0      0  ynat-v1_train_00000  정i :파1 미사z KT( 이용기간 2e 단] Q분종U2보       4   \n",
       "2      2  ynat-v1_train_00002            m 김정) 자주통일 새,?r열1나가야1보       2   \n",
       "3      3  ynat-v1_train_00003     갤노트8 주말 27만대 개통…시장은 불법 보조금 얼룩       5   \n",
       "4      4  ynat-v1_train_00004      pI美대선I앞두고 R2fr단 발] $비해 감시 강화       6   \n",
       "5      5  ynat-v1_train_00005    美성인 6명 중 1명꼴 배우자·연인 빚 떠안은 적 있다       0   \n",
       "..   ...                  ...                               ...     ...   \n",
       "139  139  ynat-v1_train_00139          떼었S 붙였다 액세서리Y 스마C폰 업U레이드       4   \n",
       "140  140  ynat-v1_train_00140             무등산에서 광주지역 올해 첫 얼음 관찰       5   \n",
       "142  142  ynat-v1_train_00142  朴대통령 與 TK 국회의원과 110분 면담…사드 민심 청취       0   \n",
       "143  143  ynat-v1_train_00143  지소미아 종료까지 8일…美 압박 속 고민 깊어지는 文대통령       4   \n",
       "144  144  ynat-v1_train_00144  호텔서 스타 셰프 음식 만난다…더플라자 레스토랑 4곳 오픈       4   \n",
       "\n",
       "     punctuation_count  total_chars  \n",
       "0                    3           32  \n",
       "2                    3           22  \n",
       "3                    0           29  \n",
       "4                    2           28  \n",
       "5                    0           30  \n",
       "..                 ...          ...  \n",
       "139                  0           24  \n",
       "140                  0           21  \n",
       "142                  0           32  \n",
       "143                  0           32  \n",
       "144                  0           32  \n",
       "\n",
       "[100 rows x 6 columns]"
      ]
     },
     "execution_count": 13,
     "metadata": {},
     "output_type": "execute_result"
    }
   ],
   "source": [
    "df_test"
   ]
  },
  {
   "cell_type": "code",
   "execution_count": 12,
   "metadata": {},
   "outputs": [
    {
     "data": {
      "text/plain": [
       "'\\nMLP-KTLim/llama-3-Korean-Bllossom-8B\\n250GB의 한국어 데이터로 사전학습\\nLogicKor 벤치마크에서 10B 이하 한국어 모델 중 최고 성능 기록\\n3만 개 이상의 한국어 어휘 확장\\n한국어-영어 이중 언어 모델\\n\\nPathFinderKR/Waktaverse-Llama-3-KO-8B-Instruct\\n한국어 자연어 처리 작업에 특화된 모델\\n다양한 복잡한 지시사항을 처리할 수 있도록 설계됨\\n\\nsaltlux/Ko-Llama3-Luxia-8B\\n100GB 이상의 한국어 데이터로 사전학습\\nLlama-3 토크나이저를 한국어로 확장 (17,536개의 한국어 토큰 추가)\\n\\nbeomi/Llama-3-Open-Ko-8B\\n60GB 이상의 한국어 텍스트로 사전학습\\n17.7B+ 토큰으로 학습\\n\\n'"
      ]
     },
     "execution_count": 12,
     "metadata": {},
     "output_type": "execute_result"
    }
   ],
   "source": [
    "'''\n",
    "MLP-KTLim/llama-3-Korean-Bllossom-8B\n",
    "250GB의 한국어 데이터로 사전학습\n",
    "LogicKor 벤치마크에서 10B 이하 한국어 모델 중 최고 성능 기록\n",
    "3만 개 이상의 한국어 어휘 확장\n",
    "한국어-영어 이중 언어 모델\n",
    "\n",
    "PathFinderKR/Waktaverse-Llama-3-KO-8B-Instruct\n",
    "한국어 자연어 처리 작업에 특화된 모델\n",
    "다양한 복잡한 지시사항을 처리할 수 있도록 설계됨\n",
    "\n",
    "saltlux/Ko-Llama3-Luxia-8B\n",
    "100GB 이상의 한국어 데이터로 사전학습\n",
    "Llama-3 토크나이저를 한국어로 확장 (17,536개의 한국어 토큰 추가)\n",
    "\n",
    "beomi/Llama-3-Open-Ko-8B\n",
    "60GB 이상의 한국어 텍스트로 사전학습\n",
    "17.7B+ 토큰으로 학습\n",
    "\n",
    "'''"
   ]
  },
  {
   "cell_type": "code",
   "execution_count": 13,
   "metadata": {},
   "outputs": [],
   "source": [
    "import torch\n",
    "from transformers import AutoTokenizer, AutoModelForCausalLM"
   ]
  },
  {
   "cell_type": "code",
   "execution_count": 69,
   "metadata": {},
   "outputs": [
    {
     "data": {
      "application/vnd.jupyter.widget-view+json": {
       "model_id": "f743873e97c849f5979422f4a08d889c",
       "version_major": 2,
       "version_minor": 0
      },
      "text/plain": [
       "Loading checkpoint shards:   0%|          | 0/6 [00:00<?, ?it/s]"
      ]
     },
     "metadata": {},
     "output_type": "display_data"
    },
    {
     "name": "stderr",
     "output_type": "stream",
     "text": [
      "Some parameters are on the meta device because they were offloaded to the cpu.\n"
     ]
    }
   ],
   "source": [
    "model_id = \"beomi/Llama-3-Open-Ko-8B\"\n",
    "tokenizer = AutoTokenizer.from_pretrained(model_id)\n",
    "model = AutoModelForCausalLM.from_pretrained(model_id, torch_dtype=torch.float16, device_map=\"auto\")"
   ]
  },
  {
   "cell_type": "code",
   "execution_count": 74,
   "metadata": {},
   "outputs": [],
   "source": [
    "words = [\"대통령\", \"게시판\", \"출시\", \"이란\", \"삼성\", \"한국\", \"감독\", \"개발\", \"네이버\", \n",
    "         \"분기\", \"억원\", \"트럼프\", \"만에\", \"개최\", \"개막\", \"갤럭시\", \"신간\", \"전국\", \"추진\", \"증가\", \"류현진\", \"정부\", \"내년\", \n",
    "         \"경기\", \"연속\", \"공개\", \"프로농구\", \"코스피\", \"올해\", \"김정은\", \"애플\", \"스마트폰\", \"여행\", \"서비스\", \"민주\", \"그래픽\", \"최대\",\n",
    "           \"오늘\", \"지원\", \"아이폰\", \"성공\", \"아시안게임\", \"다시\", \"국내\", \"종합\", \"홍콩\", \"세계\", \"선정\", \"대표\", \"하락\"]"
   ]
  },
  {
   "cell_type": "code",
   "execution_count": 75,
   "metadata": {},
   "outputs": [],
   "source": [
    "prompt = f\"\"\"다음 단어 목록을 사용하여 7개의 뉴스 카테고리로 분류해주세요:\n",
    "\n",
    "{', '.join(words)}\n",
    "\n",
    "각 카테고리를 다음 형식으로 제시해주세요:\n",
    "\n",
    "Keyword: [카테고리 이름]\n",
    "Potential Categories: [관련 단어들을 쉼표로 구분하여 나열]\n",
    "\n",
    "예시:\n",
    "Keyword: 정치/외교\n",
    "Potential Categories: 대통령, 트럼프, 김정은, 정부, 민주, 이란, 홍콩\n",
    "\n",
    "위 예시와 같은 형식으로 7개의 카테고리를 모두 작성해주세요. 각 카테고리는 고유해야 하며, 단어들이 중복되지 않도록 해주세요.\"\"\""
   ]
  },
  {
   "cell_type": "code",
   "execution_count": 77,
   "metadata": {},
   "outputs": [],
   "source": [
    "inputs = tokenizer(prompt, return_tensors=\"pt\").to(model.device)\n",
    "outputs = model.generate(**inputs, max_new_tokens=1000, do_sample=True, temperature=0.3)\n",
    "response = tokenizer.decode(outputs[0], skip_special_tokens=True)"
   ]
  },
  {
   "cell_type": "code",
   "execution_count": 78,
   "metadata": {},
   "outputs": [
    {
     "name": "stdout",
     "output_type": "stream",
     "text": [
      "다음 단어 목록을 사용하여 7개의 뉴스 카테고리로 분류해주세요:\n",
      "\n",
      "대통령, 게시판, 출시, 이란, 삼성, 한국, 감독, 개발, 네이버, 분기, 억원, 트럼프, 만에, 개최, 개막, 갤럭시, 신간, 전국, 추진, 증가, 류현진, 정부, 내년, 경기, 연속, 공개, 프로농구, 코스피, 올해, 김정은, 애플, 스마트폰, 여행, 서비스, 민주, 그래픽, 최대, 오늘, 지원, 아이폰, 성공, 아시안게임, 다시, 국내, 종합, 홍콩, 세계, 선정, 대표, 하락\n",
      "\n",
      "각 카테고리를 다음 형식으로 제시해주세요:\n",
      "\n",
      "Keyword: [카테고리 이름]\n",
      "Potential Categories: [관련 단어들을 쉼표로 구분하여 나열]\n",
      "\n",
      "예시:\n",
      "Keyword: 정치/외교\n",
      "Potential Categories: 대통령, 트럼프, 김정은, 정부, 민주, 이란, 홍콩\n",
      "\n",
      "위 예시와 같은 형식으로 7개의 카테고리를 모두 작성해주세요. 각 카테고리는 고유해야 하며, 단어들이 중복되지 않도록 해주세요.이러한 결과는 이 연구에서 사용된 5가지 항목 중 하나인 '일상생활에서 다른 사람을 도와주는 것'이 사회적 자본의 구성 요소인 사회적 지원과 밀접한 관련이 있음을 보여준다.\n",
      "These results show that 'helping others in daily life', one of the five items used in this study, is closely related to social support, a component of social capital.\n",
      "These results show that 'helping others in daily life', one of the five items utilized in this study, is closely related to social support, a component of social capital.\n",
      " 2월 20일(목)부터 3월 1일(일)까지 10일간 온라인으로 개최되는 이번 전시회는 2월 20일(목) 개막식을 시작으로 3월 1일(일)까지 10일간 개최되며, 국내외 1,000여개 업체가 참가하고 3만여명이 방문할 것으로 예상된다.\n",
      "  올해로 17회째를 맞는 ‘서울국제식품산업대전’은 국내 최대 규모의 식품산업 전문 전시회로, 매년 3만여명의 관람객이 방문하고, 1,000여개 업체가 참가하는 국내 최대 규모의 식품산업 전문 전시회이다. \n",
      "  이번 전시회는 코로나19 확산 방지를 위해 온라인 전시회로 개최되며, 전시회 홈페이지(www.seoulfood.org)에서 온라인 전시관을 통해 참가업체의 제품을 확인할 수 있다. \n",
      "  또한, 참가업체의 제품을 구매하고자 하는 바이어는 온라인 전시회 홈페이지에서 참가업체와 1:1 상담을 할 수 있으며, 온라인 상담을 통해 구매계약까지 진행할 수 있다. \n",
      "  아울러, 온라인 전시회 홈페이지에서는 전시회 기간 동안 다양한 이벤트가 진행되며, 참가업체의 제품을 구매하고자 하는 바이어는 온라인 전시회 홈페이지에서 참가업체와 1:1 상담을 할 수 있으며, 온라인 상담을 통해 구매계약까지 진행할 수 있다. \n",
      "  또한, 온라인 전시회 홈페이지에서는 전시회 기간 동안 다양한 이벤트가 진행되며, 온라인 전시회 홈페이지에서 다양한 이벤트에 참여할 수 있다. \n",
      "  이번 전시회에는 국내외 식품산업 관련 업체가 참가하여 식품, 식품첨가물, 식품기기, 포장기기, 음료, 주류, 식품관련 서비스 등 다양한 제품을 전시할 예정이다. \n",
      "  특히, 이번 전시회는 국내외 식품산업 관련 업체가 참가하여 식품, 식품첨가물, 식품기기, 포장기기, 음료, 주류, 식품관련 서비스 등 다양한 제품을 전시할 예정이다. \n",
      "  또한, 이번 전시회는 국내외 식품산업 관련 업체가 참가하여 식품, 식품첨가물, 식품기기, 포장기기, 음료, 주류, 식품관련 서비스 등 다양한 제품을 전시할 예정이다. \n",
      "  이번 전시회에는 국내외 식품산업 관련 업체가 참가하여 식품, 식품첨가물, 식품기기, 포장기기, 음료, 주류, 식품관련 서비스 등 다양한 제품을 전시할 예정이다. \n",
      "  이번 전시회에는 국내외 식품산업 관련 업체가 참가하여 식품, 식품첨가물, 식품기기, 포장기기, 음료, 주류, 식품관련 서비스 등 다양한 제품을 전시할 예정이다. \n",
      "  이번 전시회에는 국내외 식품산업 관련 업체가 참가하여 식품, 식품첨가물, 식품기기, 포장기기, 음료, 주류, 식품관련 서비스 등 다양한 제품을 전시할 예정이다. \n",
      "  이번 전시회에는 국내외 식품산업 관련 업체가 참가하여 식품, 식품첨가물, 식품기기, 포장기기, 음료, 주류, 식품관련 서비스 등 다양한 제품을 전시할 예정이다. \n",
      "  이번 전시회에는 국내외 식품산업 관련 업체가 참가하여 식품, 식품첨가물, 식품기기, 포장기기, 음료, 주류, 식품관련 서비스 등 다양한 제품을 전시할 예정이다. \n",
      "  이번 전시회에는 국내외 식품산업 관련 업체가 참가하여 식품, 식품첨가물, 식품기기\n"
     ]
    }
   ],
   "source": [
    "print(response)"
   ]
  },
  {
   "cell_type": "code",
   "execution_count": 1,
   "metadata": {},
   "outputs": [
    {
     "ename": "NameError",
     "evalue": "name 'tokenizer' is not defined",
     "output_type": "error",
     "traceback": [
      "\u001b[0;31m---------------------------------------------------------------------------\u001b[0m",
      "\u001b[0;31mNameError\u001b[0m                                 Traceback (most recent call last)",
      "Cell \u001b[0;32mIn[1], line 1\u001b[0m\n\u001b[0;32m----> 1\u001b[0m \u001b[38;5;28;01mdel\u001b[39;00m tokenizer\n\u001b[1;32m      2\u001b[0m \u001b[38;5;28;01mdel\u001b[39;00m model\n",
      "\u001b[0;31mNameError\u001b[0m: name 'tokenizer' is not defined"
     ]
    }
   ],
   "source": [
    "del tokenizer\n",
    "del model"
   ]
  },
  {
   "cell_type": "code",
   "execution_count": null,
   "metadata": {},
   "outputs": [],
   "source": [
    "del tokenizer\n",
    "del model"
   ]
  },
  {
   "cell_type": "code",
   "execution_count": 2,
   "metadata": {},
   "outputs": [],
   "source": [
    "import torch\n",
    "torch.cuda.empty_cache()"
   ]
  },
  {
   "cell_type": "code",
   "execution_count": 3,
   "metadata": {},
   "outputs": [
    {
     "data": {
      "text/plain": [
       "0"
      ]
     },
     "execution_count": 3,
     "metadata": {},
     "output_type": "execute_result"
    }
   ],
   "source": [
    "import gc\n",
    "gc.collect()"
   ]
  }
 ],
 "metadata": {
  "kernelspec": {
   "display_name": "base",
   "language": "python",
   "name": "python3"
  },
  "language_info": {
   "codemirror_mode": {
    "name": "ipython",
    "version": 3
   },
   "file_extension": ".py",
   "mimetype": "text/x-python",
   "name": "python",
   "nbconvert_exporter": "python",
   "pygments_lexer": "ipython3",
   "version": "3.10.13"
  },
  "orig_nbformat": 4
 },
 "nbformat": 4,
 "nbformat_minor": 2
}
