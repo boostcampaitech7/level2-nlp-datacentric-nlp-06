{
 "cells": [
  {
   "cell_type": "markdown",
   "metadata": {},
   "source": [
    "### validation 결과 확인"
   ]
  },
  {
   "cell_type": "code",
   "execution_count": 18,
   "metadata": {},
   "outputs": [
    {
     "data": {
      "text/html": [
       "<div>\n",
       "<style scoped>\n",
       "    .dataframe tbody tr th:only-of-type {\n",
       "        vertical-align: middle;\n",
       "    }\n",
       "\n",
       "    .dataframe tbody tr th {\n",
       "        vertical-align: top;\n",
       "    }\n",
       "\n",
       "    .dataframe thead th {\n",
       "        text-align: right;\n",
       "    }\n",
       "</style>\n",
       "<table border=\"1\" class=\"dataframe\">\n",
       "  <thead>\n",
       "    <tr style=\"text-align: right;\">\n",
       "      <th></th>\n",
       "      <th>target</th>\n",
       "      <th>total</th>\n",
       "      <th>train</th>\n",
       "      <th>valid</th>\n",
       "      <th>f1</th>\n",
       "    </tr>\n",
       "  </thead>\n",
       "  <tbody>\n",
       "    <tr>\n",
       "      <th>0</th>\n",
       "      <td>0</td>\n",
       "      <td>432</td>\n",
       "      <td>304</td>\n",
       "      <td>136</td>\n",
       "      <td>0.659091</td>\n",
       "    </tr>\n",
       "    <tr>\n",
       "      <th>1</th>\n",
       "      <td>1</td>\n",
       "      <td>539</td>\n",
       "      <td>368</td>\n",
       "      <td>135</td>\n",
       "      <td>0.777778</td>\n",
       "    </tr>\n",
       "    <tr>\n",
       "      <th>2</th>\n",
       "      <td>2</td>\n",
       "      <td>359</td>\n",
       "      <td>255</td>\n",
       "      <td>110</td>\n",
       "      <td>0.64486</td>\n",
       "    </tr>\n",
       "    <tr>\n",
       "      <th>3</th>\n",
       "      <td>3</td>\n",
       "      <td>259</td>\n",
       "      <td>184</td>\n",
       "      <td>37</td>\n",
       "      <td>0.5</td>\n",
       "    </tr>\n",
       "    <tr>\n",
       "      <th>4</th>\n",
       "      <td>4</td>\n",
       "      <td>399</td>\n",
       "      <td>288</td>\n",
       "      <td>158</td>\n",
       "      <td>0.60223</td>\n",
       "    </tr>\n",
       "    <tr>\n",
       "      <th>5</th>\n",
       "      <td>5</td>\n",
       "      <td>394</td>\n",
       "      <td>268</td>\n",
       "      <td>123</td>\n",
       "      <td>0.626506</td>\n",
       "    </tr>\n",
       "    <tr>\n",
       "      <th>6</th>\n",
       "      <td>6</td>\n",
       "      <td>418</td>\n",
       "      <td>293</td>\n",
       "      <td>141</td>\n",
       "      <td>0.691729</td>\n",
       "    </tr>\n",
       "  </tbody>\n",
       "</table>\n",
       "</div>"
      ],
      "text/plain": [
       "   target total train valid        f1\n",
       "0       0   432   304   136  0.659091\n",
       "1       1   539   368   135  0.777778\n",
       "2       2   359   255   110   0.64486\n",
       "3       3   259   184    37       0.5\n",
       "4       4   399   288   158   0.60223\n",
       "5       5   394   268   123  0.626506\n",
       "6       6   418   293   141  0.691729"
      ]
     },
     "execution_count": 18,
     "metadata": {},
     "output_type": "execute_result"
    }
   ],
   "source": [
    "import numpy as np\n",
    "import pandas as pd\n",
    "\n",
    "targets = pd.DataFrame(columns=['target', 'total', 'train', 'valid', 'f1'])\n",
    "targets['target'] = np.arange(7)\n",
    "\n",
    "v3_total = pd.read_csv('../../v3-label_txt/train.csv')\n",
    "v3_valid_output = pd.read_csv('../../v3-label_txt/valid_output.csv')\n",
    "\n",
    "v3_ids = list(v3_valid_output['ID'].values)\n",
    "v3_train = v3_total[~v3_total['ID'].str.contains('|'.join(v3_ids))]\n",
    "v3_valid_answer = v3_total[v3_total['ID'].str.contains('|'.join(v3_ids))]\n",
    "\n",
    "label = range(7)\n",
    "for l in label:\n",
    "    targets.loc[targets['target']==l, 'total'] = len(v3_total[v3_total['target']==l])\n",
    "    targets.loc[targets['target']==l, 'train'] = len(v3_train[v3_train['target']==l])\n",
    "    targets.loc[targets['target']==l, 'valid'] = len(v3_valid_output[v3_valid_output['target']==l])\n",
    "\n",
    "    val_correct = v3_valid_output[(v3_valid_output['target']==l) & v3_valid_output['ID'].str.contains('|'.join((v3_valid_answer[v3_valid_answer['target']==l]['ID'].values)))]\n",
    "    recall = len(val_correct) / (len(v3_valid_answer[v3_valid_answer['target']==l]))\n",
    "    precision = len(val_correct) / (len(v3_valid_output[v3_valid_output['target']==l]))\n",
    "\n",
    "    targets.loc[targets['target']==l, 'f1'] = 2 * precision * recall / (precision + recall)\n",
    "\n",
    "targets"
   ]
  },
  {
   "cell_type": "markdown",
   "metadata": {},
   "source": [
    "### LLaMA~♡"
   ]
  },
  {
   "cell_type": "code",
   "execution_count": null,
   "metadata": {},
   "outputs": [
    {
     "data": {
      "text/html": [
       "<div>\n",
       "<style scoped>\n",
       "    .dataframe tbody tr th:only-of-type {\n",
       "        vertical-align: middle;\n",
       "    }\n",
       "\n",
       "    .dataframe tbody tr th {\n",
       "        vertical-align: top;\n",
       "    }\n",
       "\n",
       "    .dataframe thead th {\n",
       "        text-align: right;\n",
       "    }\n",
       "</style>\n",
       "<table border=\"1\" class=\"dataframe\">\n",
       "  <thead>\n",
       "    <tr style=\"text-align: right;\">\n",
       "      <th></th>\n",
       "      <th>ID</th>\n",
       "      <th>text</th>\n",
       "      <th>target</th>\n",
       "      <th>polluted_lv</th>\n",
       "    </tr>\n",
       "  </thead>\n",
       "  <tbody>\n",
       "    <tr>\n",
       "      <th>2067</th>\n",
       "      <td>ynat-v1_train_01352</td>\n",
       "      <td>中 위안화 절)행u…고시 R]값l25개월만I 최고</td>\n",
       "      <td>6</td>\n",
       "      <td>0.250000</td>\n",
       "    </tr>\n",
       "    <tr>\n",
       "      <th>2082</th>\n",
       "      <td>ynat-v1_train_01376</td>\n",
       "      <td>이스라엘*+레스타인v!v지구 공Y…로L5발사J 대t</td>\n",
       "      <td>6</td>\n",
       "      <td>0.291667</td>\n",
       "    </tr>\n",
       "    <tr>\n",
       "      <th>2575</th>\n",
       "      <td>ynat-v1_train_02384</td>\n",
       "      <td>국제 3중XQ4대사관 3안먼 시a 3K주V에 조기 게양</td>\n",
       "      <td>6</td>\n",
       "      <td>0.333333</td>\n",
       "    </tr>\n",
       "    <tr>\n",
       "      <th>311</th>\n",
       "      <td>ynat-v1_train_00645</td>\n",
       "      <td>이스라엘 이미 숨진 팔레스타인인 총격 용의자 집까지 파괴</td>\n",
       "      <td>6</td>\n",
       "      <td>0.000000</td>\n",
       "    </tr>\n",
       "    <tr>\n",
       "      <th>921</th>\n",
       "      <td>ynat-v1_train_01900</td>\n",
       "      <td>中매체 G20 미중 정상회담 앞두고 평등한 협상이 관건</td>\n",
       "      <td>6</td>\n",
       "      <td>0.100000</td>\n",
       "    </tr>\n",
       "  </tbody>\n",
       "</table>\n",
       "</div>"
      ],
      "text/plain": [
       "                       ID                             text  target  \\\n",
       "2067  ynat-v1_train_01352      中 위안화 절)행u…고시 R]값l25개월만I 최고       6   \n",
       "2082  ynat-v1_train_01376     이스라엘*+레스타인v!v지구 공Y…로L5발사J 대t       6   \n",
       "2575  ynat-v1_train_02384   국제 3중XQ4대사관 3안먼 시a 3K주V에 조기 게양       6   \n",
       "311   ynat-v1_train_00645  이스라엘 이미 숨진 팔레스타인인 총격 용의자 집까지 파괴       6   \n",
       "921   ynat-v1_train_01900   中매체 G20 미중 정상회담 앞두고 평등한 협상이 관건       6   \n",
       "\n",
       "      polluted_lv  \n",
       "2067     0.250000  \n",
       "2082     0.291667  \n",
       "2575     0.333333  \n",
       "311      0.000000  \n",
       "921      0.100000  "
      ]
     },
     "execution_count": 136,
     "metadata": {},
     "output_type": "execute_result"
    }
   ],
   "source": [
    "import json\n",
    "import pandas as pd\n",
    "\n",
    "with open('key_maps.json', 'r', encoding='utf-8') as f:\n",
    "    key_maps = json.load(f)\n",
    "\n",
    "v3 = pd.read_csv('../../v1.1.2/train.csv')\n",
    "\n",
    "v3[v3['target']==6].sample(5, random_state=42)"
   ]
  },
  {
   "cell_type": "code",
   "execution_count": 33,
   "metadata": {},
   "outputs": [
    {
     "data": {
      "application/vnd.jupyter.widget-view+json": {
       "model_id": "66a3007a1daf4c21af55a8e9b0f5f588",
       "version_major": 2,
       "version_minor": 0
      },
      "text/plain": [
       "Loading checkpoint shards:   0%|          | 0/2 [00:00<?, ?it/s]"
      ]
     },
     "metadata": {},
     "output_type": "display_data"
    },
    {
     "data": {
      "text/plain": [
       "LlamaForCausalLM(\n",
       "  (model): LlamaModel(\n",
       "    (embed_tokens): Embedding(128256, 3072)\n",
       "    (layers): ModuleList(\n",
       "      (0-27): 28 x LlamaDecoderLayer(\n",
       "        (self_attn): LlamaAttention(\n",
       "          (q_proj): Linear(in_features=3072, out_features=3072, bias=False)\n",
       "          (k_proj): Linear(in_features=3072, out_features=1024, bias=False)\n",
       "          (v_proj): Linear(in_features=3072, out_features=1024, bias=False)\n",
       "          (o_proj): Linear(in_features=3072, out_features=3072, bias=False)\n",
       "          (rotary_emb): LlamaRotaryEmbedding()\n",
       "        )\n",
       "        (mlp): LlamaMLP(\n",
       "          (gate_proj): Linear(in_features=3072, out_features=8192, bias=False)\n",
       "          (up_proj): Linear(in_features=3072, out_features=8192, bias=False)\n",
       "          (down_proj): Linear(in_features=8192, out_features=3072, bias=False)\n",
       "          (act_fn): SiLU()\n",
       "        )\n",
       "        (input_layernorm): LlamaRMSNorm((3072,), eps=1e-05)\n",
       "        (post_attention_layernorm): LlamaRMSNorm((3072,), eps=1e-05)\n",
       "      )\n",
       "    )\n",
       "    (norm): LlamaRMSNorm((3072,), eps=1e-05)\n",
       "    (rotary_emb): LlamaRotaryEmbedding()\n",
       "  )\n",
       "  (lm_head): Linear(in_features=3072, out_features=128256, bias=False)\n",
       ")"
      ]
     },
     "execution_count": 33,
     "metadata": {},
     "output_type": "execute_result"
    }
   ],
   "source": [
    "import torch\n",
    "from transformers import AutoTokenizer, AutoModelForCausalLM\n",
    "\n",
    "model_id = 'Bllossom/llama-3.2-Korean-Bllossom-3B' # 'beomi/Llama-3-Open-Ko-8B'\n",
    "\n",
    "tokenizer = AutoTokenizer.from_pretrained(model_id)\n",
    "model = AutoModelForCausalLM.from_pretrained(\n",
    "    model_id,\n",
    "    torch_dtype=torch.float16,\n",
    "    device_map='auto'\n",
    ")\n",
    "\n",
    "model.eval()"
   ]
  },
  {
   "cell_type": "code",
   "execution_count": 168,
   "metadata": {},
   "outputs": [
    {
     "data": {
      "application/vnd.jupyter.widget-view+json": {
       "model_id": "5be927ef7dd54144aaadbb95127d3c12",
       "version_major": 2,
       "version_minor": 0
      },
      "text/plain": [
       "  0%|          | 0/7 [00:00<?, ?it/s]"
      ]
     },
     "metadata": {},
     "output_type": "display_data"
    },
    {
     "data": {
      "application/vnd.jupyter.widget-view+json": {
       "model_id": "7d2c05de0d584c7d8d0d44673de7bef7",
       "version_major": 2,
       "version_minor": 0
      },
      "text/plain": [
       "labeling:   0%|          | 0/50 [00:00<?, ?it/s]"
      ]
     },
     "metadata": {},
     "output_type": "display_data"
    },
    {
     "data": {
      "application/vnd.jupyter.widget-view+json": {
       "model_id": "0aade1d27c014f4782ad23d4237dd821",
       "version_major": 2,
       "version_minor": 0
      },
      "text/plain": [
       "labeling:   0%|          | 0/50 [00:00<?, ?it/s]"
      ]
     },
     "metadata": {},
     "output_type": "display_data"
    },
    {
     "data": {
      "application/vnd.jupyter.widget-view+json": {
       "model_id": "bbbc099d3a85476487626742409497b3",
       "version_major": 2,
       "version_minor": 0
      },
      "text/plain": [
       "labeling:   0%|          | 0/50 [00:00<?, ?it/s]"
      ]
     },
     "metadata": {},
     "output_type": "display_data"
    },
    {
     "data": {
      "application/vnd.jupyter.widget-view+json": {
       "model_id": "75626218fd63416392a881e9ae5b13d7",
       "version_major": 2,
       "version_minor": 0
      },
      "text/plain": [
       "labeling:   0%|          | 0/50 [00:00<?, ?it/s]"
      ]
     },
     "metadata": {},
     "output_type": "display_data"
    },
    {
     "data": {
      "application/vnd.jupyter.widget-view+json": {
       "model_id": "e738a9b9af9b4659b7920c19bd399717",
       "version_major": 2,
       "version_minor": 0
      },
      "text/plain": [
       "labeling:   0%|          | 0/50 [00:00<?, ?it/s]"
      ]
     },
     "metadata": {},
     "output_type": "display_data"
    },
    {
     "data": {
      "application/vnd.jupyter.widget-view+json": {
       "model_id": "6e5a850c7b5a4e8b9f92e084aea8e938",
       "version_major": 2,
       "version_minor": 0
      },
      "text/plain": [
       "labeling:   0%|          | 0/50 [00:00<?, ?it/s]"
      ]
     },
     "metadata": {},
     "output_type": "display_data"
    },
    {
     "data": {
      "application/vnd.jupyter.widget-view+json": {
       "model_id": "027b9fa94198464fb1fe72703fdc4734",
       "version_major": 2,
       "version_minor": 0
      },
      "text/plain": [
       "labeling:   0%|          | 0/50 [00:00<?, ?it/s]"
      ]
     },
     "metadata": {},
     "output_type": "display_data"
    }
   ],
   "source": [
    "import pandas as pd\n",
    "from tqdm.notebook import tqdm\n",
    "\n",
    "aug = pd.read_csv('../../v1.2.0_aug3/train.csv')\n",
    "train_fewshot = pd.read_csv('../../v1.1.2/train.csv')\n",
    "\n",
    "for i in tqdm(range(7), total=7, position=0):\n",
    "    key = key_maps[str(i)]\n",
    "    new_aug = pd.DataFrame(columns=['ID', 'text', 'target', 'polluted_lv'])\n",
    "\n",
    "    PROMPT = f'''당신은 뉴스 기사 제목을 생성해야 합니다. 제공된 키워드, 예시와 유사한 기사 제목을 한 개만 생성하세요.'''\n",
    "\n",
    "    shots = train_fewshot[(train_fewshot['polluted_lv']<0.4) & (train_fewshot['target']==i)].sample(10, random_state=42)['text'].values\n",
    "    fewshot = []\n",
    "    for shot in shots:\n",
    "        fewshot.append({\"role\": \"user\", \"content\": f\"'{key}' 분야에 해당하는 기사 제목을 생성하세요.\"})\n",
    "        fewshot.append({\"role\": \"assistant\", \"content\": shot})\n",
    "\n",
    "    terminators = [\n",
    "        tokenizer.convert_tokens_to_ids(\"<|end_of_text|>\"),\n",
    "        tokenizer.convert_tokens_to_ids(\"<|eot_id|>\")\n",
    "    ]\n",
    "\n",
    "    cnt = 0\n",
    "    for j in tqdm(range(50), desc='labeling', total=50, position=1, leave=False):\n",
    "        messages = [{\"role\": \"system\", \"content\": PROMPT}] + fewshot + [{\"role\": \"user\", \"content\": f\"'{key}' 분야에 해당하는 기사 제목을 생성하세요.\"}]\n",
    "        \n",
    "        input_ids = tokenizer.apply_chat_template(\n",
    "            messages,\n",
    "            add_generation_prompt=True,\n",
    "            return_tensors='pt'\n",
    "        ).to(model.device)\n",
    "\n",
    "        outputs = model.generate(\n",
    "            input_ids,\n",
    "            max_new_tokens=1024,\n",
    "            eos_token_id=terminators,\n",
    "            pad_token_id=tokenizer.eos_token_id,\n",
    "            do_sample=True,\n",
    "            temperature=0.6,\n",
    "            top_p=0.9\n",
    "        )\n",
    "\n",
    "        result = tokenizer.decode(outputs[0][input_ids.shape[-1]:], skip_special_tokens=True)\n",
    "        new_aug.loc[j] = [f'augmented-{i}-{j}', result, i, 0]\n",
    "        # print(result)\n",
    "\n",
    "    aug = pd.concat([aug, new_aug])\n",
    "    # print(len(aug))\n",
    "\n",
    "len(aug)\n",
    "aug.to_csv('../../v1.2.1/train.csv', index=False)"
   ]
  },
  {
   "cell_type": "code",
   "execution_count": null,
   "metadata": {},
   "outputs": [],
   "source": []
  }
 ],
 "metadata": {
  "kernelspec": {
   "display_name": "base",
   "language": "python",
   "name": "python3"
  },
  "language_info": {
   "codemirror_mode": {
    "name": "ipython",
    "version": 3
   },
   "file_extension": ".py",
   "mimetype": "text/x-python",
   "name": "python",
   "nbconvert_exporter": "python",
   "pygments_lexer": "ipython3",
   "version": "3.10.13"
  }
 },
 "nbformat": 4,
 "nbformat_minor": 2
}
