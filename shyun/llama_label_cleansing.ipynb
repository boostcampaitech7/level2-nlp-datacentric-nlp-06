{
 "cells": [
  {
   "cell_type": "markdown",
   "metadata": {},
   "source": [
    "### LLaMA로 라벨 정제하기"
   ]
  },
  {
   "cell_type": "code",
   "execution_count": 28,
   "metadata": {},
   "outputs": [
    {
     "name": "stdout",
     "output_type": "stream",
     "text": [
      "{'0': '문화', '1': '스포츠', '2': '정치', '3': '사회', '4': '기술', '5': '경제', '6': '국제'}\n"
     ]
    },
    {
     "data": {
      "text/html": [
       "<div>\n",
       "<style scoped>\n",
       "    .dataframe tbody tr th:only-of-type {\n",
       "        vertical-align: middle;\n",
       "    }\n",
       "\n",
       "    .dataframe tbody tr th {\n",
       "        vertical-align: top;\n",
       "    }\n",
       "\n",
       "    .dataframe thead th {\n",
       "        text-align: right;\n",
       "    }\n",
       "</style>\n",
       "<table border=\"1\" class=\"dataframe\">\n",
       "  <thead>\n",
       "    <tr style=\"text-align: right;\">\n",
       "      <th></th>\n",
       "      <th>ID</th>\n",
       "      <th>text</th>\n",
       "      <th>target</th>\n",
       "      <th>polluted_lv</th>\n",
       "      <th>no_hanja</th>\n",
       "    </tr>\n",
       "  </thead>\n",
       "  <tbody>\n",
       "    <tr>\n",
       "      <th>1365</th>\n",
       "      <td>ynat-v1_train_01365</td>\n",
       "      <td>與.41-|스트트랙 $상b가속…\"국| (한 좌석 남아I다</td>\n",
       "      <td>2</td>\n",
       "      <td>0.173913</td>\n",
       "      <td>여41스트트랙 상b가속국 한 좌석 남아I다</td>\n",
       "    </tr>\n",
       "    <tr>\n",
       "      <th>412</th>\n",
       "      <td>ynat-v1_train_00412</td>\n",
       "      <td>바이오분야 원천기술개발에 올해 3천700억원 투자</td>\n",
       "      <td>5</td>\n",
       "      <td>0.148148</td>\n",
       "      <td>바이오분야 원천기술개발에 올해 3천700억원 투자</td>\n",
       "    </tr>\n",
       "    <tr>\n",
       "      <th>1826</th>\n",
       "      <td>ynat-v1_train_01826</td>\n",
       "      <td>KT 배터리 절감 기술로 갤럭시 S9 최대 55% 더 쓴다</td>\n",
       "      <td>4</td>\n",
       "      <td>0.193548</td>\n",
       "      <td>KT 배터리 절감 기술로 갤럭시 S9 최대 55 더 쓴다</td>\n",
       "    </tr>\n",
       "    <tr>\n",
       "      <th>2225</th>\n",
       "      <td>ynat-v1_train_02225</td>\n",
       "      <td>프로농구 1라운드 최우수선수에 현대모비스 라건아</td>\n",
       "      <td>0</td>\n",
       "      <td>0.038462</td>\n",
       "      <td>프로농구 1라운드 최우수선수에 현대모비스 라건아</td>\n",
       "    </tr>\n",
       "    <tr>\n",
       "      <th>125</th>\n",
       "      <td>ynat-v1_train_00125</td>\n",
       "      <td>2자배구}대k팀*코7진 구성 완료…트R}너에 정기혁</td>\n",
       "      <td>1</td>\n",
       "      <td>0.166667</td>\n",
       "      <td>2자배구대k팀코7진 구성 완료트R너에 정기혁</td>\n",
       "    </tr>\n",
       "  </tbody>\n",
       "</table>\n",
       "</div>"
      ],
      "text/plain": [
       "                       ID                              text  target  \\\n",
       "1365  ynat-v1_train_01365   與.41-|스트트랙 $상b가속…\"국| (한 좌석 남아I다       2   \n",
       "412   ynat-v1_train_00412       바이오분야 원천기술개발에 올해 3천700억원 투자       5   \n",
       "1826  ynat-v1_train_01826  KT 배터리 절감 기술로 갤럭시 S9 최대 55% 더 쓴다       4   \n",
       "2225  ynat-v1_train_02225        프로농구 1라운드 최우수선수에 현대모비스 라건아       0   \n",
       "125   ynat-v1_train_00125      2자배구}대k팀*코7진 구성 완료…트R}너에 정기혁       1   \n",
       "\n",
       "      polluted_lv                         no_hanja  \n",
       "1365     0.173913          여41스트트랙 상b가속국 한 좌석 남아I다  \n",
       "412      0.148148      바이오분야 원천기술개발에 올해 3천700억원 투자  \n",
       "1826     0.193548  KT 배터리 절감 기술로 갤럭시 S9 최대 55 더 쓴다  \n",
       "2225     0.038462       프로농구 1라운드 최우수선수에 현대모비스 라건아  \n",
       "125      0.166667         2자배구대k팀코7진 구성 완료트R너에 정기혁  "
      ]
     },
     "execution_count": 28,
     "metadata": {},
     "output_type": "execute_result"
    }
   ],
   "source": [
    "import json\n",
    "import pandas as pd\n",
    "\n",
    "with open('key_maps.json', 'r', encoding='utf-8') as f:\n",
    "    key_maps = json.load(f)\n",
    "\n",
    "train = pd.read_csv('train-no_special-no_hanja-polluted_lv.csv').drop(columns=['Unnamed: 0'])\n",
    "print(key_maps)\n",
    "train[train['polluted_lv']<0.2].sample(5)"
   ]
  },
  {
   "cell_type": "code",
   "execution_count": 2,
   "metadata": {},
   "outputs": [
    {
     "data": {
      "application/vnd.jupyter.widget-view+json": {
       "model_id": "3bb51cf3d81843908f7957817dd8e4f3",
       "version_major": 2,
       "version_minor": 0
      },
      "text/plain": [
       "Loading checkpoint shards:   0%|          | 0/2 [00:00<?, ?it/s]"
      ]
     },
     "metadata": {},
     "output_type": "display_data"
    },
    {
     "data": {
      "text/plain": [
       "LlamaForCausalLM(\n",
       "  (model): LlamaModel(\n",
       "    (embed_tokens): Embedding(128256, 3072)\n",
       "    (layers): ModuleList(\n",
       "      (0-27): 28 x LlamaDecoderLayer(\n",
       "        (self_attn): LlamaAttention(\n",
       "          (q_proj): Linear(in_features=3072, out_features=3072, bias=False)\n",
       "          (k_proj): Linear(in_features=3072, out_features=1024, bias=False)\n",
       "          (v_proj): Linear(in_features=3072, out_features=1024, bias=False)\n",
       "          (o_proj): Linear(in_features=3072, out_features=3072, bias=False)\n",
       "          (rotary_emb): LlamaRotaryEmbedding()\n",
       "        )\n",
       "        (mlp): LlamaMLP(\n",
       "          (gate_proj): Linear(in_features=3072, out_features=8192, bias=False)\n",
       "          (up_proj): Linear(in_features=3072, out_features=8192, bias=False)\n",
       "          (down_proj): Linear(in_features=8192, out_features=3072, bias=False)\n",
       "          (act_fn): SiLU()\n",
       "        )\n",
       "        (input_layernorm): LlamaRMSNorm((3072,), eps=1e-05)\n",
       "        (post_attention_layernorm): LlamaRMSNorm((3072,), eps=1e-05)\n",
       "      )\n",
       "    )\n",
       "    (norm): LlamaRMSNorm((3072,), eps=1e-05)\n",
       "    (rotary_emb): LlamaRotaryEmbedding()\n",
       "  )\n",
       "  (lm_head): Linear(in_features=3072, out_features=128256, bias=False)\n",
       ")"
      ]
     },
     "execution_count": 2,
     "metadata": {},
     "output_type": "execute_result"
    }
   ],
   "source": [
    "import torch\n",
    "from transformers import AutoTokenizer, AutoModelForCausalLM\n",
    "\n",
    "model_id = 'Bllossom/llama-3.2-Korean-Bllossom-3B' # 'beomi/Llama-3-Open-Ko-8B'\n",
    "\n",
    "tokenizer = AutoTokenizer.from_pretrained(model_id)\n",
    "model = AutoModelForCausalLM.from_pretrained(\n",
    "    model_id,\n",
    "    torch_dtype=torch.float16,\n",
    "    device_map='auto'\n",
    ")\n",
    "\n",
    "model.eval()"
   ]
  },
  {
   "cell_type": "code",
   "execution_count": 31,
   "metadata": {},
   "outputs": [
    {
     "data": {
      "text/plain": [
       "[('0', '문화'),\n",
       " ('1', '스포츠'),\n",
       " ('2', '정치'),\n",
       " ('3', '사회'),\n",
       " ('4', '기술'),\n",
       " ('5', '경제'),\n",
       " ('6', '국제')]"
      ]
     },
     "execution_count": 31,
     "metadata": {},
     "output_type": "execute_result"
    }
   ],
   "source": [
    "keys = list(key_maps.items())\n",
    "keys"
   ]
  },
  {
   "cell_type": "code",
   "execution_count": 43,
   "metadata": {},
   "outputs": [
    {
     "data": {
      "application/vnd.jupyter.widget-view+json": {
       "model_id": "17dbdd0577f94c6a8e4e85c55fb962e8",
       "version_major": 2,
       "version_minor": 0
      },
      "text/plain": [
       "labeling:   0%|          | 0/2800 [00:00<?, ?it/s]"
      ]
     },
     "metadata": {},
     "output_type": "display_data"
    },
    {
     "data": {
      "text/html": [
       "<div>\n",
       "<style scoped>\n",
       "    .dataframe tbody tr th:only-of-type {\n",
       "        vertical-align: middle;\n",
       "    }\n",
       "\n",
       "    .dataframe tbody tr th {\n",
       "        vertical-align: top;\n",
       "    }\n",
       "\n",
       "    .dataframe thead th {\n",
       "        text-align: right;\n",
       "    }\n",
       "</style>\n",
       "<table border=\"1\" class=\"dataframe\">\n",
       "  <thead>\n",
       "    <tr style=\"text-align: right;\">\n",
       "      <th></th>\n",
       "      <th>ID</th>\n",
       "      <th>text</th>\n",
       "      <th>target</th>\n",
       "      <th>polluted_lv</th>\n",
       "      <th>no_hanja</th>\n",
       "    </tr>\n",
       "  </thead>\n",
       "  <tbody>\n",
       "    <tr>\n",
       "      <th>0</th>\n",
       "      <td>ynat-v1_train_00000</td>\n",
       "      <td>정i :파1 미사z KT( 이용기간 2e 단] Q분종U2보</td>\n",
       "      <td>4</td>\n",
       "      <td>0.344828</td>\n",
       "      <td>정i 파1 미사z KT 이용기간 2e 단 Q분종U2보</td>\n",
       "    </tr>\n",
       "    <tr>\n",
       "      <th>1</th>\n",
       "      <td>ynat-v1_train_00001</td>\n",
       "      <td>K찰.국DLwo 로L3한N% 회장 2 T0&amp;}송=</td>\n",
       "      <td>3</td>\n",
       "      <td>0.500000</td>\n",
       "      <td>K찰국DLwo 로L3한N 회장 2 T0송</td>\n",
       "    </tr>\n",
       "    <tr>\n",
       "      <th>2</th>\n",
       "      <td>ynat-v1_train_00002</td>\n",
       "      <td>m 김정) 자주통일 새,?r열1나가야1보</td>\n",
       "      <td>2</td>\n",
       "      <td>0.210526</td>\n",
       "      <td>m 김정 자주통일 새r열1나가야1보</td>\n",
       "    </tr>\n",
       "    <tr>\n",
       "      <th>3</th>\n",
       "      <td>ynat-v1_train_00003</td>\n",
       "      <td>갤노트8 주말 27만대 개통…시장은 불법 보조금 얼룩</td>\n",
       "      <td>1</td>\n",
       "      <td>0.107143</td>\n",
       "      <td>갤노트8 주말 27만대 개통시장은 불법 보조금 얼룩</td>\n",
       "    </tr>\n",
       "    <tr>\n",
       "      <th>4</th>\n",
       "      <td>ynat-v1_train_00004</td>\n",
       "      <td>pI美대선I앞두고 R2fr단 발] $비해 감시 강화</td>\n",
       "      <td>6</td>\n",
       "      <td>0.269231</td>\n",
       "      <td>pI미대선I앞두고 R2fr단 발 비해 감시 강화</td>\n",
       "    </tr>\n",
       "  </tbody>\n",
       "</table>\n",
       "</div>"
      ],
      "text/plain": [
       "                    ID                              text  target  polluted_lv  \\\n",
       "0  ynat-v1_train_00000  정i :파1 미사z KT( 이용기간 2e 단] Q분종U2보       4     0.344828   \n",
       "1  ynat-v1_train_00001       K찰.국DLwo 로L3한N% 회장 2 T0&}송=       3     0.500000   \n",
       "2  ynat-v1_train_00002            m 김정) 자주통일 새,?r열1나가야1보       2     0.210526   \n",
       "3  ynat-v1_train_00003     갤노트8 주말 27만대 개통…시장은 불법 보조금 얼룩       1     0.107143   \n",
       "4  ynat-v1_train_00004      pI美대선I앞두고 R2fr단 발] $비해 감시 강화       6     0.269231   \n",
       "\n",
       "                        no_hanja  \n",
       "0  정i 파1 미사z KT 이용기간 2e 단 Q분종U2보  \n",
       "1         K찰국DLwo 로L3한N 회장 2 T0송  \n",
       "2            m 김정 자주통일 새r열1나가야1보  \n",
       "3   갤노트8 주말 27만대 개통시장은 불법 보조금 얼룩  \n",
       "4     pI미대선I앞두고 R2fr단 발 비해 감시 강화  "
      ]
     },
     "execution_count": 43,
     "metadata": {},
     "output_type": "execute_result"
    }
   ],
   "source": [
    "from tqdm.notebook import tqdm\n",
    "\n",
    "keys = list(key_maps.values())\n",
    "keys_str = []\n",
    "for idx, key in list(key_maps.items()):\n",
    "    keys_str.append(f'{idx}: {key}')\n",
    "keys_str = ', '.join(keys_str)\n",
    "\n",
    "PROMPT = f'''기사 제목을 보고 주어진 분야 중 올바른 분야의 번호를 선택하세요.\n",
    "- 기사 분야: {keys_str}\n",
    "- 위 분야 중 올바른 분야의 번호를 선택하세요.\n",
    "- 문맥적으로 올바르지 않은 데이터는 '불가'라고 출력하세요.\n",
    "- 반드시 주어진 키워드 중 한 개만 선택하세요.'''\n",
    "\n",
    "fewshot = [\n",
    "    {\"role\": \"user\", \"content\": \"구미 영천 등 경북 9개 시군 폭염주의보\"},\n",
    "    {\"role\": \"assistant\", \"content\" : \"0\"},\n",
    "    {\"role\": \"user\", \"content\": \"울산 진보3당 북구시설관리공단 설립 조례안 철회하라\"},\n",
    "    {\"role\": \"assistant\", \"content\": \"2\"},\n",
    "    {\"role\": \"user\", \"content\": \"국제유가곡물가올해 농업경영비 33 감소 전망\"},\n",
    "    {\"role\": \"assistant\", \"content\": \"3\"}\n",
    "]\n",
    "\n",
    "terminators = [\n",
    "    tokenizer.convert_tokens_to_ids(\"<|end_of_text|>\"),\n",
    "    tokenizer.convert_tokens_to_ids(\"<|eot_id|>\")\n",
    "]\n",
    "\n",
    "# train['new_target'] = None\n",
    "for data in tqdm(train.iterrows(), desc='labeling', total=len(train)):\n",
    "    data = data[1]\n",
    "    \n",
    "    if data['polluted_lv'] < 0.2:\n",
    "        messages = [{\"role\": \"system\", \"content\": PROMPT}] + fewshot + [{\"role\": \"user\", \"content\": data['no_hanja']}]\n",
    "        \n",
    "        input_ids = tokenizer.apply_chat_template(\n",
    "            messages,\n",
    "            add_generation_prompt=True,\n",
    "            return_tensors='pt'\n",
    "        ).to(model.device)\n",
    "\n",
    "        outputs = model.generate(\n",
    "            input_ids,\n",
    "            max_new_tokens=1024,\n",
    "            eos_token_id=terminators,\n",
    "            pad_token_id=tokenizer.eos_token_id,\n",
    "            do_sample=True,\n",
    "            temperature=0.6,\n",
    "            top_p=0.9\n",
    "        )\n",
    "\n",
    "        # train.loc[train['ID']==data['ID'], 'new_target'] = tokenizer.decode(outputs[0][input_ids.shape[-1]:], skip_special_tokens=True)\n",
    "        result = tokenizer.decode(outputs[0][input_ids.shape[-1]:], skip_special_tokens=True)\n",
    "        if result != '불가':\n",
    "            train.loc[train['ID']==data['ID'], 'target'] = int(result)\n",
    "train.head()"
   ]
  },
  {
   "cell_type": "code",
   "execution_count": 44,
   "metadata": {},
   "outputs": [],
   "source": [
    "train.to_csv('train-relabeled.csv')"
   ]
  },
  {
   "cell_type": "code",
   "execution_count": null,
   "metadata": {},
   "outputs": [],
   "source": []
  }
 ],
 "metadata": {
  "kernelspec": {
   "display_name": "base",
   "language": "python",
   "name": "python3"
  },
  "language_info": {
   "codemirror_mode": {
    "name": "ipython",
    "version": 3
   },
   "file_extension": ".py",
   "mimetype": "text/x-python",
   "name": "python",
   "nbconvert_exporter": "python",
   "pygments_lexer": "ipython3",
   "version": "3.10.13"
  }
 },
 "nbformat": 4,
 "nbformat_minor": 2
}
