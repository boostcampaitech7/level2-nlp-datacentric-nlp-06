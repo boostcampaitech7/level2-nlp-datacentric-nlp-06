{
 "cells": [
  {
   "cell_type": "markdown",
   "metadata": {},
   "source": [
    "### LLaMA로 라벨 정제하기"
   ]
  },
  {
   "cell_type": "code",
   "execution_count": 34,
   "metadata": {},
   "outputs": [
    {
     "name": "stdout",
     "output_type": "stream",
     "text": [
      "{'0': '문화', '1': '스포츠', '2': '정치', '3': '사회', '4': '기술', '5': '경제', '6': '국제'}\n"
     ]
    },
    {
     "data": {
      "text/html": [
       "<div>\n",
       "<style scoped>\n",
       "    .dataframe tbody tr th:only-of-type {\n",
       "        vertical-align: middle;\n",
       "    }\n",
       "\n",
       "    .dataframe tbody tr th {\n",
       "        vertical-align: top;\n",
       "    }\n",
       "\n",
       "    .dataframe thead th {\n",
       "        text-align: right;\n",
       "    }\n",
       "</style>\n",
       "<table border=\"1\" class=\"dataframe\">\n",
       "  <thead>\n",
       "    <tr style=\"text-align: right;\">\n",
       "      <th></th>\n",
       "      <th>ID</th>\n",
       "      <th>text</th>\n",
       "      <th>target</th>\n",
       "      <th>polluted_lv</th>\n",
       "      <th>no_hanja</th>\n",
       "    </tr>\n",
       "  </thead>\n",
       "  <tbody>\n",
       "    <tr>\n",
       "      <th>43</th>\n",
       "      <td>ynat-v1_train_00043</td>\n",
       "      <td>한국민족의 뿌리가 북방…5천년 전 한반도서 자생적으로 형성</td>\n",
       "      <td>0</td>\n",
       "      <td>0.032258</td>\n",
       "      <td>한국민족의 뿌리가 북방5천년 전 한반도서 자생적으로 형성</td>\n",
       "    </tr>\n",
       "    <tr>\n",
       "      <th>1720</th>\n",
       "      <td>ynat-v1_train_01720</td>\n",
       "      <td>페이스북 메신저 암호화 기능…저커버그 미래는 프라이빗</td>\n",
       "      <td>4</td>\n",
       "      <td>0.000000</td>\n",
       "      <td>페이스북 메신저 암호화 기능저커버그 미래는 프라이빗</td>\n",
       "    </tr>\n",
       "    <tr>\n",
       "      <th>536</th>\n",
       "      <td>ynat-v1_train_00536</td>\n",
       "      <td>제1차 세계대전 종전은 새로운 폭력의 시작이었다</td>\n",
       "      <td>2</td>\n",
       "      <td>0.038462</td>\n",
       "      <td>제1차 세계대전 종전은 새로운 폭력의 시작이었다</td>\n",
       "    </tr>\n",
       "    <tr>\n",
       "      <th>1719</th>\n",
       "      <td>ynat-v1_train_01719</td>\n",
       "      <td>北 대남테러 예상유형은…사이버 공격·요인 테러 가능성</td>\n",
       "      <td>2</td>\n",
       "      <td>0.000000</td>\n",
       "      <td>북 대남테러 예상유형은사이버 공격요인 테러 가능성</td>\n",
       "    </tr>\n",
       "    <tr>\n",
       "      <th>2798</th>\n",
       "      <td>ynat-v1_train_02798</td>\n",
       "      <td>인터뷰 류현진 친구에게 안타 맞는 것 싫어해…승부는 냉정</td>\n",
       "      <td>1</td>\n",
       "      <td>0.000000</td>\n",
       "      <td>인터뷰 류현진 친구에게 안타 맞는 것 싫어해승부는 냉정</td>\n",
       "    </tr>\n",
       "  </tbody>\n",
       "</table>\n",
       "</div>"
      ],
      "text/plain": [
       "                       ID                              text  target  \\\n",
       "43    ynat-v1_train_00043  한국민족의 뿌리가 북방…5천년 전 한반도서 자생적으로 형성       0   \n",
       "1720  ynat-v1_train_01720     페이스북 메신저 암호화 기능…저커버그 미래는 프라이빗       4   \n",
       "536   ynat-v1_train_00536        제1차 세계대전 종전은 새로운 폭력의 시작이었다       2   \n",
       "1719  ynat-v1_train_01719     北 대남테러 예상유형은…사이버 공격·요인 테러 가능성       2   \n",
       "2798  ynat-v1_train_02798   인터뷰 류현진 친구에게 안타 맞는 것 싫어해…승부는 냉정       1   \n",
       "\n",
       "      polluted_lv                         no_hanja  \n",
       "43       0.032258  한국민족의 뿌리가 북방5천년 전 한반도서 자생적으로 형성  \n",
       "1720     0.000000     페이스북 메신저 암호화 기능저커버그 미래는 프라이빗  \n",
       "536      0.038462       제1차 세계대전 종전은 새로운 폭력의 시작이었다  \n",
       "1719     0.000000      북 대남테러 예상유형은사이버 공격요인 테러 가능성  \n",
       "2798     0.000000   인터뷰 류현진 친구에게 안타 맞는 것 싫어해승부는 냉정  "
      ]
     },
     "execution_count": 34,
     "metadata": {},
     "output_type": "execute_result"
    }
   ],
   "source": [
    "import json\n",
    "import pandas as pd\n",
    "\n",
    "with open('key_maps.json', 'r', encoding='utf-8') as f:\n",
    "    key_maps = json.load(f)\n",
    "\n",
    "train = pd.read_csv('train-no_special-no_hanja-polluted_lv.csv').drop(columns=['Unnamed: 0'])\n",
    "print(key_maps)\n",
    "train[train['polluted_lv']<0.2].sample(5)"
   ]
  },
  {
   "cell_type": "code",
   "execution_count": 35,
   "metadata": {},
   "outputs": [
    {
     "data": {
      "application/vnd.jupyter.widget-view+json": {
       "model_id": "328e76589af24728b81364cdea76068a",
       "version_major": 2,
       "version_minor": 0
      },
      "text/plain": [
       "Loading checkpoint shards:   0%|          | 0/2 [00:00<?, ?it/s]"
      ]
     },
     "metadata": {},
     "output_type": "display_data"
    },
    {
     "data": {
      "text/plain": [
       "LlamaForCausalLM(\n",
       "  (model): LlamaModel(\n",
       "    (embed_tokens): Embedding(128256, 3072)\n",
       "    (layers): ModuleList(\n",
       "      (0-27): 28 x LlamaDecoderLayer(\n",
       "        (self_attn): LlamaAttention(\n",
       "          (q_proj): Linear(in_features=3072, out_features=3072, bias=False)\n",
       "          (k_proj): Linear(in_features=3072, out_features=1024, bias=False)\n",
       "          (v_proj): Linear(in_features=3072, out_features=1024, bias=False)\n",
       "          (o_proj): Linear(in_features=3072, out_features=3072, bias=False)\n",
       "          (rotary_emb): LlamaRotaryEmbedding()\n",
       "        )\n",
       "        (mlp): LlamaMLP(\n",
       "          (gate_proj): Linear(in_features=3072, out_features=8192, bias=False)\n",
       "          (up_proj): Linear(in_features=3072, out_features=8192, bias=False)\n",
       "          (down_proj): Linear(in_features=8192, out_features=3072, bias=False)\n",
       "          (act_fn): SiLU()\n",
       "        )\n",
       "        (input_layernorm): LlamaRMSNorm((3072,), eps=1e-05)\n",
       "        (post_attention_layernorm): LlamaRMSNorm((3072,), eps=1e-05)\n",
       "      )\n",
       "    )\n",
       "    (norm): LlamaRMSNorm((3072,), eps=1e-05)\n",
       "    (rotary_emb): LlamaRotaryEmbedding()\n",
       "  )\n",
       "  (lm_head): Linear(in_features=3072, out_features=128256, bias=False)\n",
       ")"
      ]
     },
     "execution_count": 35,
     "metadata": {},
     "output_type": "execute_result"
    }
   ],
   "source": [
    "import torch\n",
    "from transformers import AutoTokenizer, AutoModelForCausalLM\n",
    "\n",
    "model_id = 'Bllossom/llama-3.2-Korean-Bllossom-3B' # 'beomi/Llama-3-Open-Ko-8B'\n",
    "\n",
    "tokenizer = AutoTokenizer.from_pretrained(model_id)\n",
    "model = AutoModelForCausalLM.from_pretrained(\n",
    "    model_id,\n",
    "    torch_dtype=torch.float16,\n",
    "    device_map='auto'\n",
    ")\n",
    "\n",
    "model.eval()"
   ]
  },
  {
   "cell_type": "code",
   "execution_count": null,
   "metadata": {},
   "outputs": [
    {
     "data": {
      "application/vnd.jupyter.widget-view+json": {
       "model_id": "fc81077e47134dd4af92ff07a3215430",
       "version_major": 2,
       "version_minor": 0
      },
      "text/plain": [
       "labeling:   0%|          | 0/2800 [00:00<?, ?it/s]"
      ]
     },
     "metadata": {},
     "output_type": "display_data"
    }
   ],
   "source": [
    "from tqdm.notebook import tqdm\n",
    "\n",
    "keys = list(key_maps.values())\n",
    "keys_str = []\n",
    "for idx, key in list(key_maps.items()):\n",
    "    keys_str.append(f'{idx}: {key}')\n",
    "keys_str = ', '.join(keys_str)\n",
    "\n",
    "PROMPT = f'''기사 제목을 보고 주어진 분야 중 올바른 분야의 번호를 선택하세요.\n",
    "- 기사 분야: {keys_str}\n",
    "- 위 분야 중 올바른 분야의 번호를 선택하세요.\n",
    "- 문맥적으로 올바르지 않은 데이터는 '불가'라고 출력하세요.\n",
    "- 반드시 주어진 키워드 중 한 개만 선택하세요.'''\n",
    "\n",
    "fewshot = [\n",
    "    {\"role\": \"user\", \"content\": \"구미 영천 등 경북 9개 시군 폭염주의보\"},\n",
    "    {\"role\": \"assistant\", \"content\" : \"0\"},\n",
    "    {\"role\": \"user\", \"content\": \"울산 진보3당 북구시설관리공단 설립 조례안 철회하라\"},\n",
    "    {\"role\": \"assistant\", \"content\": \"2\"},\n",
    "    {\"role\": \"user\", \"content\": \"국제유가곡물가올해 농업경영비 33 감소 전망\"},\n",
    "    {\"role\": \"assistant\", \"content\": \"3\"}\n",
    "]\n",
    "\n",
    "terminators = [\n",
    "    tokenizer.convert_tokens_to_ids(\"<|end_of_text|>\"),\n",
    "    tokenizer.convert_tokens_to_ids(\"<|eot_id|>\")\n",
    "]\n",
    "\n",
    "# train['new_target'] = None\n",
    "cnt = 0\n",
    "for data in tqdm(train.iterrows(), desc='labeling', total=len(train)):\n",
    "    data = data[1]\n",
    "    \n",
    "    if data['polluted_lv'] < 0.2:\n",
    "        messages = [{\"role\": \"system\", \"content\": PROMPT}] + fewshot + [{\"role\": \"user\", \"content\": data['no_hanja']}]\n",
    "        \n",
    "        input_ids = tokenizer.apply_chat_template(\n",
    "            messages,\n",
    "            add_generation_prompt=True,\n",
    "            return_tensors='pt'\n",
    "        ).to(model.device)\n",
    "\n",
    "        outputs = model.generate(\n",
    "            input_ids,\n",
    "            max_new_tokens=1024,\n",
    "            eos_token_id=terminators,\n",
    "            pad_token_id=tokenizer.eos_token_id,\n",
    "            do_sample=True,\n",
    "            temperature=0.6,\n",
    "            top_p=0.9\n",
    "        )\n",
    "\n",
    "        result = tokenizer.decode(outputs[0][input_ids.shape[-1]:], skip_special_tokens=True)\n",
    "        if result != '불가':\n",
    "            cnt += 1\n",
    "            train.loc[train['ID']==data['ID'], 'target'] = int(result)\n",
    "print(cnt)\n",
    "train.head()"
   ]
  },
  {
   "cell_type": "code",
   "execution_count": 44,
   "metadata": {},
   "outputs": [],
   "source": [
    "train.to_csv('train-relabeled.csv')"
   ]
  },
  {
   "cell_type": "code",
   "execution_count": null,
   "metadata": {},
   "outputs": [],
   "source": []
  }
 ],
 "metadata": {
  "kernelspec": {
   "display_name": "base",
   "language": "python",
   "name": "python3"
  },
  "language_info": {
   "codemirror_mode": {
    "name": "ipython",
    "version": 3
   },
   "file_extension": ".py",
   "mimetype": "text/x-python",
   "name": "python",
   "nbconvert_exporter": "python",
   "pygments_lexer": "ipython3",
   "version": "3.10.13"
  }
 },
 "nbformat": 4,
 "nbformat_minor": 2
}
