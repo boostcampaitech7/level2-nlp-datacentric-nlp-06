{
 "cells": [
  {
   "cell_type": "code",
   "execution_count": 9,
   "metadata": {},
   "outputs": [
    {
     "name": "stdout",
     "output_type": "stream",
     "text": [
      "938\n"
     ]
    },
    {
     "data": {
      "text/html": [
       "<div>\n",
       "<style scoped>\n",
       "    .dataframe tbody tr th:only-of-type {\n",
       "        vertical-align: middle;\n",
       "    }\n",
       "\n",
       "    .dataframe tbody tr th {\n",
       "        vertical-align: top;\n",
       "    }\n",
       "\n",
       "    .dataframe thead th {\n",
       "        text-align: right;\n",
       "    }\n",
       "</style>\n",
       "<table border=\"1\" class=\"dataframe\">\n",
       "  <thead>\n",
       "    <tr style=\"text-align: right;\">\n",
       "      <th></th>\n",
       "      <th>ID</th>\n",
       "      <th>text</th>\n",
       "      <th>target</th>\n",
       "      <th>polluted_lv</th>\n",
       "      <th>no_hanja</th>\n",
       "    </tr>\n",
       "  </thead>\n",
       "  <tbody>\n",
       "    <tr>\n",
       "      <th>879</th>\n",
       "      <td>ynat-v1_train_00879</td>\n",
       "      <td>세p P학jE  산l 모인6…한국과t영)3a 개최</td>\n",
       "      <td>4</td>\n",
       "      <td>0.360000</td>\n",
       "      <td>세p P학jE  산l 모인6한국과t영3a 개최</td>\n",
       "    </tr>\n",
       "    <tr>\n",
       "      <th>2519</th>\n",
       "      <td>ynat-v1_train_02519</td>\n",
       "      <td>코z나0:i9규직Zj정규직 E문R비교</td>\n",
       "      <td>3</td>\n",
       "      <td>0.421053</td>\n",
       "      <td>코z나0i9규직Zj정규직 E문R비교</td>\n",
       "    </tr>\n",
       "    <tr>\n",
       "      <th>872</th>\n",
       "      <td>ynat-v1_train_00872</td>\n",
       "      <td>@대통령 Jk家 의혹 계기로pD벌WBF은닉XTq정.준</td>\n",
       "      <td>2</td>\n",
       "      <td>0.370370</td>\n",
       "      <td>대통령 Jk가 의혹 계기로pD벌WBF은닉XTq정준</td>\n",
       "    </tr>\n",
       "    <tr>\n",
       "      <th>364</th>\n",
       "      <td>ynat-v1_train_00364</td>\n",
       "      <td>h시9게` 김-범호 6\"상대Jxn기:L탄a바B인if2BX:</td>\n",
       "      <td>1</td>\n",
       "      <td>0.518519</td>\n",
       "      <td>h시9게 김범호 6상대Jxn기L탄a바B인if2BX</td>\n",
       "    </tr>\n",
       "    <tr>\n",
       "      <th>2145</th>\n",
       "      <td>ynat-v1_train_02145</td>\n",
       "      <td>D f한sM하3+미F 싱!송m이터'+시</td>\n",
       "      <td>0</td>\n",
       "      <td>0.411765</td>\n",
       "      <td>D f한sM하3미F 싱송m이터시</td>\n",
       "    </tr>\n",
       "  </tbody>\n",
       "</table>\n",
       "</div>"
      ],
      "text/plain": [
       "                       ID                              text  target  \\\n",
       "879   ynat-v1_train_00879       세p P학jE  산l 모인6…한국과t영)3a 개최       4   \n",
       "2519  ynat-v1_train_02519              코z나0:i9규직Zj정규직 E문R비교       3   \n",
       "872   ynat-v1_train_00872     @대통령 Jk家 의혹 계기로pD벌WBF은닉XTq정.준       2   \n",
       "364   ynat-v1_train_00364  h시9게` 김-범호 6\"상대Jxn기:L탄a바B인if2BX:       1   \n",
       "2145  ynat-v1_train_02145             D f한sM하3+미F 싱!송m이터'+시       0   \n",
       "\n",
       "      polluted_lv                     no_hanja  \n",
       "879      0.360000    세p P학jE  산l 모인6한국과t영3a 개최  \n",
       "2519     0.421053          코z나0i9규직Zj정규직 E문R비교  \n",
       "872      0.370370  대통령 Jk가 의혹 계기로pD벌WBF은닉XTq정준  \n",
       "364      0.518519  h시9게 김범호 6상대Jxn기L탄a바B인if2BX  \n",
       "2145     0.411765            D f한sM하3미F 싱송m이터시  "
      ]
     },
     "execution_count": 9,
     "metadata": {},
     "output_type": "execute_result"
    }
   ],
   "source": [
    "import pandas as pd\n",
    "\n",
    "train = pd.read_csv('../../v1-no_special-no_hanja-polluted_lv/train.csv').drop(columns=['Unnamed: 0'])\n",
    "\n",
    "target = train[(train['polluted_lv'] > 0.3)]\n",
    "print(len(target))\n",
    "target.sample(5)"
   ]
  },
  {
   "cell_type": "markdown",
   "metadata": {},
   "source": [
    "### 또 라마~^^"
   ]
  },
  {
   "cell_type": "code",
   "execution_count": 10,
   "metadata": {},
   "outputs": [
    {
     "data": {
      "application/vnd.jupyter.widget-view+json": {
       "model_id": "cb8313916abc48b89baf620859082653",
       "version_major": 2,
       "version_minor": 0
      },
      "text/plain": [
       "Loading checkpoint shards:   0%|          | 0/2 [00:00<?, ?it/s]"
      ]
     },
     "metadata": {},
     "output_type": "display_data"
    },
    {
     "data": {
      "text/plain": [
       "LlamaForCausalLM(\n",
       "  (model): LlamaModel(\n",
       "    (embed_tokens): Embedding(128256, 3072)\n",
       "    (layers): ModuleList(\n",
       "      (0-27): 28 x LlamaDecoderLayer(\n",
       "        (self_attn): LlamaAttention(\n",
       "          (q_proj): Linear(in_features=3072, out_features=3072, bias=False)\n",
       "          (k_proj): Linear(in_features=3072, out_features=1024, bias=False)\n",
       "          (v_proj): Linear(in_features=3072, out_features=1024, bias=False)\n",
       "          (o_proj): Linear(in_features=3072, out_features=3072, bias=False)\n",
       "          (rotary_emb): LlamaRotaryEmbedding()\n",
       "        )\n",
       "        (mlp): LlamaMLP(\n",
       "          (gate_proj): Linear(in_features=3072, out_features=8192, bias=False)\n",
       "          (up_proj): Linear(in_features=3072, out_features=8192, bias=False)\n",
       "          (down_proj): Linear(in_features=8192, out_features=3072, bias=False)\n",
       "          (act_fn): SiLU()\n",
       "        )\n",
       "        (input_layernorm): LlamaRMSNorm((3072,), eps=1e-05)\n",
       "        (post_attention_layernorm): LlamaRMSNorm((3072,), eps=1e-05)\n",
       "      )\n",
       "    )\n",
       "    (norm): LlamaRMSNorm((3072,), eps=1e-05)\n",
       "    (rotary_emb): LlamaRotaryEmbedding()\n",
       "  )\n",
       "  (lm_head): Linear(in_features=3072, out_features=128256, bias=False)\n",
       ")"
      ]
     },
     "execution_count": 10,
     "metadata": {},
     "output_type": "execute_result"
    }
   ],
   "source": [
    "import torch\n",
    "from transformers import AutoTokenizer, AutoModelForCausalLM\n",
    "\n",
    "model_id = 'Bllossom/llama-3.2-Korean-Bllossom-3B' # 'beomi/Llama-3-Open-Ko-8B'\n",
    "\n",
    "tokenizer = AutoTokenizer.from_pretrained(model_id)\n",
    "model = AutoModelForCausalLM.from_pretrained(\n",
    "    model_id,\n",
    "    torch_dtype=torch.float16,\n",
    "    device_map='auto'\n",
    ")\n",
    "\n",
    "model.eval()"
   ]
  },
  {
   "cell_type": "code",
   "execution_count": 22,
   "metadata": {},
   "outputs": [
    {
     "data": {
      "application/vnd.jupyter.widget-view+json": {
       "model_id": "fc14670683614551aa5782ac75039707",
       "version_major": 2,
       "version_minor": 0
      },
      "text/plain": [
       "  0%|          | 0/7 [00:00<?, ?it/s]"
      ]
     },
     "metadata": {},
     "output_type": "display_data"
    },
    {
     "data": {
      "application/vnd.jupyter.widget-view+json": {
       "model_id": "682359ebfbcd46cc9dbf54f7f5c23e7b",
       "version_major": 2,
       "version_minor": 0
      },
      "text/plain": [
       "label=0:   0%|          | 0/130 [00:00<?, ?it/s]"
      ]
     },
     "metadata": {},
     "output_type": "display_data"
    },
    {
     "data": {
      "application/vnd.jupyter.widget-view+json": {
       "model_id": "fb7fb20aabfa491aa8416ea70c57647f",
       "version_major": 2,
       "version_minor": 0
      },
      "text/plain": [
       "label=1:   0%|          | 0/133 [00:00<?, ?it/s]"
      ]
     },
     "metadata": {},
     "output_type": "display_data"
    },
    {
     "data": {
      "application/vnd.jupyter.widget-view+json": {
       "model_id": "80ed5828f702411bb8bca041ffa443ec",
       "version_major": 2,
       "version_minor": 0
      },
      "text/plain": [
       "label=2:   0%|          | 0/118 [00:00<?, ?it/s]"
      ]
     },
     "metadata": {},
     "output_type": "display_data"
    },
    {
     "data": {
      "application/vnd.jupyter.widget-view+json": {
       "model_id": "09cfe42ae5b24742bdba8b8c4cea3957",
       "version_major": 2,
       "version_minor": 0
      },
      "text/plain": [
       "label=3:   0%|          | 0/124 [00:00<?, ?it/s]"
      ]
     },
     "metadata": {},
     "output_type": "display_data"
    },
    {
     "data": {
      "application/vnd.jupyter.widget-view+json": {
       "model_id": "39e91fbb4ead4a4092f26b5c60ff12cd",
       "version_major": 2,
       "version_minor": 0
      },
      "text/plain": [
       "label=4:   0%|          | 0/160 [00:00<?, ?it/s]"
      ]
     },
     "metadata": {},
     "output_type": "display_data"
    },
    {
     "data": {
      "application/vnd.jupyter.widget-view+json": {
       "model_id": "932f33deb9ab40ca8825245f642290df",
       "version_major": 2,
       "version_minor": 0
      },
      "text/plain": [
       "label=5:   0%|          | 0/155 [00:00<?, ?it/s]"
      ]
     },
     "metadata": {},
     "output_type": "display_data"
    },
    {
     "data": {
      "application/vnd.jupyter.widget-view+json": {
       "model_id": "0f07e637621f443fbce6a8a1d7accaa7",
       "version_major": 2,
       "version_minor": 0
      },
      "text/plain": [
       "label=6:   0%|          | 0/118 [00:00<?, ?it/s]"
      ]
     },
     "metadata": {},
     "output_type": "display_data"
    },
    {
     "data": {
      "text/html": [
       "<div>\n",
       "<style scoped>\n",
       "    .dataframe tbody tr th:only-of-type {\n",
       "        vertical-align: middle;\n",
       "    }\n",
       "\n",
       "    .dataframe tbody tr th {\n",
       "        vertical-align: top;\n",
       "    }\n",
       "\n",
       "    .dataframe thead th {\n",
       "        text-align: right;\n",
       "    }\n",
       "</style>\n",
       "<table border=\"1\" class=\"dataframe\">\n",
       "  <thead>\n",
       "    <tr style=\"text-align: right;\">\n",
       "      <th></th>\n",
       "      <th>ID</th>\n",
       "      <th>text</th>\n",
       "      <th>target</th>\n",
       "      <th>polluted_lv</th>\n",
       "      <th>no_hanja</th>\n",
       "      <th>new_text</th>\n",
       "    </tr>\n",
       "  </thead>\n",
       "  <tbody>\n",
       "    <tr>\n",
       "      <th>0</th>\n",
       "      <td>ynat-v1_train_00000</td>\n",
       "      <td>정i :파1 미사z KT( 이용기간 2e 단] Q분종U2보</td>\n",
       "      <td>4</td>\n",
       "      <td>0.344828</td>\n",
       "      <td>정i 파1 미사z KT 이용기간 2e 단 Q분종U2보</td>\n",
       "      <td>기술 정파 1 미사일 KT 이용기간 2e 단 Q분종 U2 보</td>\n",
       "    </tr>\n",
       "    <tr>\n",
       "      <th>1</th>\n",
       "      <td>ynat-v1_train_00001</td>\n",
       "      <td>K찰.국DLwo 로L3한N% 회장 2 T0&amp;}송=</td>\n",
       "      <td>3</td>\n",
       "      <td>0.500000</td>\n",
       "      <td>K찰국DLwo 로L3한N 회장 2 T0송</td>\n",
       "      <td>사회 K찰국DLwo 로L3한N 회장 2 T0송</td>\n",
       "    </tr>\n",
       "    <tr>\n",
       "      <th>10</th>\n",
       "      <td>ynat-v1_train_00010</td>\n",
       "      <td>oi 매력 R모h츠a열#w3약 &gt;l·주가 고Q/진</td>\n",
       "      <td>5</td>\n",
       "      <td>0.391304</td>\n",
       "      <td>oi 매력 R모h츠a열w3약 l주가 고Q진</td>\n",
       "      <td>경제 oi 매력 R모h츠a열w3약 주가 고Q진</td>\n",
       "    </tr>\n",
       "    <tr>\n",
       "      <th>13</th>\n",
       "      <td>ynat-v1_train_00013</td>\n",
       "      <td>아이`XSI수리0* b대`…맥3 디dF레&lt; 41/'</td>\n",
       "      <td>4</td>\n",
       "      <td>0.476190</td>\n",
       "      <td>아이XSI수리0 b대맥3 디dF레 41</td>\n",
       "      <td>기술 AI XSI 수리 0 대 맥 3 디드 F 레 41</td>\n",
       "    </tr>\n",
       "    <tr>\n",
       "      <th>14</th>\n",
       "      <td>ynat-v1_train_00014</td>\n",
       "      <td>문/인 당2 4nS 민관2동7사위 /\"X보 철거tt</td>\n",
       "      <td>2</td>\n",
       "      <td>0.360000</td>\n",
       "      <td>문인 당2 4nS 민관2동7사위 X보 철거tt</td>\n",
       "      <td>문인 당2 4nS 민관2동7사위 X보 철거tt (문인 당 2명, 민관 2동 7사위 ...</td>\n",
       "    </tr>\n",
       "  </tbody>\n",
       "</table>\n",
       "</div>"
      ],
      "text/plain": [
       "                     ID                              text  target  \\\n",
       "0   ynat-v1_train_00000  정i :파1 미사z KT( 이용기간 2e 단] Q분종U2보       4   \n",
       "1   ynat-v1_train_00001       K찰.국DLwo 로L3한N% 회장 2 T0&}송=       3   \n",
       "10  ynat-v1_train_00010       oi 매력 R모h츠a열#w3약 >l·주가 고Q/진       5   \n",
       "13  ynat-v1_train_00013      아이`XSI수리0* b대`…맥3 디dF레< 41/'       4   \n",
       "14  ynat-v1_train_00014      문/인 당2 4nS 민관2동7사위 /\"X보 철거tt       2   \n",
       "\n",
       "    polluted_lv                       no_hanja  \\\n",
       "0      0.344828  정i 파1 미사z KT 이용기간 2e 단 Q분종U2보   \n",
       "1      0.500000         K찰국DLwo 로L3한N 회장 2 T0송   \n",
       "10     0.391304        oi 매력 R모h츠a열w3약 l주가 고Q진   \n",
       "13     0.476190          아이XSI수리0 b대맥3 디dF레 41   \n",
       "14     0.360000      문인 당2 4nS 민관2동7사위 X보 철거tt   \n",
       "\n",
       "                                             new_text  \n",
       "0                   기술 정파 1 미사일 KT 이용기간 2e 단 Q분종 U2 보  \n",
       "1                           사회 K찰국DLwo 로L3한N 회장 2 T0송  \n",
       "10                          경제 oi 매력 R모h츠a열w3약 주가 고Q진  \n",
       "13                     기술 AI XSI 수리 0 대 맥 3 디드 F 레 41  \n",
       "14  문인 당2 4nS 민관2동7사위 X보 철거tt (문인 당 2명, 민관 2동 7사위 ...  "
      ]
     },
     "execution_count": 22,
     "metadata": {},
     "output_type": "execute_result"
    }
   ],
   "source": [
    "import json\n",
    "from tqdm.notebook import tqdm\n",
    "\n",
    "with open('key_maps.json', 'r', encoding='utf-8') as f:\n",
    "    key_maps = json.load(f)\n",
    "\n",
    "terminators = [\n",
    "    tokenizer.convert_tokens_to_ids(\"<|end_of_text|>\"),\n",
    "    tokenizer.convert_tokens_to_ids(\"<|eot_id|>\")\n",
    "]\n",
    "\n",
    "train['new_text'] = None\n",
    "for idx, key in tqdm(enumerate(key_maps.values()), total=len(key_maps), position=0):\n",
    "    PROMPT = f'''당신은 기사 제목을 복원하는 전문가입니다.\n",
    "    1. 키워드는 '{key}'입니다.\n",
    "    2. 어색한 문맥을 키워드를 참고하여 올바르게 고치세요.\n",
    "    3. 복원이 안 되거나 일부만 가능할 경우, 해당 키워드를 포함한 형태로 대체하세요.'''\n",
    "\n",
    "    fewshot = [\n",
    "        {\"role\": \"user\", \"content\": \"해외로밍 m금폭탄 n동차단 더 빨진다\"},\n",
    "        {\"role\": \"assistant\", \"content\": \"해외로밍 요금 폭탄 자동차단 더 빨라진다\"},\n",
    "        # {\"role\": \"user\", \"content\": \"갤노트8 주말 27만대 개통시장은 불법 보조금 얼룩\"},\n",
    "        # {\"role\": \"assistant\", \"content\": \"갤노트8 주말 27만대 개통시장은 불법 보조금 얼룩\"},\n",
    "        {\"role\": \"user\", \"content\": \"코z나0i9규직Zj정규직 E문R비교\"},\n",
    "        {\"role\": \"assistant\", \"content\": f\"{key}코로나 정규직 비정규직 E문R비교\"},\n",
    "        {\"role\": \"user\", \"content\": \"정i 파1 미사z KT 이용기간 2e 단 Q분종U2보\"},\n",
    "        {\"role\": \"assistant\", \"content\": f\"{key} 정i 파1 미사z KT 이용기간 2e 단 Q분종U2보\"}\n",
    "    ]\n",
    "\n",
    "    key_target = target[target['target']==idx]\n",
    "    for data in tqdm(key_target.iterrows(), desc=f'label={idx}', total=len(key_target), position=1, leave=False):\n",
    "        data = data[1]\n",
    "        \n",
    "        messages = [{\"role\": \"system\", \"content\": PROMPT}] + fewshot + [{\"role\": \"user\", \"content\": data['no_hanja']}]\n",
    "        \n",
    "        input_ids = tokenizer.apply_chat_template(\n",
    "            messages,\n",
    "            add_generation_prompt=True,\n",
    "            return_tensors='pt'\n",
    "        ).to(model.device)\n",
    "\n",
    "        outputs = model.generate(\n",
    "            input_ids,\n",
    "            max_new_tokens=1024,\n",
    "            eos_token_id=terminators,\n",
    "            pad_token_id=tokenizer.eos_token_id,\n",
    "            do_sample=True,\n",
    "            temperature=0.6,\n",
    "            top_p=0.9\n",
    "        )\n",
    "\n",
    "        result = tokenizer.decode(outputs[0][input_ids.shape[-1]:], skip_special_tokens=True)\n",
    "        # print(data['no_hanja'])\n",
    "        # print(result)\n",
    "        # print()\n",
    "        train.loc[train['ID']==data['ID'], 'new_text'] = result\n",
    "\n",
    "# train.head()\n",
    "train[train['polluted_lv']>0.3].head()"
   ]
  },
  {
   "cell_type": "code",
   "execution_count": null,
   "metadata": {},
   "outputs": [],
   "source": [
    "for data in train.iterrows():\n",
    "    data = data[1]\n",
    "    if data['new_text'] is not None:\n",
    "        train.loc[train['ID']==data['ID'], 'text'] = data['new_text']\n",
    "\n",
    "train = train.drop(columns=['new_text', 'no_hanja'])\n",
    "train.to_csv('../../v3-label_txt/train.csv', index=False)"
   ]
  }
 ],
 "metadata": {
  "kernelspec": {
   "display_name": "base",
   "language": "python",
   "name": "python3"
  },
  "language_info": {
   "codemirror_mode": {
    "name": "ipython",
    "version": 3
   },
   "file_extension": ".py",
   "mimetype": "text/x-python",
   "name": "python",
   "nbconvert_exporter": "python",
   "pygments_lexer": "ipython3",
   "version": "3.10.13"
  }
 },
 "nbformat": 4,
 "nbformat_minor": 2
}
